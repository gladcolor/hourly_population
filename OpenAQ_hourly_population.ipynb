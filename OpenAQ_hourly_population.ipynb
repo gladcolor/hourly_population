{
 "cells": [
  {
   "cell_type": "code",
   "execution_count": null,
   "id": "1c92128a-2c52-4ca1-ac20-fc50d69d9f6b",
   "metadata": {},
   "outputs": [],
   "source": [
    "save_dir = r'D:\\OneDrive_PSU\\OneDrive - The Pennsylvania State University\\Research_data\\Wild_fire\\OpenAQ'\n",
    "year = 2023\n",
    "month = 6\n"
   ]
  }
 ],
 "metadata": {
  "kernelspec": {
   "display_name": "geo",
   "language": "python",
   "name": "geo"
  },
  "language_info": {
   "codemirror_mode": {
    "name": "ipython",
    "version": 3
   },
   "file_extension": ".py",
   "mimetype": "text/x-python",
   "name": "python",
   "nbconvert_exporter": "python",
   "pygments_lexer": "ipython3",
   "version": "3.9.18"
  }
 },
 "nbformat": 4,
 "nbformat_minor": 5
}
