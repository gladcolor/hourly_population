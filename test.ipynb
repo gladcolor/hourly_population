{
 "cells": [
  {
   "cell_type": "code",
   "execution_count": 1,
   "id": "ae550a08-7ea1-46de-a56c-db59a99a98e9",
   "metadata": {
    "execution": {
     "iopub.execute_input": "2023-10-07T15:13:17.812615Z",
     "iopub.status.busy": "2023-10-07T15:13:17.812615Z",
     "iopub.status.idle": "2023-10-07T15:13:17.937398Z",
     "shell.execute_reply": "2023-10-07T15:13:17.937398Z",
     "shell.execute_reply.started": "2023-10-07T15:13:17.812615Z"
    },
    "tags": []
   },
   "outputs": [],
   "source": [
    "import numpy as np"
   ]
  },
  {
   "cell_type": "code",
   "execution_count": 2,
   "id": "f5fac4b3-7943-43db-a9f4-e1b7bba13d5b",
   "metadata": {
    "execution": {
     "iopub.execute_input": "2023-10-07T15:13:19.238246Z",
     "iopub.status.busy": "2023-10-07T15:13:19.237246Z",
     "iopub.status.idle": "2023-10-07T15:13:20.140687Z",
     "shell.execute_reply": "2023-10-07T15:13:20.140687Z",
     "shell.execute_reply.started": "2023-10-07T15:13:19.238246Z"
    },
    "tags": []
   },
   "outputs": [],
   "source": [
    "arr = np.random.rand(220666, 720)"
   ]
  },
  {
   "cell_type": "code",
   "execution_count": 3,
   "id": "acaf761a-22ac-447a-9812-c88883d8c404",
   "metadata": {
    "execution": {
     "iopub.execute_input": "2023-10-07T15:13:35.754154Z",
     "iopub.status.busy": "2023-10-07T15:13:35.754154Z",
     "iopub.status.idle": "2023-10-07T15:13:35.774670Z",
     "shell.execute_reply": "2023-10-07T15:13:35.774670Z",
     "shell.execute_reply.started": "2023-10-07T15:13:35.754154Z"
    },
    "tags": []
   },
   "outputs": [
    {
     "data": {
      "text/plain": [
       "array([[0.05677109, 0.46248699, 0.04068675, ..., 0.25358432, 0.177565  ,\n",
       "        0.3417935 ],\n",
       "       [0.52966712, 0.84340347, 0.42681369, ..., 0.27401762, 0.02437822,\n",
       "        0.24952454],\n",
       "       [0.62384788, 0.70691237, 0.76058138, ..., 0.79694869, 0.50389876,\n",
       "        0.63843348],\n",
       "       ...,\n",
       "       [0.48077788, 0.42143254, 0.06386914, ..., 0.00869953, 0.82784263,\n",
       "        0.3914151 ],\n",
       "       [0.58366727, 0.39257921, 0.4625039 , ..., 0.92712852, 0.46281072,\n",
       "        0.57155358],\n",
       "       [0.25444615, 0.05784642, 0.90361422, ..., 0.86828067, 0.70936281,\n",
       "        0.30098421]])"
      ]
     },
     "execution_count": 3,
     "metadata": {},
     "output_type": "execute_result"
    }
   ],
   "source": [
    "arr"
   ]
  },
  {
   "cell_type": "code",
   "execution_count": null,
   "id": "2b60e1b3-777b-4496-a894-4f550fc28b9b",
   "metadata": {},
   "outputs": [],
   "source": []
  }
 ],
 "metadata": {
  "kernelspec": {
   "display_name": "geo",
   "language": "python",
   "name": "geo"
  },
  "language_info": {
   "codemirror_mode": {
    "name": "ipython",
    "version": 3
   },
   "file_extension": ".py",
   "mimetype": "text/x-python",
   "name": "python",
   "nbconvert_exporter": "python",
   "pygments_lexer": "ipython3",
   "version": "3.10.12"
  }
 },
 "nbformat": 4,
 "nbformat_minor": 5
}
