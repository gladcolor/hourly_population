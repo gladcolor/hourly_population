{
 "cells": [
  {
   "cell_type": "code",
   "execution_count": 5,
   "id": "2172f790-c545-4f43-9496-5f703c8fcfd2",
   "metadata": {},
   "outputs": [],
   "source": [
    "# ! pip install keplergl\n",
    "# ! conda install -c conda-forge keplergl\n"
   ]
  },
  {
   "cell_type": "code",
   "execution_count": 3,
   "id": "b5df29a2-5343-4698-ae73-f6da33eaa474",
   "metadata": {},
   "outputs": [
    {
     "name": "stderr",
     "output_type": "stream",
     "text": [
      "\u001b[33m(Deprecated) Installing extensions with the jupyter labextension install command is now deprecated and will be removed in a future major version of JupyterLab.\n",
      "\n",
      "Users should manage prebuilt extensions with package managers like pip and conda, and extension authors are encouraged to distribute their extensions as prebuilt packages \u001b[0m\n",
      "d:\\ProgramData\\anaconda3\\envs\\geo2\\lib\\site-packages\\jupyterlab\\debuglog.py:56: UserWarning: An error occurred.\n",
      "  warnings.warn(\"An error occurred.\")\n",
      "d:\\ProgramData\\anaconda3\\envs\\geo2\\lib\\site-packages\\jupyterlab\\debuglog.py:57: UserWarning: ValueError: Please install Node.js and npm before continuing installation. You may be able to install Node.js from your package manager, from conda, or directly from the Node.js website (https://nodejs.org).\n",
      "  warnings.warn(msg[-1].strip())\n",
      "d:\\ProgramData\\anaconda3\\envs\\geo2\\lib\\site-packages\\jupyterlab\\debuglog.py:58: UserWarning: See the log file for details: C:\\Users\\A\\AppData\\Local\\Temp\\jupyterlab-debug-abckvfv1.log\n",
      "  warnings.warn(f\"See the log file for details: {log_path!s}\")\n"
     ]
    }
   ],
   "source": [
    "! jupyter labextension install @jupyter-widgets/jupyterlab-manager keplergl-jupyter"
   ]
  },
  {
   "cell_type": "code",
   "execution_count": 4,
   "id": "eb882c97-45d8-4989-8cc6-3a3929427bd4",
   "metadata": {},
   "outputs": [
    {
     "name": "stdout",
     "output_type": "stream",
     "text": [
      "User Guide: https://docs.kepler.gl/docs/keplergl-jupyter\n"
     ]
    },
    {
     "data": {
      "application/vnd.jupyter.widget-view+json": {
       "model_id": "f343bbe18c3a46f5a64bf1c7016954e4",
       "version_major": 2,
       "version_minor": 0
      },
      "text/plain": [
       "KeplerGl()"
      ]
     },
     "metadata": {},
     "output_type": "display_data"
    }
   ],
   "source": [
    "# Load kepler.gl with an empty map\n",
    "from keplergl import KeplerGl\n",
    "map_1 = KeplerGl(height=400)\n",
    "map_1\n",
    "\n",
    "# map_2 = KeplerGl(height=400, config=config)\n",
    "# map_2"
   ]
  },
  {
   "cell_type": "code",
   "execution_count": null,
   "id": "77e780c3-14eb-44b0-ba73-27bb29881018",
   "metadata": {},
   "outputs": [],
   "source": [
    "# Load a map with data and config and height\n",
    "from keplergl import KeplerGl\n",
    "map_2 = KeplerGl(height=400)\n",
    "map_2"
   ]
  },
  {
   "cell_type": "code",
   "execution_count": 1,
   "id": "f67fe5d0-f624-43db-91fe-5064a518132d",
   "metadata": {},
   "outputs": [
    {
     "data": {
      "application/vnd.jupyter.widget-view+json": {
       "model_id": "3605978f785e4d03ae5360e49b1af60e",
       "version_major": 2,
       "version_minor": 0
      },
      "text/plain": [
       "IntSlider(value=0)"
      ]
     },
     "metadata": {},
     "output_type": "display_data"
    }
   ],
   "source": [
    "import ipywidgets as widgets\n",
    "from IPython.display import display\n",
    "\n",
    "w = widgets.IntSlider()\n",
    "display(w)\n"
   ]
  },
  {
   "cell_type": "code",
   "execution_count": null,
   "id": "5bff944b-514b-40a6-812e-fe1ec9e8347e",
   "metadata": {},
   "outputs": [],
   "source": [
    "! conda install ipywidgets==7.8.0 \n",
    "# ! pip install widgetsnbextension >= 4.0\n"
   ]
  },
  {
   "cell_type": "code",
   "execution_count": null,
   "id": "d6b95de9-bba2-4a97-b225-d3d9e7fe676f",
   "metadata": {},
   "outputs": [],
   "source": []
  },
  {
   "cell_type": "code",
   "execution_count": 1,
   "id": "ddbf3db0-2c40-4a3d-968a-b0adc565903d",
   "metadata": {},
   "outputs": [],
   "source": [
    "import geopandas as gpd"
   ]
  }
 ],
 "metadata": {
  "kernelspec": {
   "display_name": "geo",
   "language": "python",
   "name": "geo"
  },
  "language_info": {
   "codemirror_mode": {
    "name": "ipython",
    "version": 3
   },
   "file_extension": ".py",
   "mimetype": "text/x-python",
   "name": "python",
   "nbconvert_exporter": "python",
   "pygments_lexer": "ipython3",
   "version": "3.9.18"
  }
 },
 "nbformat": 4,
 "nbformat_minor": 5
}
