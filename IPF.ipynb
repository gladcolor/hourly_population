{
 "cells": [
  {
   "cell_type": "code",
   "execution_count": 1,
   "id": "da314293-66b8-44cd-afec-34c3568ce702",
   "metadata": {
    "execution": {
     "iopub.execute_input": "2024-01-21T18:21:11.855134Z",
     "iopub.status.busy": "2024-01-21T18:21:11.854158Z",
     "iopub.status.idle": "2024-01-21T18:21:11.987800Z",
     "shell.execute_reply": "2024-01-21T18:21:11.987800Z",
     "shell.execute_reply.started": "2024-01-21T18:21:11.855134Z"
    },
    "tags": []
   },
   "outputs": [],
   "source": [
    "import numpy as np"
   ]
  },
  {
   "cell_type": "code",
   "execution_count": 4,
   "id": "8a06baad-8d5c-4261-88d5-60d8f7c7eccd",
   "metadata": {
    "execution": {
     "iopub.execute_input": "2024-01-21T18:22:28.851668Z",
     "iopub.status.busy": "2024-01-21T18:22:28.851668Z",
     "iopub.status.idle": "2024-01-21T18:22:28.866644Z",
     "shell.execute_reply": "2024-01-21T18:22:28.865675Z",
     "shell.execute_reply.started": "2024-01-21T18:22:28.851668Z"
    },
    "tags": []
   },
   "outputs": [],
   "source": [
    "arr = np.zeros((720, 230000))"
   ]
  },
  {
   "cell_type": "code",
   "execution_count": 8,
   "id": "fb953460-e403-4fd8-822a-4a4bf2189292",
   "metadata": {
    "execution": {
     "iopub.execute_input": "2024-01-21T18:23:51.740051Z",
     "iopub.status.busy": "2024-01-21T18:23:51.740051Z",
     "iopub.status.idle": "2024-01-21T18:23:51.750051Z",
     "shell.execute_reply": "2024-01-21T18:23:51.749052Z",
     "shell.execute_reply.started": "2024-01-21T18:23:51.740051Z"
    },
    "tags": []
   },
   "outputs": [
    {
     "data": {
      "text/plain": [
       "1324800.0"
      ]
     },
     "execution_count": 8,
     "metadata": {},
     "output_type": "execute_result"
    }
   ],
   "source": [
    "arr.nbytes / 1000"
   ]
  }
 ],
 "metadata": {
  "kernelspec": {
   "display_name": "geo",
   "language": "python",
   "name": "geo"
  },
  "language_info": {
   "codemirror_mode": {
    "name": "ipython",
    "version": 3
   },
   "file_extension": ".py",
   "mimetype": "text/x-python",
   "name": "python",
   "nbconvert_exporter": "python",
   "pygments_lexer": "ipython3",
   "version": "3.9.18"
  }
 },
 "nbformat": 4,
 "nbformat_minor": 5
}
