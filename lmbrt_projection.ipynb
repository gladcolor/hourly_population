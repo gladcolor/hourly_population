{
 "cells": [
  {
   "cell_type": "code",
   "execution_count": 12,
   "id": "821f9b76",
   "metadata": {},
   "outputs": [],
   "source": [
    "#import xarray as xr\n",
    "import pandas as pd\n",
    "#import rioxarray as rxr\n",
    "import cartopy\n",
    "import matplotlib.pyplot as plt\n",
    "import geopandas as gpd\n",
    "#from shapely.geometry import Point, LineString, shape\n",
    "import pyproj\n",
    "from shapely.geometry import Polygon\n",
    "import numpy as np"
   ]
  },
  {
   "cell_type": "code",
   "execution_count": 20,
   "id": "e01c768c",
   "metadata": {},
   "outputs": [],
   "source": [
    "# wrf=xr.open_dataset(\"C:/Shiyan/dissertation/data/pm25/wrf_chem/wrfout_hourly_d01_2021-01-01_01-00-00.nc\")\n",
    "# wrf_la = wrf[['PM2_5_DRY_SFC']]\n",
    "\n",
    "la=gpd.read_file('C:/Shiyan/dissertation/data/LA/County_Boundary.shp')\n",
    "ss=gpd.read_file('C:/Shiyan/dissertation/data/locations/ppa_epa_loc_wgs.geojson')\n",
    "wrf=gpd.read_file('C:/Shiyan/dissertation/data/locations/wrf_loc_wgs.geojson')"
   ]
  },
  {
   "cell_type": "code",
   "execution_count": 21,
   "id": "663b5616",
   "metadata": {},
   "outputs": [
    {
     "data": {
      "text/plain": [
       "<Geographic 2D CRS: EPSG:4326>\n",
       "Name: WGS 84\n",
       "Axis Info [ellipsoidal]:\n",
       "- Lat[north]: Geodetic latitude (degree)\n",
       "- Lon[east]: Geodetic longitude (degree)\n",
       "Area of Use:\n",
       "- name: World.\n",
       "- bounds: (-180.0, -90.0, 180.0, 90.0)\n",
       "Datum: World Geodetic System 1984 ensemble\n",
       "- Ellipsoid: WGS 84\n",
       "- Prime Meridian: Greenwich"
      ]
     },
     "execution_count": 21,
     "metadata": {},
     "output_type": "execute_result"
    }
   ],
   "source": [
    "ss.crs"
   ]
  },
  {
   "cell_type": "code",
   "execution_count": 3,
   "id": "27f377f7",
   "metadata": {},
   "outputs": [],
   "source": [
    "# sensor = gpd.read_file('C:/Shiyan/dissertation/data/pm25/sensor_location/ppa_epa_prj.geojson')\n",
    "# gdf_s = sensor[['single_id','lat','lng']]\n",
    "\n",
    "# sgdf = gpd.GeoDataFrame(\n",
    "#     gdf_s, geometry=gpd.points_from_xy(gdf_s.lng, gdf_s.lat))\n",
    "\n",
    "# ssrgdf = sgdf.set_crs('EPSG:4326')\n",
    "\n",
    "# ssrgdf.to_file('C:/Shiyan/dissertation/data/locations/ppa_epa_loc_wgs.geojson')"
   ]
  },
  {
   "cell_type": "code",
   "execution_count": 4,
   "id": "3fb226d9",
   "metadata": {},
   "outputs": [],
   "source": [
    "# min_lat = 32.6\n",
    "# max_lat = 35.0\n",
    "# min_lon = -119.0\n",
    "# max_lon = -117.5\n",
    "\n",
    "# #wrf2 = wrf2.where((wrf2['XLAT'] >= min_lat) & (wrf2['XLAT'] <= max_lat) & (wrf2['XLONG'] <= max_long) & (wrf2['XLONG'] >= min_long))\n",
    "# mask_lon = (wrf_la.XLONG >= min_lon) & (wrf_la.XLONG <= max_lon)\n",
    "# mask_lat = (wrf_la.XLAT >= min_lat) & (wrf_la.XLAT <= max_lat)\n",
    "\n",
    "# cropped_ds = wrf_la.where(mask_lon & mask_lat, drop=True)"
   ]
  },
  {
   "cell_type": "code",
   "execution_count": 5,
   "id": "a88cd066",
   "metadata": {},
   "outputs": [],
   "source": [
    "# cropped_ds['PM2_5_DRY_SFC'].plot()"
   ]
  },
  {
   "cell_type": "code",
   "execution_count": 6,
   "id": "6b3dc3d2",
   "metadata": {},
   "outputs": [],
   "source": [
    "# df = cropped_ds.to_dataframe().reset_index()\n",
    "# wgdf = gpd.GeoDataFrame(\n",
    "#     df, geometry=gpd.points_from_xy(df.XLONG, df.XLAT))\n",
    "\n",
    "# wrgdf = wgdf.set_crs('EPSG:4326')\n",
    "# wrgdf.to_file('C:/Shiyan/dissertation/data/locations/wrf_loc_wgs.geojson')"
   ]
  },
  {
   "cell_type": "code",
   "execution_count": 28,
   "id": "f1bc4039",
   "metadata": {},
   "outputs": [],
   "source": [
    "\n",
    "#crs.to_epsg()"
   ]
  },
  {
   "cell_type": "code",
   "execution_count": 54,
   "id": "6d155087",
   "metadata": {},
   "outputs": [],
   "source": [
    "proj_daymet = \"+proj=lcc +lat_0=42.5 +lon_0=-100 +lat_1=40 +lat_2=70.5 +x_0=0 +y_0=0 +datum=WGS84 +units=m +no_defs\"\n",
    "# #\"+proj=lcc +lat_0=42.5 +lon_0=-100 +lat_1=25 +lat_2=60 +x_0=0 +y_0=0 +datum=WGS84 +units=m +no_defs\" #my custom CRS\n",
    "# #''+proj=lcc +lat_0=33.5 +lon_0=-118 +lat_1=33 +lat_2=45 +x_0=0 +y_0=0 +ellps=WGS84 +units=m +no_defs +type=crs''\n",
    "\n",
    "# #lat = 31.177685 \n",
    "# #lon = -87.103554\n",
    "\n",
    "# gdf_pr = pyproj.Proj(proj_daymet)#(df.XLONG, df.XLAT)"
   ]
  },
  {
   "cell_type": "code",
   "execution_count": 55,
   "id": "8b0633e0",
   "metadata": {},
   "outputs": [],
   "source": [
    "# prj = gdf_pr.to_proj4()\n",
    "# prj"
   ]
  },
  {
   "cell_type": "code",
   "execution_count": 41,
   "id": "610c15fe",
   "metadata": {},
   "outputs": [],
   "source": [
    "crs1 = pyproj.CRS.from_user_input(\"+proj=lcc +lat_0=42.5 +lon_0=-100 +lat_1=40 +lat_2=70.5 +x_0=0 +y_0=0 +datum=WGS84 +units=m +no_defs\")"
   ]
  },
  {
   "cell_type": "code",
   "execution_count": 42,
   "id": "2fa4b1be",
   "metadata": {},
   "outputs": [
    {
     "data": {
      "text/plain": [
       "<Projected CRS: +proj=lcc +lat_0=42.5 +lon_0=-100 +lat_1=40 +lat_2 ...>\n",
       "Name: unknown\n",
       "Axis Info [cartesian]:\n",
       "- E[east]: Easting (metre)\n",
       "- N[north]: Northing (metre)\n",
       "Area of Use:\n",
       "- undefined\n",
       "Coordinate Operation:\n",
       "- name: unknown\n",
       "- method: Lambert Conic Conformal (2SP)\n",
       "Datum: World Geodetic System 1984\n",
       "- Ellipsoid: WGS 84\n",
       "- Prime Meridian: Greenwich"
      ]
     },
     "execution_count": 42,
     "metadata": {},
     "output_type": "execute_result"
    }
   ],
   "source": [
    "crs1"
   ]
  },
  {
   "cell_type": "code",
   "execution_count": 43,
   "id": "6e86e3d8",
   "metadata": {},
   "outputs": [],
   "source": [
    "#crs1.pyproj.CRS.from_user_input()()"
   ]
  },
  {
   "cell_type": "code",
   "execution_count": 44,
   "id": "a6a9589c",
   "metadata": {},
   "outputs": [],
   "source": [
    "lalmt = la.to_crs(crs1)\n",
    "wrlmt = wrf.to_crs(crs1)\n",
    "sslmt = ss.to_crs(crs1)"
   ]
  },
  {
   "cell_type": "code",
   "execution_count": 50,
   "id": "5ea5835c",
   "metadata": {},
   "outputs": [],
   "source": [
    "lalmt.to_file('C:/Shiyan/dissertation/data/locations/la_loc_lmbrt.gpkg',driver='GPKG',crs=crs1)\n",
    "wrlmt.to_file('C:/Shiyan/dissertation/data/locations/wrf_loc_lmbrt.gpkg',driver='GPKG',crs=crs1)\n",
    "sslmt.to_file('C:/Shiyan/dissertation/data/locations/ppa_epa_loc_lmbrt.gpkg',driver='GPKG', crs=crs1)"
   ]
  },
  {
   "cell_type": "code",
   "execution_count": 51,
   "id": "0a0627ca",
   "metadata": {},
   "outputs": [],
   "source": [
    "#import geopandas as gpd\n",
    "\n",
    "#points = gpd.read_file('points.shp')\n",
    "xmin,ymin,xmax,ymax =  wrlmt.total_bounds\n",
    "width = 12500\n",
    "height = 12500\n",
    "rows = int(np.ceil(((ymax+6000) - (ymin-6000)) /  height)-1)\n",
    "cols = int(np.ceil(((xmax+6000)-(xmin-6000)) / width)-1)\n",
    "XleftOrigin = xmin-6000\n",
    "XrightOrigin = xmin-6000 + width\n",
    "YtopOrigin = ymax+6000\n",
    "YbottomOrigin = ymax+6000 - height\n",
    "polygons = []\n",
    "for i in range(cols):\n",
    "    Ytop = YtopOrigin\n",
    "    Ybottom =YbottomOrigin\n",
    "    for j in range(rows):\n",
    "        polygons.append(Polygon([(XleftOrigin, Ytop), (XrightOrigin, Ytop), (XrightOrigin, Ybottom), (XleftOrigin, Ybottom)])) \n",
    "        Ytop = Ytop - height\n",
    "        Ybottom = Ybottom - height\n",
    "    XleftOrigin = XleftOrigin + width\n",
    "    XrightOrigin = XrightOrigin + width\n",
    "\n",
    "grid = gpd.GeoDataFrame({'geometry':polygons})\n",
    "grid.to_file(\"C:/Shiyan/dissertation/data/locations/wrf_125grid.gpkg\", driver='GPKG', crs=crs1)"
   ]
  },
  {
   "cell_type": "code",
   "execution_count": 52,
   "id": "acbb9039",
   "metadata": {},
   "outputs": [
    {
     "data": {
      "text/plain": [
       "<Projected CRS: +proj=lcc +lat_0=42.5 +lon_0=-100 +lat_1=40 +lat_2 ...>\n",
       "Name: unknown\n",
       "Axis Info [cartesian]:\n",
       "- E[east]: Easting (metre)\n",
       "- N[north]: Northing (metre)\n",
       "Area of Use:\n",
       "- undefined\n",
       "Coordinate Operation:\n",
       "- name: unknown\n",
       "- method: Lambert Conic Conformal (2SP)\n",
       "Datum: World Geodetic System 1984\n",
       "- Ellipsoid: WGS 84\n",
       "- Prime Meridian: Greenwich"
      ]
     },
     "execution_count": 52,
     "metadata": {},
     "output_type": "execute_result"
    }
   ],
   "source": [
    "sslmt.crs"
   ]
  },
  {
   "cell_type": "code",
   "execution_count": 53,
   "id": "384c90ad",
   "metadata": {},
   "outputs": [
    {
     "data": {
      "text/plain": [
       "<Axes: >"
      ]
     },
     "execution_count": 53,
     "metadata": {},
     "output_type": "execute_result"
    },
    {
     "data": {
      "image/png": "[encoded data removed]",
      "text/plain": [
       "<Figure size 1500x2000 with 1 Axes>"
      ]
     },
     "metadata": {},
     "output_type": "display_data"
    }
   ],
   "source": [
    "ax = wrlmt.plot(color='g', figsize=(15,20))\n",
    "#a.plot(ax=ax, facecolor='none', edgecolor='purple' legend=True)\n",
    "#sslmt.plot(ax=ax)\n",
    "#lalmt.plot(ax=ax, facecolor='none', edgecolor='purple')\n",
    "grid.plot(ax=ax, facecolor='none', edgecolor='r')"
   ]
  },
  {
   "cell_type": "code",
   "execution_count": null,
   "id": "23802219",
   "metadata": {},
   "outputs": [],
   "source": []
  }
 ],
 "metadata": {
  "kernelspec": {
   "display_name": "Python 3 (ipykernel)",
   "language": "python",
   "name": "python3"
  },
  "language_info": {
   "codemirror_mode": {
    "name": "ipython",
    "version": 3
   },
   "file_extension": ".py",
   "mimetype": "text/x-python",
   "name": "python",
   "nbconvert_exporter": "python",
   "pygments_lexer": "ipython3",
   "version": "3.11.5"
  }
 },
 "nbformat": 4,
 "nbformat_minor": 5
}
