{
 "cells": [
  {
   "cell_type": "markdown",
   "id": "09ba05d7-861b-4c68-8445-03d42a46a689",
   "metadata": {},
   "source": [
    "# Tools"
   ]
  },
  {
   "cell_type": "markdown",
   "id": "6292f4f0-1e3e-4d03-9fba-05fab8789fdf",
   "metadata": {},
   "source": [
    "## Data preprocessing"
   ]
  },
  {
   "cell_type": "markdown",
   "id": "5bf63fbb-830d-49e8-b4a2-5607cd31125a",
   "metadata": {},
   "source": [
    "Load a month of monthly Neighborhood Patterns, then prepare data for IPF."
   ]
  },
  {
   "cell_type": "code",
   "execution_count": 1,
   "id": "e5d39544-bd27-43d8-9ab2-1fb6f2f8df33",
   "metadata": {
    "execution": {
     "iopub.execute_input": "2024-01-29T02:05:55.940483Z",
     "iopub.status.busy": "2024-01-29T02:05:55.940483Z",
     "iopub.status.idle": "2024-01-29T02:06:06.225732Z",
     "shell.execute_reply": "2024-01-29T02:06:06.225187Z",
     "shell.execute_reply.started": "2024-01-29T02:05:55.940483Z"
    }
   },
   "outputs": [],
   "source": [
    "%load_ext autoreload\n",
    "%autoreload 2\n",
    "import os\n",
    "import random\n",
    "import sqlite3 \n",
    "import numpy as np\n",
    "import json\n",
    "import math\n",
    "from tqdm.notebook import tqdm\n",
    "from tqdm import tqdm\n",
    "tqdm.pandas()\n",
    "\n",
    "import pandas as pd\n",
    "import geopandas as gpd\n",
    "import matplotlib.pyplot as plt\n",
    "\n",
    "import Advan_operator as ad_op  \n",
    "\n",
    "pd.set_option('display.max_columns', None)"
   ]
  },
  {
   "cell_type": "markdown",
   "id": "e280c518-3999-4183-aa9b-84f609945555",
   "metadata": {},
   "source": [
    "### Load monthly Neighborhood Patterns"
   ]
  },
  {
   "cell_type": "markdown",
   "id": "0b916cd4-d84d-4d57-b428-2dc590e38faa",
   "metadata": {},
   "source": [
    "#### Asign file locations"
   ]
  },
  {
   "cell_type": "code",
   "execution_count": 2,
   "id": "7a0782ae-4f8e-435f-b06a-29f5ecf50bb8",
   "metadata": {
    "execution": {
     "iopub.execute_input": "2024-01-29T02:06:06.226747Z",
     "iopub.status.busy": "2024-01-29T02:06:06.226747Z",
     "iopub.status.idle": "2024-01-29T02:06:06.286868Z",
     "shell.execute_reply": "2024-01-29T02:06:06.286868Z",
     "shell.execute_reply.started": "2024-01-29T02:06:06.226747Z"
    }
   },
   "outputs": [
    {
     "name": "stdout",
     "output_type": "stream",
     "text": [
      "Month directory: F:\\SafeGraph\\Advan_2023_API\\Neighborhood_Patterns\\2023\\09\\01\n",
      "Save_dir directory: D:\\OneDrive_PSU\\OneDrive - The Pennsylvania State University\\Research_doc\\Wild_fire\\hourly_map_test\n",
      "ACS_file: D:\\OneDrive_PSU\\OneDrive - The Pennsylvania State University\\Research_data\\Safegraph_bias\\cbg_acs_2019_county_tract_new20230929_cleaned.csv\n",
      "home_panel file name: D:\\OneDrive_PSU\\OneDrive - The Pennsylvania State University\\Research_doc\\Wild_fire\\Monthly_Patterns_home_panel_summary_2019_2023.zip\n",
      "No dict colum file name: D:\\OneDrive_PSU\\OneDrive - The Pennsylvania State University\\Research_doc\\Wild_fire\\hourly_map_test\\NP_dict_column_2023_09.csv\n",
      "Device home areas file name: D:\\OneDrive_PSU\\OneDrive - The Pennsylvania State University\\Research_doc\\Wild_fire\\hourly_map_test\\NP_split_device_home_areas_2023_09.csv\n",
      "Device person_per_device file name: D:\\OneDrive_PSU\\OneDrive - The Pennsylvania State University\\Research_doc\\Wild_fire\\hourly_map_test\\person_per_device_2023_09.csv\n",
      "Device adjusted_dwelling_time_stop_CBG_fname: D:\\OneDrive_PSU\\OneDrive - The Pennsylvania State University\\Research_doc\\Wild_fire\\hourly_map_test\\adjusted_dwelling_time_stop_CBG_2023_09.csv\n",
      "Device adjusted_dwelling_time_stop_natinol_fname: D:\\OneDrive_PSU\\OneDrive - The Pennsylvania State University\\Research_doc\\Wild_fire\\hourly_map_test\\adjusted_dwelling_time_stop_natinol_2023_09.csv\n",
      "Restored_hourly_vistor_count_CBG file name:    D:\\OneDrive_PSU\\OneDrive - The Pennsylvania State University\\Research_doc\\Wild_fire\\hourly_map_test\\restored_hourly_vistor_count_CBG_2023_09.csv\n",
      "Restored_hourly_vistor_count_target file name: D:\\OneDrive_PSU\\OneDrive - The Pennsylvania State University\\Research_doc\\Wild_fire\\hourly_map_test\\restored_hourly_vistor_count_target_2023_09.csv\n",
      "CBG_device_stop_destination_distribution file name:    D:\\OneDrive_PSU\\OneDrive - The Pennsylvania State University\\Research_doc\\Wild_fire\\hourly_map_test\\CBG_device_stop_destination_distribution_2023_09.csv\n",
      "CBG_device_stop_origin_distribution file name: D:\\OneDrive_PSU\\OneDrive - The Pennsylvania State University\\Research_doc\\Wild_fire\\hourly_map_test\\CBG_device_stop_origin_distribution_2023_09.csv\n",
      "IPF_results file name: D:\\OneDrive_PSU\\OneDrive - The Pennsylvania State University\\Research_doc\\Wild_fire\\hourly_map_test\\IPF_origin_outgoer_hourly_202309.csv\n",
      "CBG hourly population file name: D:\\OneDrive_PSU\\OneDrive - The Pennsylvania State University\\Research_doc\\Wild_fire\\hourly_map_test\\CBG_population_hourly_202309.csv\n",
      "CBG_origin_outbound_distribution_sampling_rate file name: D:\\OneDrive_PSU\\OneDrive - The Pennsylvania State University\\Research_doc\\Wild_fire\\hourly_map_test\\CBG_origin_outbound_distribution_sampling_rate_202309.csv\n"
     ]
    }
   ],
   "source": [
    "data_dir = r'F:\\SafeGraph\\Advan_2023_API\\Neighborhood_Patterns'   # Lenovo\n",
    "\n",
    "\n",
    "# data_dir = r'K:\\SafeGraph\\Advan_2023_API\\Neighborhood_Patterns'   # Dell \n",
    "save_dir = r'D:\\OneDrive_PSU\\OneDrive - The Pennsylvania State University\\Research_doc\\Wild_fire\\hourly_map_test'  # Dell\n",
    "ACS_file = r\"D:\\OneDrive_PSU\\OneDrive - The Pennsylvania State University\\Research_data\\Safegraph_bias\\cbg_acs_2019_county_tract_new20230929_cleaned.csv\"\n",
    "home_panel_fname = f\"D:\\OneDrive_PSU\\OneDrive - The Pennsylvania State University\\Research_doc\\Wild_fire\\Monthly_Patterns_home_panel_summary_2019_2023.zip\"\n",
    "# data_dir = r'F:\\SafeGraph\\Advan_2023_API\\Neighborhood_Patterns'   # Lenovo \n",
    "# save_dir = r'D:\\OneDrive_PSU\\OneDrive - The Pennsylvania State University\\Research_doc\\Wild_fire\\hourly_map_test'  # Lenovo\n",
    "# ACS_file = r\"F:\\Research\\Wild_fire\\cbg_acs_2019_county_tract_new20230929_cleaned.csv\"\n",
    "# home_panel_fname = f\"F:\\SafeGraph\\Advan_2023_API\\Monthly_Patterns_home_panel_summary\\Monthly_Patterns_home_panel_summary_2019_2023.csv\"\n",
    "\n",
    "year = '2023'\n",
    "month = 9\n",
    "\n",
    "\n",
    "\n",
    "\n",
    "month_dir = os.path.join(data_dir, str(year), f'{month:02}', '01')\n",
    "no_dict_colum_fname = os.path.join(save_dir, f\"NP_dict_column_{year}_{month:02}.csv\")\n",
    "device_home_areas_fname = os.path.join(save_dir, f\"NP_split_device_home_areas_{year}_{month:02}.csv\")\n",
    "adjusted_dwelling_time_stop_CBG_fname     = os.path.join(save_dir, f\"adjusted_dwelling_time_stop_CBG_{year}_{month:02}.csv\")\n",
    "adjusted_dwelling_time_stop_natinol_fname = os.path.join(save_dir, f\"adjusted_dwelling_time_stop_natinol_{year}_{month:02}.csv\")\n",
    "person_per_device_fname = os.path.join(save_dir, f\"person_per_device_{year}_{month:02}.csv\")\n",
    "restored_CBG_hourly_vistor_count_fname = os.path.join(save_dir, f\"restored_hourly_vistor_count_CBG_{year}_{month:02}.csv\")\n",
    "restored_target_hourly_vistor_count_fname = os.path.join(save_dir, f\"restored_hourly_vistor_count_target_{year}_{month:02}.csv\")\n",
    "CBG_device_stop_destination_distribution_fname  = os.path.join(save_dir, f\"CBG_device_stop_destination_distribution_{year}_{month:02}.csv\")\n",
    "CBG_device_stop_origin_distribution_fname = os.path.join(save_dir, f\"CBG_device_stop_origin_distribution_{year}_{month:02}.csv\")\n",
    "IPF_results_fname = os.path.join(save_dir, f\"IPF_origin_outgoer_hourly_{year}{month:02}.csv\")\n",
    "CBG_hourly_population_fname = os.path.join(save_dir, f\"CBG_population_hourly_{year}{month:02}.csv\")\n",
    "\n",
    "CBG_origin_outbound_distribution_sampling_rate_fname = os.path.join(save_dir, f\"CBG_origin_outbound_distribution_sampling_rate_{year}{month:02}.csv\")\n",
    "CBG_destination_inbound_per_device_fname = os.path.join(save_dir, f\"CBG_destination_inbound_per_device_{year}{month:02}.csv\")\n",
    "\n",
    "CBG_destination_inbound_fname = os.path.join(save_dir, f\"CBG_destination_inbound_{year}{month:02}.csv\")\n",
    "inbound_hourly_df_fname = os.path.join(save_dir, f\"inbound_hourly_{year}{month:02}.csv\")\n",
    "CBG_agregated_inbound_fname =  os.path.join(save_dir, f\"CBG_agregated_inbound_{year}{month:02}.csv\")\n",
    "hourly_agregated_inbound_fname =  os.path.join(save_dir, f\"hourly_agregated_inbound_{year}{month:02}.csv\")\n",
    "\n",
    " \n",
    "# month_dir = r'K:\\SafeGraph\\Advan_2023_API\\Neighborhood_Patterns\\2023\\06\\01'\n",
    "# CBG_list_fname = r\"D:\\OneDrive_PSU\\OneDrive - The Pennsylvania State University\\Research_doc\\Wild_fire\\ACS_2019_CBG_list.csv\"\n",
    "\n",
    "sqlite_fname = r'F:\\Research\\Wild_fire\\Neighborhood_202306.db'\n",
    "\n",
    "\n",
    "print(\"Month directory:\", month_dir)\n",
    "print(\"Save_dir directory:\", save_dir)\n",
    "print(\"ACS_file:\", ACS_file)\n",
    "print(\"home_panel file name:\", home_panel_fname)\n",
    "\n",
    "print(\"No dict colum file name:\", no_dict_colum_fname)\n",
    "print(\"Device home areas file name:\", device_home_areas_fname)\n",
    "print(\"Device person_per_device file name:\", person_per_device_fname)\n",
    "\n",
    "\n",
    "print(\"Device adjusted_dwelling_time_stop_CBG_fname:\", adjusted_dwelling_time_stop_CBG_fname)\n",
    "print(\"Device adjusted_dwelling_time_stop_natinol_fname:\", adjusted_dwelling_time_stop_natinol_fname)\n",
    "\n",
    "print(\"Restored_hourly_vistor_count_CBG file name:   \", restored_CBG_hourly_vistor_count_fname)\n",
    "print(\"Restored_hourly_vistor_count_target file name:\", restored_target_hourly_vistor_count_fname)\n",
    "\n",
    "print(\"CBG_device_stop_destination_distribution file name:   \", CBG_device_stop_destination_distribution_fname)\n",
    "print(\"CBG_device_stop_origin_distribution file name:\", CBG_device_stop_origin_distribution_fname)\n",
    "\n",
    "print(\"IPF_results file name:\", IPF_results_fname)\n",
    "print(\"CBG hourly population file name:\", CBG_hourly_population_fname)\n",
    "\n",
    "print(\"CBG_origin_outbound_distribution_sampling_rate file name:\", CBG_origin_outbound_distribution_sampling_rate_fname)\n"
   ]
  },
  {
   "cell_type": "markdown",
   "id": "79790bfc-1f6e-457a-b3b6-86a3be6ac297",
   "metadata": {},
   "source": [
    "## Load monthly neighborhood patterns"
   ]
  },
  {
   "cell_type": "code",
   "execution_count": 3,
   "id": "b6214720-2fac-4b58-8ccf-6d03dc30f2dc",
   "metadata": {
    "execution": {
     "iopub.execute_input": "2024-01-29T02:06:06.287901Z",
     "iopub.status.busy": "2024-01-29T02:06:06.287901Z",
     "iopub.status.idle": "2024-01-29T02:06:07.493669Z",
     "shell.execute_reply": "2024-01-29T02:06:07.486671Z",
     "shell.execute_reply.started": "2024-01-29T02:06:06.287901Z"
    }
   },
   "outputs": [
    {
     "ename": "ValueError",
     "evalue": "No objects to concatenate",
     "output_type": "error",
     "traceback": [
      "\u001b[1;31m---------------------------------------------------------------------------\u001b[0m",
      "\u001b[1;31mValueError\u001b[0m                                Traceback (most recent call last)",
      "Cell \u001b[1;32mIn[3], line 8\u001b[0m\n\u001b[0;32m      1\u001b[0m use_cols \u001b[38;5;241m=\u001b[39m  [\u001b[38;5;124m'\u001b[39m\u001b[38;5;124mAREA\u001b[39m\u001b[38;5;124m'\u001b[39m, \n\u001b[0;32m      2\u001b[0m              \u001b[38;5;124m\"\u001b[39m\u001b[38;5;124mDEVICE_HOME_AREAS\u001b[39m\u001b[38;5;124m\"\u001b[39m,\n\u001b[0;32m      3\u001b[0m             \u001b[38;5;124m\"\u001b[39m\u001b[38;5;124mSTOPS_BY_DAY\u001b[39m\u001b[38;5;124m\"\u001b[39m, \n\u001b[1;32m   (...)\u001b[0m\n\u001b[0;32m      6\u001b[0m             \u001b[38;5;124m\"\u001b[39m\u001b[38;5;124mMEDIAN_DWELL\u001b[39m\u001b[38;5;124m\"\u001b[39m, \n\u001b[0;32m      7\u001b[0m             \u001b[38;5;124m\"\u001b[39m\u001b[38;5;124mSTOPS_BY_EACH_HOUR\u001b[39m\u001b[38;5;124m\"\u001b[39m]\n\u001b[1;32m----> 8\u001b[0m month_df \u001b[38;5;241m=\u001b[39m \u001b[43mad_op\u001b[49m\u001b[38;5;241;43m.\u001b[39;49m\u001b[43mload_neighborhood_monthly_folder\u001b[49m\u001b[43m(\u001b[49m\u001b[43mfolder\u001b[49m\u001b[38;5;241;43m=\u001b[39;49m\u001b[43mmonth_dir\u001b[49m\u001b[43m,\u001b[49m\u001b[43m \u001b[49m\u001b[43mextions\u001b[49m\u001b[38;5;241;43m=\u001b[39;49m\u001b[43m[\u001b[49m\u001b[38;5;124;43m'\u001b[39;49m\u001b[38;5;124;43mgz\u001b[39;49m\u001b[38;5;124;43m'\u001b[39;49m\u001b[43m]\u001b[49m\u001b[43m,\u001b[49m\u001b[43m \u001b[49m\u001b[43muse_cols\u001b[49m\u001b[38;5;241;43m=\u001b[39;49m\u001b[43muse_cols\u001b[49m\u001b[43m,\u001b[49m\u001b[43m \u001b[49m\u001b[43mverbose\u001b[49m\u001b[38;5;241;43m=\u001b[39;49m\u001b[38;5;28;43;01mTrue\u001b[39;49;00m\u001b[43m)\u001b[49m\n\u001b[0;32m      9\u001b[0m month_df \u001b[38;5;241m=\u001b[39m month_df\u001b[38;5;241m.\u001b[39msort_values(\u001b[38;5;124m\"\u001b[39m\u001b[38;5;124mAREA\u001b[39m\u001b[38;5;124m\"\u001b[39m)\n\u001b[0;32m     10\u001b[0m month_df[\u001b[38;5;124m'\u001b[39m\u001b[38;5;124mAREA\u001b[39m\u001b[38;5;124m'\u001b[39m] \u001b[38;5;241m=\u001b[39m month_df[\u001b[38;5;124m'\u001b[39m\u001b[38;5;124mAREA\u001b[39m\u001b[38;5;124m'\u001b[39m]\u001b[38;5;241m.\u001b[39mastype(\u001b[38;5;28mstr\u001b[39m)\u001b[38;5;241m.\u001b[39mstr\u001b[38;5;241m.\u001b[39mzfill(\u001b[38;5;241m12\u001b[39m)\n",
      "File \u001b[1;32mE:\\OneDrive_PSU\\OneDrive - The Pennsylvania State University\\Research_doc\\Wild_fire\\Python_code\\Advan_operator.py:233\u001b[0m, in \u001b[0;36mload_neighborhood_monthly_folder\u001b[1;34m(folder, extions, start_str, use_cols, verbose, test)\u001b[0m\n\u001b[0;32m    230\u001b[0m         logger\u001b[38;5;241m.\u001b[39minfo(f)            \n\u001b[0;32m    231\u001b[0m     logger\u001b[38;5;241m.\u001b[39minfo(\u001b[38;5;124m\"\u001b[39m\u001b[38;5;124mLoading files...\u001b[39m\u001b[38;5;124m\"\u001b[39m)\n\u001b[1;32m--> 233\u001b[0m df \u001b[38;5;241m=\u001b[39m \u001b[43mpd\u001b[49m\u001b[38;5;241;43m.\u001b[39;49m\u001b[43mconcat\u001b[49m\u001b[43m(\u001b[49m\u001b[43m[\u001b[49m\u001b[43mpd\u001b[49m\u001b[38;5;241;43m.\u001b[39;49m\u001b[43mread_csv\u001b[49m\u001b[43m(\u001b[49m\u001b[43mf\u001b[49m\u001b[43m,\u001b[49m\u001b[43m \u001b[49m\u001b[43musecols\u001b[49m\u001b[38;5;241;43m=\u001b[39;49m\u001b[43muse_cols\u001b[49m\u001b[43m)\u001b[49m\u001b[43m \u001b[49m\u001b[38;5;28;43;01mfor\u001b[39;49;00m\u001b[43m \u001b[49m\u001b[43mf\u001b[49m\u001b[43m \u001b[49m\u001b[38;5;129;43;01min\u001b[39;49;00m\u001b[43m \u001b[49m\u001b[43mtarget_files\u001b[49m\u001b[43m[\u001b[49m\u001b[43m:\u001b[49m\u001b[43m]\u001b[49m\u001b[43m]\u001b[49m\u001b[43m)\u001b[49m\n\u001b[0;32m    234\u001b[0m \u001b[38;5;28;01mreturn\u001b[39;00m df\n",
      "File \u001b[1;32me:\\ProgramData\\Anaconda3\\lib\\site-packages\\pandas\\util\\_decorators.py:331\u001b[0m, in \u001b[0;36mdeprecate_nonkeyword_arguments.<locals>.decorate.<locals>.wrapper\u001b[1;34m(*args, **kwargs)\u001b[0m\n\u001b[0;32m    325\u001b[0m \u001b[38;5;28;01mif\u001b[39;00m \u001b[38;5;28mlen\u001b[39m(args) \u001b[38;5;241m>\u001b[39m num_allow_args:\n\u001b[0;32m    326\u001b[0m     warnings\u001b[38;5;241m.\u001b[39mwarn(\n\u001b[0;32m    327\u001b[0m         msg\u001b[38;5;241m.\u001b[39mformat(arguments\u001b[38;5;241m=\u001b[39m_format_argument_list(allow_args)),\n\u001b[0;32m    328\u001b[0m         \u001b[38;5;167;01mFutureWarning\u001b[39;00m,\n\u001b[0;32m    329\u001b[0m         stacklevel\u001b[38;5;241m=\u001b[39mfind_stack_level(),\n\u001b[0;32m    330\u001b[0m     )\n\u001b[1;32m--> 331\u001b[0m \u001b[38;5;28;01mreturn\u001b[39;00m func(\u001b[38;5;241m*\u001b[39margs, \u001b[38;5;241m*\u001b[39m\u001b[38;5;241m*\u001b[39mkwargs)\n",
      "File \u001b[1;32me:\\ProgramData\\Anaconda3\\lib\\site-packages\\pandas\\core\\reshape\\concat.py:368\u001b[0m, in \u001b[0;36mconcat\u001b[1;34m(objs, axis, join, ignore_index, keys, levels, names, verify_integrity, sort, copy)\u001b[0m\n\u001b[0;32m    146\u001b[0m \u001b[38;5;129m@deprecate_nonkeyword_arguments\u001b[39m(version\u001b[38;5;241m=\u001b[39m\u001b[38;5;28;01mNone\u001b[39;00m, allowed_args\u001b[38;5;241m=\u001b[39m[\u001b[38;5;124m\"\u001b[39m\u001b[38;5;124mobjs\u001b[39m\u001b[38;5;124m\"\u001b[39m])\n\u001b[0;32m    147\u001b[0m \u001b[38;5;28;01mdef\u001b[39;00m \u001b[38;5;21mconcat\u001b[39m(\n\u001b[0;32m    148\u001b[0m     objs: Iterable[NDFrame] \u001b[38;5;241m|\u001b[39m Mapping[HashableT, NDFrame],\n\u001b[1;32m   (...)\u001b[0m\n\u001b[0;32m    157\u001b[0m     copy: \u001b[38;5;28mbool\u001b[39m \u001b[38;5;241m=\u001b[39m \u001b[38;5;28;01mTrue\u001b[39;00m,\n\u001b[0;32m    158\u001b[0m ) \u001b[38;5;241m-\u001b[39m\u001b[38;5;241m>\u001b[39m DataFrame \u001b[38;5;241m|\u001b[39m Series:\n\u001b[0;32m    159\u001b[0m \u001b[38;5;250m    \u001b[39m\u001b[38;5;124;03m\"\"\"\u001b[39;00m\n\u001b[0;32m    160\u001b[0m \u001b[38;5;124;03m    Concatenate pandas objects along a particular axis.\u001b[39;00m\n\u001b[0;32m    161\u001b[0m \n\u001b[1;32m   (...)\u001b[0m\n\u001b[0;32m    366\u001b[0m \u001b[38;5;124;03m    1   3   4\u001b[39;00m\n\u001b[0;32m    367\u001b[0m \u001b[38;5;124;03m    \"\"\"\u001b[39;00m\n\u001b[1;32m--> 368\u001b[0m     op \u001b[38;5;241m=\u001b[39m \u001b[43m_Concatenator\u001b[49m\u001b[43m(\u001b[49m\n\u001b[0;32m    369\u001b[0m \u001b[43m        \u001b[49m\u001b[43mobjs\u001b[49m\u001b[43m,\u001b[49m\n\u001b[0;32m    370\u001b[0m \u001b[43m        \u001b[49m\u001b[43maxis\u001b[49m\u001b[38;5;241;43m=\u001b[39;49m\u001b[43maxis\u001b[49m\u001b[43m,\u001b[49m\n\u001b[0;32m    371\u001b[0m \u001b[43m        \u001b[49m\u001b[43mignore_index\u001b[49m\u001b[38;5;241;43m=\u001b[39;49m\u001b[43mignore_index\u001b[49m\u001b[43m,\u001b[49m\n\u001b[0;32m    372\u001b[0m \u001b[43m        \u001b[49m\u001b[43mjoin\u001b[49m\u001b[38;5;241;43m=\u001b[39;49m\u001b[43mjoin\u001b[49m\u001b[43m,\u001b[49m\n\u001b[0;32m    373\u001b[0m \u001b[43m        \u001b[49m\u001b[43mkeys\u001b[49m\u001b[38;5;241;43m=\u001b[39;49m\u001b[43mkeys\u001b[49m\u001b[43m,\u001b[49m\n\u001b[0;32m    374\u001b[0m \u001b[43m        \u001b[49m\u001b[43mlevels\u001b[49m\u001b[38;5;241;43m=\u001b[39;49m\u001b[43mlevels\u001b[49m\u001b[43m,\u001b[49m\n\u001b[0;32m    375\u001b[0m \u001b[43m        \u001b[49m\u001b[43mnames\u001b[49m\u001b[38;5;241;43m=\u001b[39;49m\u001b[43mnames\u001b[49m\u001b[43m,\u001b[49m\n\u001b[0;32m    376\u001b[0m \u001b[43m        \u001b[49m\u001b[43mverify_integrity\u001b[49m\u001b[38;5;241;43m=\u001b[39;49m\u001b[43mverify_integrity\u001b[49m\u001b[43m,\u001b[49m\n\u001b[0;32m    377\u001b[0m \u001b[43m        \u001b[49m\u001b[43mcopy\u001b[49m\u001b[38;5;241;43m=\u001b[39;49m\u001b[43mcopy\u001b[49m\u001b[43m,\u001b[49m\n\u001b[0;32m    378\u001b[0m \u001b[43m        \u001b[49m\u001b[43msort\u001b[49m\u001b[38;5;241;43m=\u001b[39;49m\u001b[43msort\u001b[49m\u001b[43m,\u001b[49m\n\u001b[0;32m    379\u001b[0m \u001b[43m    \u001b[49m\u001b[43m)\u001b[49m\n\u001b[0;32m    381\u001b[0m     \u001b[38;5;28;01mreturn\u001b[39;00m op\u001b[38;5;241m.\u001b[39mget_result()\n",
      "File \u001b[1;32me:\\ProgramData\\Anaconda3\\lib\\site-packages\\pandas\\core\\reshape\\concat.py:425\u001b[0m, in \u001b[0;36m_Concatenator.__init__\u001b[1;34m(self, objs, axis, join, keys, levels, names, ignore_index, verify_integrity, copy, sort)\u001b[0m\n\u001b[0;32m    422\u001b[0m     objs \u001b[38;5;241m=\u001b[39m \u001b[38;5;28mlist\u001b[39m(objs)\n\u001b[0;32m    424\u001b[0m \u001b[38;5;28;01mif\u001b[39;00m \u001b[38;5;28mlen\u001b[39m(objs) \u001b[38;5;241m==\u001b[39m \u001b[38;5;241m0\u001b[39m:\n\u001b[1;32m--> 425\u001b[0m     \u001b[38;5;28;01mraise\u001b[39;00m \u001b[38;5;167;01mValueError\u001b[39;00m(\u001b[38;5;124m\"\u001b[39m\u001b[38;5;124mNo objects to concatenate\u001b[39m\u001b[38;5;124m\"\u001b[39m)\n\u001b[0;32m    427\u001b[0m \u001b[38;5;28;01mif\u001b[39;00m keys \u001b[38;5;129;01mis\u001b[39;00m \u001b[38;5;28;01mNone\u001b[39;00m:\n\u001b[0;32m    428\u001b[0m     objs \u001b[38;5;241m=\u001b[39m \u001b[38;5;28mlist\u001b[39m(com\u001b[38;5;241m.\u001b[39mnot_none(\u001b[38;5;241m*\u001b[39mobjs))\n",
      "\u001b[1;31mValueError\u001b[0m: No objects to concatenate"
     ]
    }
   ],
   "source": [
    "use_cols =  ['AREA', \n",
    "             \"DEVICE_HOME_AREAS\",\n",
    "            \"STOPS_BY_DAY\", \n",
    "            \"RAW_STOP_COUNTS\", \n",
    "            \"RAW_DEVICE_COUNTS\", \n",
    "            \"MEDIAN_DWELL\", \n",
    "            \"STOPS_BY_EACH_HOUR\"]\n",
    "month_df = ad_op.load_neighborhood_monthly_folder(folder=month_dir, extions=['gz'], use_cols=use_cols, verbose=True)\n",
    "month_df = month_df.sort_values(\"AREA\")\n",
    "month_df['AREA'] = month_df['AREA'].astype(str).str.zfill(12)\n",
    "month_df = month_df[use_cols]\n",
    "month_df"
   ]
  },
  {
   "cell_type": "code",
   "execution_count": null,
   "id": "c2037f33-c6d6-43c5-8ed7-d62bbbbbb8d8",
   "metadata": {
    "execution": {
     "iopub.status.busy": "2024-01-29T02:06:07.494669Z",
     "iopub.status.idle": "2024-01-29T02:06:07.495211Z",
     "shell.execute_reply": "2024-01-29T02:06:07.495211Z",
     "shell.execute_reply.started": "2024-01-29T02:06:07.495211Z"
    }
   },
   "outputs": [],
   "source": [
    "print(\"RAW_STOP_COUNTS (billion):\", month_df['RAW_STOP_COUNTS'].sum() / 1000000000)"
   ]
  },
  {
   "cell_type": "markdown",
   "id": "3d4dec6a-0c81-49f9-9393-b1a2e914835f",
   "metadata": {},
   "source": [
    "## Check the total of the hourly stops\n",
    "\n",
    "Usually are 98.9% of the sum of STOPS_BY_EACH_HOUR column"
   ]
  },
  {
   "cell_type": "code",
   "execution_count": null,
   "id": "b440a303-8778-46b8-bf60-2819b17ae37c",
   "metadata": {
    "execution": {
     "iopub.status.busy": "2024-01-29T02:06:07.495211Z",
     "iopub.status.idle": "2024-01-29T02:06:07.496249Z",
     "shell.execute_reply": "2024-01-29T02:06:07.495211Z",
     "shell.execute_reply.started": "2024-01-29T02:06:07.495211Z"
    }
   },
   "outputs": [],
   "source": [
    "def _get_total_hourly_stop(row):\n",
    "    # print(row)\n",
    "    hourly_stop = json.loads(row['STOPS_BY_EACH_HOUR'])\n",
    "    total_stop = sum(hourly_stop)\n",
    "    return total_stop\n",
    "\n",
    "month_df['total_hourly_stop'] = month_df.iloc[:].apply(_get_total_hourly_stop, axis=1)\n",
    "ratio = month_df['total_hourly_stop'].sum() / month_df['RAW_STOP_COUNTS'].sum()\n",
    "\n",
    "print(\"Ratio: total_hourly_stop / RAW_STOP_COUNTS = \", ratio)\n",
    "\n",
    "# the total_hourly_stop is smaller than the RAW_STOP_COUNTS (98.9%)"
   ]
  },
  {
   "cell_type": "markdown",
   "id": "e6a04dc1-3d99-4399-9f6d-02ca3ad9f10d",
   "metadata": {},
   "source": [
    "## Adjust the RAW_STOP_COUNTS by dwellling_time\n",
    "\n",
    "If a stop dwelling > 60 minutes, we add a stop to the next hours. \n",
    "\n",
    "May increase 25% stops."
   ]
  },
  {
   "cell_type": "code",
   "execution_count": null,
   "id": "98741bcf-2a98-4975-b071-122e4890b5d8",
   "metadata": {
    "execution": {
     "iopub.status.busy": "2024-01-29T02:06:07.496249Z",
     "iopub.status.idle": "2024-01-29T02:06:07.497217Z",
     "shell.execute_reply": "2024-01-29T02:06:07.497217Z",
     "shell.execute_reply.started": "2024-01-29T02:06:07.497217Z"
    }
   },
   "outputs": [],
   "source": [
    "non_adjusted_dwell_time_stop_CBG_arr = ad_op.adjust_stop_by_dwelling_time(np_df=month_df.iloc[:], adjust_dwell_time=False, clean_negative=True)\n",
    "print(\"sum of non_adjusted_dwell_time_stop_CBG_arr (billion):\", non_adjusted_dwell_time_stop_CBG_arr.sum().sum()/1000000000)\n",
    "print(\"shape of non_adjusted_dwell_time_stop_CBG_arr:\", non_adjusted_dwell_time_stop_CBG_arr.shape)\n",
    "\n",
    "adjusted_dwell_time_stop_CBG_arr = ad_op.adjust_stop_by_dwelling_time(np_df=month_df.iloc[:], adjust_dwell_time=True, clean_negative=True)\n",
    "\n",
    "adjusted_dwell_time_stop_national_arr = adjusted_dwell_time_stop_CBG_arr.sum(axis=0)\n",
    "\n",
    "month_df['adjusted_raw_stop'] = adjusted_dwell_time_stop_CBG_arr.sum(axis=1)\n",
    "month_df[['adjusted_raw_stop', 'RAW_STOP_COUNTS']].sum() / 1000000000\n",
    "\n",
    "print(\"sum of adjusted_dwell_time_stop_CBG_arr (billion):\", adjusted_dwell_time_stop_CBG_arr.sum().sum()/1000000000)\n",
    "print(\"sum of adjusted_dwell_time_stop_national_arr (billion):\", adjusted_dwell_time_stop_national_arr.sum().sum()/1000000000)\n",
    "print(\"shape of adjusted_dwell_time_stop_CBG_arr:\", adjusted_dwell_time_stop_CBG_arr.shape)"
   ]
  },
  {
   "cell_type": "code",
   "execution_count": null,
   "id": "030a4df2-0f2a-48e9-a161-69a6de1328b1",
   "metadata": {
    "execution": {
     "iopub.status.busy": "2024-01-29T02:06:07.497217Z",
     "iopub.status.idle": "2024-01-29T02:06:07.498216Z",
     "shell.execute_reply": "2024-01-29T02:06:07.498216Z",
     "shell.execute_reply.started": "2024-01-29T02:06:07.498216Z"
    }
   },
   "outputs": [],
   "source": [
    "# month_df"
   ]
  },
  {
   "cell_type": "markdown",
   "id": "a54b43c1-bcc0-465a-afa2-3f1c1246d41f",
   "metadata": {},
   "source": [
    "###　Save adjusted  RAW_STOP_COUNTS "
   ]
  },
  {
   "cell_type": "code",
   "execution_count": null,
   "id": "7e71aa7c-52ed-40c9-aa53-47331b0a5128",
   "metadata": {
    "execution": {
     "iopub.status.busy": "2024-01-29T02:06:07.498216Z",
     "iopub.status.idle": "2024-01-29T02:06:07.499242Z",
     "shell.execute_reply": "2024-01-29T02:06:07.498216Z",
     "shell.execute_reply.started": "2024-01-29T02:06:07.498216Z"
    }
   },
   "outputs": [],
   "source": [
    "# CBG level\n",
    "hourly_columns = [f'hour_{h+1}' for h in range(adjusted_dwell_time_stop_CBG_arr.shape[1])]\n",
    "adjusted_dwelling_time_stop_CBG_df = pd.DataFrame(adjusted_dwell_time_stop_CBG_arr, columns=hourly_columns)\n",
    "adjusted_dwelling_time_stop_CBG_df['CBG'] = month_df['AREA'].astype(str).str.zfill(12).to_list()\n",
    "adjusted_dwelling_time_stop_CBG_df = adjusted_dwelling_time_stop_CBG_df[['CBG'] + hourly_columns]  # reorder columns\n",
    "adjusted_dwelling_time_stop_CBG_df = adjusted_dwelling_time_stop_CBG_df.sort_values('CBG')\n",
    "\n",
    "# national level\n",
    "adjusted_dwelling_time_stop_natinol_df = pd.DataFrame(adjusted_dwell_time_stop_national_arr, columns=['stop'])\n",
    "\n",
    "adjusted_dwelling_time_stop_CBG_df"
   ]
  },
  {
   "cell_type": "code",
   "execution_count": null,
   "id": "03cda8a6-5aca-4621-88f0-ce244bf632aa",
   "metadata": {
    "execution": {
     "iopub.status.busy": "2024-01-29T02:06:07.499242Z",
     "iopub.status.idle": "2024-01-29T02:06:07.500227Z",
     "shell.execute_reply": "2024-01-29T02:06:07.500227Z",
     "shell.execute_reply.started": "2024-01-29T02:06:07.500227Z"
    }
   },
   "outputs": [],
   "source": [
    "adjusted_dwelling_time_stop_natinol_df['stop'].sum() / 10**9"
   ]
  },
  {
   "cell_type": "code",
   "execution_count": null,
   "id": "cf5355df-0623-4950-9c9f-61ac2f72c6c1",
   "metadata": {
    "execution": {
     "iopub.status.busy": "2024-01-29T02:06:07.501228Z",
     "iopub.status.idle": "2024-01-29T02:06:07.501228Z",
     "shell.execute_reply": "2024-01-29T02:06:07.501228Z",
     "shell.execute_reply.started": "2024-01-29T02:06:07.501228Z"
    }
   },
   "outputs": [],
   "source": [
    "# Save CSV files\n",
    "adjusted_dwelling_time_stop_natinol_df.to_csv(adjusted_dwelling_time_stop_natinol_fname, index=False)\n",
    "print(\"Saved national hourly stop at:\", adjusted_dwelling_time_stop_natinol_fname)\n",
    "\n",
    "adjusted_dwelling_time_stop_CBG_df.to_csv(adjusted_dwelling_time_stop_CBG_fname, index=False)\n",
    "print(\"Saved CBG hourly stop at:\", adjusted_dwelling_time_stop_CBG_fname)"
   ]
  },
  {
   "cell_type": "code",
   "execution_count": null,
   "id": "e56498fa-6e42-44ec-8695-f4aa1559d548",
   "metadata": {
    "execution": {
     "iopub.status.busy": "2024-01-29T02:06:07.503217Z",
     "iopub.status.idle": "2024-01-29T02:06:07.503217Z",
     "shell.execute_reply": "2024-01-29T02:06:07.503217Z",
     "shell.execute_reply.started": "2024-01-29T02:06:07.503217Z"
    }
   },
   "outputs": [],
   "source": [
    "adjusted_dwelling_time_stop_natinol_df['stop'].sum() /  10**9, adjusted_dwelling_time_stop_CBG_df.iloc[:, 1:].sum().sum() /  10**9\n"
   ]
  },
  {
   "cell_type": "code",
   "execution_count": null,
   "id": "6bde485e-7378-45cb-befe-cc1ae91e405c",
   "metadata": {
    "execution": {
     "iopub.status.busy": "2024-01-29T02:06:07.505216Z",
     "iopub.status.idle": "2024-01-29T02:06:07.505216Z",
     "shell.execute_reply": "2024-01-29T02:06:07.505216Z",
     "shell.execute_reply.started": "2024-01-29T02:06:07.505216Z"
    }
   },
   "outputs": [],
   "source": [
    " adjusted_dwelling_time_stop_CBG_df"
   ]
  },
  {
   "cell_type": "code",
   "execution_count": null,
   "id": "db2d1259-fc88-4961-933f-4a32ac8e29d2",
   "metadata": {},
   "outputs": [],
   "source": []
  },
  {
   "cell_type": "markdown",
   "id": "41eea241-1e0b-40c9-8a84-5da25dd32815",
   "metadata": {},
   "source": [
    "RAW_STOP_COUNTS is large than the sum(stop) in \"DEVICE_HOME_AREAS\", result_df['stop'].sum() / result_df['RAW_STOP_COUNTS'].sum() = 85%\n",
    "\n",
    "The DEVICE_HOME_AREAS column report less CBGs # thant the RAW_STOP_COUNTS column."
   ]
  },
  {
   "cell_type": "markdown",
   "id": "e27e3329-e783-4649-b370-1728624471a3",
   "metadata": {},
   "source": [
    "### verify the relationship between raw_device_count and the sum of 720 hours."
   ]
  },
  {
   "cell_type": "code",
   "execution_count": null,
   "id": "f464ab0f-6f98-4f28-a8cb-b745d47b45b3",
   "metadata": {
    "execution": {
     "iopub.status.busy": "2024-01-29T02:06:07.506226Z",
     "iopub.status.idle": "2024-01-29T02:06:07.506226Z",
     "shell.execute_reply": "2024-01-29T02:06:07.506226Z",
     "shell.execute_reply.started": "2024-01-29T02:06:07.506226Z"
    },
    "tags": []
   },
   "outputs": [],
   "source": [
    "\n",
    "\n",
    "df = month_df.query(\"120 < MEDIAN_DWELL < 180\")\n",
    "# df = month_df.sample(300)\n",
    "\n",
    "device_home_areas_test_df = ad_op.split_device_home_areas_stops(np_df=df.iloc[:])\n",
    "result_df = device_home_areas_test_df.groupby('destination', as_index=False)[['stop', 'device']].sum().merge(df, left_on='destination', right_on='AREA').drop(columns='AREA')\n",
    "# result_df = result_df[['destination', 'stop', 'RAW_STOP_COUNTS']]    # [['AREA', 'RAW_STOP_COUNTS', 'RAW_DEVICE_COUNTS']]\n",
    "\n",
    "\n",
    "stop_diff = result_df['stop'].sum() / result_df['adjusted_raw_stop'].sum()\n",
    "print(\"stop_diff ratio: \", stop_diff)\n",
    "\n",
    "adjusted_diff = result_df['adjusted_raw_stop'].sum() / result_df['RAW_STOP_COUNTS'].sum()\n",
    "print(\"adjusted stop diff ratio: \", adjusted_diff)\n",
    "\n",
    "device_diff = result_df['device'].sum() / result_df['RAW_DEVICE_COUNTS'].sum()\n",
    "print(\"DEVICE_HOME_AREAS column report less CBGs in RAW_DEVICE_COUNTS column （ratio）: \", device_diff)\n",
    "result_df.head()"
   ]
  },
  {
   "cell_type": "code",
   "execution_count": null,
   "id": "7f6e2b02-8ad8-4c13-abaa-ddece1afea98",
   "metadata": {
    "execution": {
     "iopub.status.busy": "2024-01-29T02:06:07.507216Z",
     "iopub.status.idle": "2024-01-29T02:06:07.507216Z",
     "shell.execute_reply": "2024-01-29T02:06:07.507216Z",
     "shell.execute_reply.started": "2024-01-29T02:06:07.507216Z"
    }
   },
   "outputs": [],
   "source": [
    "# device_home_areas_df"
   ]
  },
  {
   "cell_type": "markdown",
   "id": "33d0f86f-4aa6-4af8-a68f-293bb13c5128",
   "metadata": {},
   "source": [
    "### Save the a single CSV for further use, only keep the non-dictionary columns."
   ]
  },
  {
   "cell_type": "code",
   "execution_count": null,
   "id": "216ac2b8-9378-4698-9a70-94254614084c",
   "metadata": {
    "execution": {
     "iopub.status.busy": "2024-01-29T02:06:07.508215Z",
     "iopub.status.idle": "2024-01-29T02:06:07.508215Z",
     "shell.execute_reply": "2024-01-29T02:06:07.508215Z",
     "shell.execute_reply.started": "2024-01-29T02:06:07.508215Z"
    }
   },
   "outputs": [],
   "source": [
    "non_dict_columns = ['AREA', \n",
    "                    \"STOPS_BY_DAY\", \n",
    "                    \"RAW_STOP_COUNTS\", \n",
    "                    \"RAW_DEVICE_COUNTS\", \n",
    "                    \"MEDIAN_DWELL\", \n",
    "                    \"STOPS_BY_EACH_HOUR\",\n",
    "                   'adjusted_raw_stop',\n",
    "                   ]\n",
    "# save CSV file\n",
    "month_df[non_dict_columns].to_csv(no_dict_colum_fname, index=False)\n",
    "print(\"Combined CSV wihouth dictionary columns was saved at:\", no_dict_colum_fname)"
   ]
  },
  {
   "cell_type": "markdown",
   "id": "01eec59a-f0c2-4ea0-929b-2a100346eac0",
   "metadata": {},
   "source": [
    "## Split the DEVICE_HOME_AREAS column\n",
    "\n",
    "Some CBGs are not reported because their visitors < 4, we add them according to the RAW_DEVICE_COUNTS\n",
    "\n",
    "Note: need > 30 GB memory"
   ]
  },
  {
   "cell_type": "code",
   "execution_count": null,
   "id": "b488722d-d454-4d44-8f47-023c0a3f8465",
   "metadata": {
    "execution": {
     "iopub.status.busy": "2024-01-29T02:06:07.509216Z",
     "iopub.status.idle": "2024-01-29T02:06:07.510236Z",
     "shell.execute_reply": "2024-01-29T02:06:07.509216Z",
     "shell.execute_reply.started": "2024-01-29T02:06:07.509216Z"
    }
   },
   "outputs": [],
   "source": [
    "\n",
    "device_home_areas_df = ad_op.split_device_home_areas_stops(np_df=month_df.iloc[:])\n",
    "\n",
    "# print(\"Sorting...\")\n",
    "## device_home_areas_df = device_home_areas_df.sort_values(['origin', 'destination'])\n",
    "## device_home_areas_df = device_home_areas_df.sort_values(['origin', 'device'])\n",
    "# device_home_areas_df['origin'] = device_home_areas_df['origin'].astype(str).str.zfill(12)\n",
    "# device_home_areas_df['destination'] = device_home_areas_df['destination'].astype(str).str.zfill(12)\n",
    "## device_home_areas_df['device'] = device_home_areas_df['device'].astype(int)\n",
    "\n",
    "print(f\"Saving at: {device_home_areas_fname}...\")\n",
    "device_home_areas_df.to_csv(device_home_areas_fname, index=False)\n",
    "print(\"Done\")\n",
    "device_home_areas_df"
   ]
  },
  {
   "cell_type": "code",
   "execution_count": null,
   "id": "6d7f4426-5b51-48b1-b980-d738b508fe3a",
   "metadata": {
    "execution": {
     "iopub.status.busy": "2024-01-29T02:06:07.510236Z",
     "iopub.status.idle": "2024-01-29T02:06:07.511240Z",
     "shell.execute_reply": "2024-01-29T02:06:07.510236Z",
     "shell.execute_reply.started": "2024-01-29T02:06:07.510236Z"
    }
   },
   "outputs": [],
   "source": [
    "device_home_areas_df[['device', 'stop']].sum() / 10**9, month_df[['RAW_DEVICE_COUNTS', 'RAW_STOP_COUNTS', 'adjusted_raw_stop']].sum() / 10**9"
   ]
  },
  {
   "cell_type": "code",
   "execution_count": null,
   "id": "3394ea96-f61d-4c42-bcc2-84d94884f612",
   "metadata": {},
   "outputs": [],
   "source": []
  },
  {
   "cell_type": "code",
   "execution_count": null,
   "id": "5fb33d5f-8310-4849-a25e-086e39b48a81",
   "metadata": {},
   "outputs": [],
   "source": []
  },
  {
   "cell_type": "markdown",
   "id": "9d2dda02-cf70-44d6-9f2f-cd103aae149e",
   "metadata": {},
   "source": [
    "### Save aggregation for origin and destination distribution"
   ]
  },
  {
   "cell_type": "code",
   "execution_count": null,
   "id": "74d656bc-d35f-4b42-ad5c-651327ac2d4a",
   "metadata": {
    "execution": {
     "iopub.status.busy": "2024-01-29T02:06:07.511240Z",
     "iopub.status.idle": "2024-01-29T02:06:07.512260Z",
     "shell.execute_reply": "2024-01-29T02:06:07.512260Z",
     "shell.execute_reply.started": "2024-01-29T02:06:07.512260Z"
    }
   },
   "outputs": [],
   "source": [
    "# Save aggregation for origin and destination distribution\n",
    "CBG_device_stop_destination_distribution_df = device_home_areas_df.groupby('destination')[['device', 'stop']].sum()\n",
    "CBG_device_stop_destination_distribution_df.to_csv(CBG_device_stop_destination_distribution_fname)\n",
    "\n",
    "CBG_device_stop_origin_distribution_df = device_home_areas_df.groupby('origin')[['device', 'stop']].sum()\n",
    "CBG_device_stop_origin_distribution_df.to_csv(CBG_device_stop_origin_distribution_fname)\n",
    "\n",
    "CBG_device_stop_origin_distribution_df"
   ]
  },
  {
   "cell_type": "code",
   "execution_count": null,
   "id": "14f65843-8edf-4206-ad58-cf8fabbf90b5",
   "metadata": {
    "execution": {
     "iopub.status.busy": "2024-01-29T02:06:07.512260Z",
     "iopub.status.idle": "2024-01-29T02:06:07.513259Z",
     "shell.execute_reply": "2024-01-29T02:06:07.513259Z",
     "shell.execute_reply.started": "2024-01-29T02:06:07.513259Z"
    }
   },
   "outputs": [],
   "source": [
    "CBG_device_stop_destination_distribution_df#.reset_index()"
   ]
  },
  {
   "cell_type": "code",
   "execution_count": null,
   "id": "9027915e-30b8-425d-943c-6edb74f46822",
   "metadata": {
    "execution": {
     "iopub.status.busy": "2024-01-29T02:06:07.514240Z",
     "iopub.status.idle": "2024-01-29T02:06:07.514240Z",
     "shell.execute_reply": "2024-01-29T02:06:07.514240Z",
     "shell.execute_reply.started": "2024-01-29T02:06:07.514240Z"
    }
   },
   "outputs": [],
   "source": [
    "CBG_device_stop_destination_distribution_df.sum()  / 10**9, CBG_device_stop_origin_distribution_df.sum()  / 10**9"
   ]
  },
  {
   "cell_type": "code",
   "execution_count": null,
   "id": "74284b53-53bd-4a07-9804-061ce3dea169",
   "metadata": {},
   "outputs": [],
   "source": []
  },
  {
   "cell_type": "markdown",
   "id": "82388d09-8984-4036-b4f2-1fee9f01d1ae",
   "metadata": {},
   "source": [
    "## Generate person_per_device (i.e., device sampling rate) file for origin CBGs"
   ]
  },
  {
   "cell_type": "code",
   "execution_count": null,
   "id": "24bc7499-0c15-4447-92ee-1d4e1122a99a",
   "metadata": {
    "execution": {
     "iopub.status.busy": "2024-01-29T02:06:07.515240Z",
     "iopub.status.idle": "2024-01-29T02:06:07.515240Z",
     "shell.execute_reply": "2024-01-29T02:06:07.515240Z",
     "shell.execute_reply.started": "2024-01-29T02:06:07.515240Z"
    }
   },
   "outputs": [],
   "source": [
    "ACS_df = pd.read_csv(ACS_file)\n",
    "ACS_df[\"CBG_FIPS\"] = ACS_df[\"fips\"].astype(str).str.zfill(12)\n",
    "print(\"Total US population (million):\",  ACS_df['totalpopulation'].sum() / 10**6)"
   ]
  },
  {
   "cell_type": "code",
   "execution_count": null,
   "id": "5252b787-0170-449b-a74a-12c9199e1a5c",
   "metadata": {
    "execution": {
     "iopub.status.busy": "2024-01-29T02:06:07.516240Z",
     "iopub.status.idle": "2024-01-29T02:06:07.516240Z",
     "shell.execute_reply": "2024-01-29T02:06:07.516240Z",
     "shell.execute_reply.started": "2024-01-29T02:06:07.516240Z"
    }
   },
   "outputs": [],
   "source": [
    "print(\"Loading home panel file:\", home_panel_fname)\n",
    "panel_df = pd.read_csv(home_panel_fname)\n",
    "panel_df"
   ]
  },
  {
   "cell_type": "code",
   "execution_count": null,
   "id": "0bf432c5-802b-4229-a2dd-c876cc0ad799",
   "metadata": {
    "execution": {
     "iopub.status.busy": "2024-01-29T02:06:07.517241Z",
     "iopub.status.idle": "2024-01-29T02:06:07.517241Z",
     "shell.execute_reply": "2024-01-29T02:06:07.517241Z",
     "shell.execute_reply.started": "2024-01-29T02:06:07.517241Z"
    }
   },
   "outputs": [],
   "source": [
    "monthly_device_cnt_df = panel_df.query(f\"ISO_COUNTRY_CODE == 'US' \").groupby(['YEAR', 'MON'], as_index=True)['NUMBER_DEVICES_RESIDING'].sum() / 10**6\n",
    "print(\"monthly_device_cnt_df   (million):\" )\n",
    "monthly_device_cnt_df.reset_index()"
   ]
  },
  {
   "cell_type": "markdown",
   "id": "d9552bbc-53b5-4770-af25-1ddf82a914ae",
   "metadata": {},
   "source": [
    "The NUMBER_DEVICES_RESIDING surged from 45 million to 900 million, and the sampling rate cannot be obatain, because it exceeds the US population."
   ]
  },
  {
   "cell_type": "code",
   "execution_count": null,
   "id": "81c1cdc8-9205-4f07-bb0e-92d848eca5db",
   "metadata": {
    "execution": {
     "iopub.status.busy": "2024-01-29T02:06:07.518241Z",
     "iopub.status.idle": "2024-01-29T02:06:07.518241Z",
     "shell.execute_reply": "2024-01-29T02:06:07.518241Z",
     "shell.execute_reply.started": "2024-01-29T02:06:07.518241Z"
    }
   },
   "outputs": [],
   "source": [
    "target_panel_df = panel_df.query(f\"YEAR == {year} and MON == {month} and ISO_COUNTRY_CODE == 'US' \").sort_values('CENSUS_BLOCK_GROUP')  # \n",
    "# target_panel_df = panel_df.query(f\"YEAR == {year} and MON == {6} and ISO_COUNTRY_CODE == 'US' \").sort_values('CENSUS_BLOCK_GROUP')  # \n",
    "print(\"Total US NUMBER_DEVICES_RESIDING (million):\",  target_panel_df['NUMBER_DEVICES_RESIDING'].sum() / 10**6)\n",
    "target_panel_df"
   ]
  },
  {
   "cell_type": "code",
   "execution_count": null,
   "id": "b2036444-95ef-42e0-b8f5-e876e54a8b8b",
   "metadata": {
    "execution": {
     "iopub.status.busy": "2024-01-29T02:06:07.519240Z",
     "iopub.status.idle": "2024-01-29T02:06:07.519240Z",
     "shell.execute_reply": "2024-01-29T02:06:07.519240Z",
     "shell.execute_reply.started": "2024-01-29T02:06:07.519240Z"
    }
   },
   "outputs": [],
   "source": [
    "panel_ACS_df = target_panel_df.merge(ACS_df[['CBG_FIPS', 'totalpopulation']], left_on='CENSUS_BLOCK_GROUP', right_on='CBG_FIPS')\n",
    "panel_ACS_df = panel_ACS_df.dropna(subset='NUMBER_DEVICES_RESIDING')\n",
    "panel_ACS_df['NUMBER_DEVICES_RESIDING'] = panel_ACS_df['NUMBER_DEVICES_RESIDING'].astype(int)\n",
    "panel_ACS_df = panel_ACS_df.sort_values('CBG_FIPS')\n",
    "panel_ACS_df['person_per_device'] = panel_ACS_df['totalpopulation'] / panel_ACS_df['NUMBER_DEVICES_RESIDING']\n",
    "panel_ACS_df['sampling_rate'] = panel_ACS_df['NUMBER_DEVICES_RESIDING'] / panel_ACS_df['totalpopulation']\n",
    "\n",
    "print(\"Data cover US population (million) :\", panel_ACS_df['totalpopulation'].sum() / 10**6)\n",
    "panel_ACS_df"
   ]
  },
  {
   "cell_type": "code",
   "execution_count": null,
   "id": "f327a473-5f6e-42f9-8367-ad43f8d9b609",
   "metadata": {
    "execution": {
     "iopub.status.busy": "2024-01-29T02:06:07.520263Z",
     "iopub.status.idle": "2024-01-29T02:06:07.520263Z",
     "shell.execute_reply": "2024-01-29T02:06:07.520263Z",
     "shell.execute_reply.started": "2024-01-29T02:06:07.520263Z"
    }
   },
   "outputs": [],
   "source": [
    "fig, ax = plt.subplots()\n",
    "month = 6\n",
    "ax.set_title(f\"Device sampling rate histogram ({year}-{month:02})\")\n",
    "ax.set_xlabel(\"Sampling rate\")\n",
    "ax.set_ylabel(\"CBG count\")\n",
    "\n",
    "panel_ACS_df.query(\"totalpopulation > 0  \")['sampling_rate'].dropna().hist(ax=ax, bins=np.array(range(0, 200,1))/100)"
   ]
  },
  {
   "cell_type": "code",
   "execution_count": null,
   "id": "c6fdb29c-249e-4ce8-9489-12d9c4a53b29",
   "metadata": {
    "execution": {
     "iopub.status.busy": "2024-01-29T02:06:07.521265Z",
     "iopub.status.idle": "2024-01-29T02:06:07.521265Z",
     "shell.execute_reply": "2024-01-29T02:06:07.521265Z",
     "shell.execute_reply.started": "2024-01-29T02:06:07.521265Z"
    }
   },
   "outputs": [],
   "source": [
    "# get people_per_device of a county\n",
    "\n",
    "panel_ACS_df['county_FIPS'] = panel_ACS_df['CBG_FIPS'].str[:5]\n",
    "sampling_rate_county_df = panel_ACS_df.groupby(['county_FIPS'], as_index=False).agg(    # , 'YEAR', \"MON\", \"REGION\", \"ISO_COUNTRY_CODE\"\n",
    "    county_device=('NUMBER_DEVICES_RESIDING', 'sum'),\n",
    "    county_device_daytime=('NUMBER_DEVICES_RESIDING', 'sum'),\n",
    "    county_device_population=('totalpopulation', 'sum'),\n",
    "    ) \n",
    "\n",
    "sampling_rate_county_df['person_per_device_county'] = sampling_rate_county_df['county_device_population'] /  sampling_rate_county_df['county_device']\n",
    "\n",
    "print(\"National device and population count:\\n\")\n",
    "print(sampling_rate_county_df[['county_device', 'county_device_population']].sum())\n",
    "\n",
    "people_per_device_df = panel_ACS_df.merge(sampling_rate_county_df, left_on='county_FIPS', right_on='county_FIPS')\n",
    "people_per_device_df.to_csv(person_per_device_fname, index=False)\n",
    "people_per_device_df"
   ]
  },
  {
   "cell_type": "markdown",
   "id": "0114b556-1a09-4440-a428-07ffa3695544",
   "metadata": {},
   "source": [
    "## Compute the inbounds for each destination CBG"
   ]
  },
  {
   "cell_type": "markdown",
   "id": "82d1d063-621d-4193-99fd-3a9321a9f7c4",
   "metadata": {},
   "source": [
    "merge the device_home_area and person_per_device, then groupby the destination"
   ]
  },
  {
   "cell_type": "code",
   "execution_count": null,
   "id": "6bdd7a26-1c94-4231-ab02-2977d1c76839",
   "metadata": {
    "execution": {
     "iopub.status.busy": "2024-01-29T02:06:07.522240Z",
     "iopub.status.idle": "2024-01-29T02:06:07.522240Z",
     "shell.execute_reply": "2024-01-29T02:06:07.522240Z",
     "shell.execute_reply.started": "2024-01-29T02:06:07.522240Z"
    }
   },
   "outputs": [],
   "source": [
    "device_home_areas_df = pd.read_csv(device_home_areas_fname, dtype={\"origin\":str, \"destination\":str})\n",
    "device_home_areas_df"
   ]
  },
  {
   "cell_type": "code",
   "execution_count": null,
   "id": "d2516cca-9c78-41f5-9dcb-b7c54a2c87a6",
   "metadata": {},
   "outputs": [],
   "source": []
  },
  {
   "cell_type": "code",
   "execution_count": null,
   "id": "7169dbf9-b81e-4bb2-8313-e10c53872609",
   "metadata": {},
   "outputs": [],
   "source": []
  },
  {
   "cell_type": "code",
   "execution_count": null,
   "id": "6ef6a187-86c2-4bb9-b868-df2bd7faa615",
   "metadata": {
    "execution": {
     "iopub.status.busy": "2024-01-29T02:06:07.523265Z",
     "iopub.status.idle": "2024-01-29T02:06:07.524240Z",
     "shell.execute_reply": "2024-01-29T02:06:07.523265Z",
     "shell.execute_reply.started": "2024-01-29T02:06:07.523265Z"
    }
   },
   "outputs": [],
   "source": [
    "# people_per_device_df = pd.read_csv(person_per_device_fname, index=False)\n",
    "\n",
    "print(\"Loading people_per_device_df from:\", person_per_device_fname)\n",
    "person_per_device_df = pd.read_csv(person_per_device_fname, dtype={\"CBG_FIPS\": str})\n",
    "\n",
    "print(\"Total totalpopulation (billion):\", person_per_device_df['totalpopulation'].sum() / 10**9)\n",
    "person_per_device_df"
   ]
  },
  {
   "cell_type": "code",
   "execution_count": null,
   "id": "e4a21512-8376-46a3-846c-931095fe97b9",
   "metadata": {
    "execution": {
     "iopub.status.busy": "2024-01-29T02:06:07.524240Z",
     "iopub.status.idle": "2024-01-29T02:06:07.524240Z",
     "shell.execute_reply": "2024-01-29T02:06:07.524240Z",
     "shell.execute_reply.started": "2024-01-29T02:06:07.524240Z"
    }
   },
   "outputs": [],
   "source": [
    "origin_person_per_device_df = device_home_areas_df.merge(person_per_device_df[['CBG_FIPS', 'person_per_device', 'person_per_device_county']], left_on=\"origin\", right_on=\"CBG_FIPS\")\n",
    "origin_person_per_device_df"
   ]
  },
  {
   "cell_type": "code",
   "execution_count": null,
   "id": "13626d2c-d896-4fed-8c27-0e3d339aeeeb",
   "metadata": {
    "execution": {
     "iopub.status.busy": "2024-01-29T02:06:07.525744Z",
     "iopub.status.idle": "2024-01-29T02:06:07.525744Z",
     "shell.execute_reply": "2024-01-29T02:06:07.525744Z",
     "shell.execute_reply.started": "2024-01-29T02:06:07.525744Z"
    }
   },
   "outputs": [],
   "source": [
    "origin_person_per_device_df['person_CBG_rate'] = origin_person_per_device_df['device'] * origin_person_per_device_df['person_per_device']\n",
    "origin_person_per_device_df['person_county_rate'] = origin_person_per_device_df['device'] * origin_person_per_device_df['person_per_device_county']\n",
    "origin_person_per_device_df[['person_CBG_rate','person_county_rate']].sum() / 10**9"
   ]
  },
  {
   "cell_type": "code",
   "execution_count": null,
   "id": "5e72c74b-edcb-456c-8721-fe48b3a0447a",
   "metadata": {
    "execution": {
     "iopub.status.busy": "2024-01-29T02:06:07.526750Z",
     "iopub.status.idle": "2024-01-29T02:06:07.527750Z",
     "shell.execute_reply": "2024-01-29T02:06:07.527750Z",
     "shell.execute_reply.started": "2024-01-29T02:06:07.527750Z"
    }
   },
   "outputs": [],
   "source": [
    "origin_person_per_device_df[['person_CBG_rate', 'device','stop']].sum() / 10**9"
   ]
  },
  {
   "cell_type": "code",
   "execution_count": null,
   "id": "6c43072d-4911-41e4-bd5e-73697001915c",
   "metadata": {},
   "outputs": [],
   "source": []
  },
  {
   "cell_type": "code",
   "execution_count": null,
   "id": "000d9238-4c6c-430a-8cfd-25994311aa70",
   "metadata": {
    "execution": {
     "iopub.status.busy": "2024-01-29T02:06:07.528752Z",
     "iopub.status.idle": "2024-01-29T02:06:07.529750Z",
     "shell.execute_reply": "2024-01-29T02:06:07.529750Z",
     "shell.execute_reply.started": "2024-01-29T02:06:07.528752Z"
    }
   },
   "outputs": [],
   "source": [
    "def get_inbound_person_per_device(df):\n",
    "    inboud_per_per_device_CBG_rate = df['person_CBG_rate'].sum() /  df['device'].sum()\n",
    "    inboud_per_per_device_county_rate = df['person_county_rate'].sum() /  df['device'].sum()\n",
    "    return {\"inboud_per_per_device_CBG_rate\": inboud_per_per_device_CBG_rate, \"inboud_per_per_device_county_rate\": inboud_per_per_device_county_rate}\n",
    "\n",
    "CBG_destination_inbound_per_device = origin_person_per_device_df.iloc[:].groupby('destination').progress_apply(get_inbound_person_per_device)\n",
    "CBG_destination_inbound_per_device_df = pd.DataFrame(CBG_destination_inbound_per_device.tolist(), index=CBG_destination_inbound_per_device.index)\n",
    "CBG_destination_inbound_per_device_df.to_csv(CBG_destination_inbound_per_device_fname)\n",
    "print(CBG_destination_inbound_per_device_df.mean())\n",
    "CBG_destination_inbound_per_device_df"
   ]
  },
  {
   "cell_type": "code",
   "execution_count": null,
   "id": "9762269c-8cf5-4714-a61b-9c17ea11d47c",
   "metadata": {
    "execution": {
     "iopub.status.busy": "2024-01-29T02:06:07.530750Z",
     "iopub.status.idle": "2024-01-29T02:06:07.531749Z",
     "shell.execute_reply": "2024-01-29T02:06:07.531749Z",
     "shell.execute_reply.started": "2024-01-29T02:06:07.531749Z"
    }
   },
   "outputs": [],
   "source": [
    "print(\"Loading CBG_destination_inbound_per_device_df from:\", CBG_destination_inbound_per_device_fname)\n",
    "CBG_destination_inbound_per_device_df = pd.read_csv(CBG_destination_inbound_per_device_fname, dtype={\"destination\": str}).set_index('destination')\n",
    "\n",
    "print(\"CBG_destination_inbound_per_device_df.mean(): \\n\", CBG_destination_inbound_per_device_df.mean() )\n",
    "CBG_destination_inbound_per_device_df"
   ]
  },
  {
   "cell_type": "code",
   "execution_count": null,
   "id": "e61ab006-4fa2-487a-bb00-7d894a5d7340",
   "metadata": {
    "execution": {
     "iopub.status.busy": "2024-01-29T02:06:07.533749Z",
     "iopub.status.idle": "2024-01-29T02:06:07.534749Z",
     "shell.execute_reply": "2024-01-29T02:06:07.534749Z",
     "shell.execute_reply.started": "2024-01-29T02:06:07.534749Z"
    }
   },
   "outputs": [],
   "source": [
    "print(\"Loading adjusted_dwelling_time_stop_CBG_df from:\", adjusted_dwelling_time_stop_CBG_fname)\n",
    "adjusted_dwelling_time_stop_CBG_df = pd.read_csv(adjusted_dwelling_time_stop_CBG_fname, dtype={\"CBG\": str}).set_index('CBG')\n",
    "\n",
    "print(\"Total adjusted hourly stops (billion):\", adjusted_dwelling_time_stop_CBG_df.iloc[:, 1:].sum().sum() / 10**9)\n",
    "adjusted_dwelling_time_stop_CBG_df"
   ]
  },
  {
   "cell_type": "code",
   "execution_count": null,
   "id": "cdd5a616-e4e8-46dc-8cf4-f6e14c015e02",
   "metadata": {
    "execution": {
     "iopub.status.busy": "2024-01-29T02:06:07.534749Z",
     "iopub.status.idle": "2024-01-29T02:06:07.535751Z",
     "shell.execute_reply": "2024-01-29T02:06:07.535751Z",
     "shell.execute_reply.started": "2024-01-29T02:06:07.535751Z"
    }
   },
   "outputs": [],
   "source": [
    "adjusted_dwelling_time_stop_inbound_per_device_CBG_df = adjusted_dwelling_time_stop_CBG_df.merge(CBG_destination_inbound_per_device_df,left_index=True, right_index=True)\n",
    "adjusted_dwelling_time_stop_inbound_per_device_CBG_df.index.name = 'CBG'\n",
    "adjusted_dwelling_time_stop_inbound_per_device_CBG_df"
   ]
  },
  {
   "cell_type": "code",
   "execution_count": null,
   "id": "4a817c7b-a20a-4fa0-884e-8eb8d519315a",
   "metadata": {
    "execution": {
     "iopub.status.busy": "2024-01-29T02:06:07.535751Z",
     "iopub.status.idle": "2024-01-29T02:06:07.536748Z",
     "shell.execute_reply": "2024-01-29T02:06:07.536748Z",
     "shell.execute_reply.started": "2024-01-29T02:06:07.536748Z"
    }
   },
   "outputs": [],
   "source": [
    "hour_cnt = adjusted_dwelling_time_stop_CBG_df.shape[1]\n",
    "print(\"hour_cnt:\", hour_cnt)"
   ]
  },
  {
   "cell_type": "code",
   "execution_count": null,
   "id": "a538bbb7-a8b6-4c7e-8528-fae11729a867",
   "metadata": {
    "execution": {
     "iopub.status.busy": "2024-01-29T02:06:07.537750Z",
     "iopub.status.idle": "2024-01-29T02:06:07.537750Z",
     "shell.execute_reply": "2024-01-29T02:06:07.537750Z",
     "shell.execute_reply.started": "2024-01-29T02:06:07.537750Z"
    }
   },
   "outputs": [],
   "source": [
    "# inbound_hourly_df.iloc[:, hour]\n",
    "# inbound_hourly_df.loc[:, 'inboud_per_per_device_CBG_rate']"
   ]
  },
  {
   "cell_type": "code",
   "execution_count": null,
   "id": "17810889-8c5d-4363-b9f7-03afcbf42560",
   "metadata": {
    "execution": {
     "iopub.status.busy": "2024-01-29T02:06:07.538764Z",
     "iopub.status.idle": "2024-01-29T02:06:07.538764Z",
     "shell.execute_reply": "2024-01-29T02:06:07.538764Z",
     "shell.execute_reply.started": "2024-01-29T02:06:07.538764Z"
    }
   },
   "outputs": [],
   "source": [
    "\n",
    "inbound_hourly_df = adjusted_dwelling_time_stop_inbound_per_device_CBG_df.astype(np.float64).copy()\n",
    "\n",
    "for hour in tqdm(range(hour_cnt)):\n",
    "    # inbound_hourly_df.iloc[:, hour] = inbound_hourly_df.iloc[:, hour] * inbound_hourly_df.loc[:, 'inboud_per_per_device_CBG_rate']   # ？ 70.4215236989238 billion\n",
    "    inbound_hourly_df.iloc[:, hour] = inbound_hourly_df.iloc[:, hour] * inbound_hourly_df.loc[:, 'inboud_per_per_device_county_rate']   # ？ 56.34291367286323 billion\n",
    "print(\"Total restored inbound (billion) using per_device_county_rate:\",  inbound_hourly_df.iloc[:, :hour].sum().sum() / 10**9)\n",
    "\n",
    "inbound_hourly_df = adjusted_dwelling_time_stop_inbound_per_device_CBG_df.astype(np.float64).copy()\n",
    "\n",
    "for hour in tqdm(range(hour_cnt)):\n",
    "    inbound_hourly_df.iloc[:, hour] = inbound_hourly_df.iloc[:, hour] * inbound_hourly_df.loc[:, 'inboud_per_per_device_CBG_rate']   # 70.4215236989238 billion\n",
    "    # inbound_hourly_df.iloc[:, hour] = inbound_hourly_df.iloc[:, hour] * inbound_hourly_df.loc[:, 'inboud_per_per_device_county_rate']   # 56.34291367286323 billion\n",
    "print(\"Total restored inbound (billion) using per_device_CBG_rate:\",  inbound_hourly_df.iloc[:, :hour].sum().sum() / 10**9)\n",
    "\n",
    "print(\"We will use the larger resutls: per_device_CBG_rate.\")\n",
    "\n",
    "print(\"Saving inbound_hourly_df at:\", inbound_hourly_df_fname)\n",
    "inbound_hourly_df.to_csv(inbound_hourly_df_fname)\n",
    "inbound_hourly_df\n",
    "\n",
    "# Total restored inbound (billion) using per_device_county_rate: 51.178735299160714\n",
    "# Total restored inbound (billion) using per_device_CBG_rate:    61.49318556384339\n"
   ]
  },
  {
   "cell_type": "code",
   "execution_count": null,
   "id": "d44cd67f-978a-44ab-9c4b-36560619072f",
   "metadata": {
    "execution": {
     "iopub.status.busy": "2024-01-29T02:06:07.539750Z",
     "iopub.status.idle": "2024-01-29T02:06:07.539750Z",
     "shell.execute_reply": "2024-01-29T02:06:07.539750Z",
     "shell.execute_reply.started": "2024-01-29T02:06:07.539750Z"
    }
   },
   "outputs": [],
   "source": [
    "# Get the hourly aggregated inbounds for all CBGs\n",
    "inbound_hourly_df.iloc[:, :hour_cnt].sum().sum() / 10**9"
   ]
  },
  {
   "cell_type": "code",
   "execution_count": null,
   "id": "f310f69f-d443-493e-ba88-4b5078269b4c",
   "metadata": {
    "execution": {
     "iopub.status.busy": "2024-01-29T02:06:07.540751Z",
     "iopub.status.idle": "2024-01-29T02:06:07.540751Z",
     "shell.execute_reply": "2024-01-29T02:06:07.540751Z",
     "shell.execute_reply.started": "2024-01-29T02:06:07.540751Z"
    }
   },
   "outputs": [],
   "source": [
    "hourly_agregated_inbound_df = pd.DataFrame(inbound_hourly_df.iloc[:, :hour_cnt].sum(), columns=['inboud']).reset_index()[['inboud']]\n",
    "hourly_agregated_inbound_df.to_csv(hourly_agregated_inbound_fname, index=False)\n",
    "print(\"Save hourly_agregated_inbound_df at:\", hourly_agregated_inbound_fname)\n",
    "\n",
    "CBG_agregated_inbound_df = pd.DataFrame(inbound_hourly_df.iloc[:, :hour_cnt].sum(axis=1), columns=['inboud'])\n",
    "CBG_agregated_inbound_df.to_csv(CBG_agregated_inbound_fname)\n",
    "print(\"Save CBG_agregated_inbound_df at:\", CBG_agregated_inbound_fname)"
   ]
  },
  {
   "cell_type": "code",
   "execution_count": null,
   "id": "7258808a-1b2e-4ec7-a868-847d5e8f1468",
   "metadata": {
    "execution": {
     "iopub.status.busy": "2024-01-29T02:06:07.542754Z",
     "iopub.status.idle": "2024-01-29T02:06:07.542754Z",
     "shell.execute_reply": "2024-01-29T02:06:07.542754Z",
     "shell.execute_reply.started": "2024-01-29T02:06:07.542754Z"
    }
   },
   "outputs": [],
   "source": [
    "hourly_agregated_inbound_df"
   ]
  },
  {
   "cell_type": "code",
   "execution_count": null,
   "id": "532bc645-4445-44d5-ad67-59dfbcaba219",
   "metadata": {
    "execution": {
     "iopub.status.busy": "2024-01-29T02:06:07.543755Z",
     "iopub.status.idle": "2024-01-29T02:06:07.543755Z",
     "shell.execute_reply": "2024-01-29T02:06:07.543755Z",
     "shell.execute_reply.started": "2024-01-29T02:06:07.543755Z"
    }
   },
   "outputs": [],
   "source": [
    "CBG_agregated_inbound_df['inboud'].sum() / 10**9"
   ]
  },
  {
   "cell_type": "code",
   "execution_count": null,
   "id": "58dca941-0ebc-4c99-acdd-5a541c602f23",
   "metadata": {
    "execution": {
     "iopub.status.busy": "2024-01-29T02:06:07.544756Z",
     "iopub.status.idle": "2024-01-29T02:06:07.545754Z",
     "shell.execute_reply": "2024-01-29T02:06:07.545754Z",
     "shell.execute_reply.started": "2024-01-29T02:06:07.545754Z"
    }
   },
   "outputs": [],
   "source": [
    "people_per_device_df = pd.read_csv(person_per_device_fname, dtype={'CBG_FIPS': str})\n",
    "people_per_device_df"
   ]
  },
  {
   "cell_type": "code",
   "execution_count": null,
   "id": "e998182b-cc27-4321-8d44-22e1ed13e578",
   "metadata": {
    "execution": {
     "iopub.status.busy": "2024-01-29T02:06:07.546763Z",
     "iopub.status.idle": "2024-01-29T02:06:07.547755Z",
     "shell.execute_reply": "2024-01-29T02:06:07.546763Z",
     "shell.execute_reply.started": "2024-01-29T02:06:07.546763Z"
    }
   },
   "outputs": [],
   "source": [
    "# Load flow data (month)\n",
    "# device_home_areas_df = pd.read_csv(device_home_areas_fname, dtype={'origin':str, 'destination':str})\n",
    "device_home_areas_df"
   ]
  },
  {
   "cell_type": "code",
   "execution_count": null,
   "id": "b7d4a09c-4226-4b42-87b9-5f01d28b0fbc",
   "metadata": {
    "execution": {
     "iopub.status.busy": "2024-01-29T02:06:07.548753Z",
     "iopub.status.idle": "2024-01-29T02:06:07.548753Z",
     "shell.execute_reply": "2024-01-29T02:06:07.548753Z",
     "shell.execute_reply.started": "2024-01-29T02:06:07.548753Z"
    }
   },
   "outputs": [],
   "source": [
    "device_home_areas_person_per_device_df = device_home_areas_df.merge(people_per_device_df[['CBG_FIPS', 'person_per_device', 'person_per_device_county']], left_on='origin', right_on='CBG_FIPS')\n",
    "device_home_areas_person_per_device_df"
   ]
  },
  {
   "cell_type": "code",
   "execution_count": null,
   "id": "dea3bc6c-a80f-4735-be1d-00ca64f1c4c3",
   "metadata": {
    "execution": {
     "iopub.status.busy": "2024-01-29T02:06:07.550755Z",
     "iopub.status.idle": "2024-01-29T02:06:07.550755Z",
     "shell.execute_reply": "2024-01-29T02:06:07.550755Z",
     "shell.execute_reply.started": "2024-01-29T02:06:07.550755Z"
    }
   },
   "outputs": [],
   "source": [
    "device_home_areas_person_per_device_df['stop'].sum() / 10**9, device_home_areas_person_per_device_df['device'].sum() / 10**9"
   ]
  },
  {
   "cell_type": "code",
   "execution_count": null,
   "id": "50bba66e-ddb5-48f9-81a6-3e1ff85efe46",
   "metadata": {
    "execution": {
     "iopub.status.busy": "2024-01-29T02:06:07.552755Z",
     "iopub.status.idle": "2024-01-29T02:06:07.552755Z",
     "shell.execute_reply": "2024-01-29T02:06:07.552755Z",
     "shell.execute_reply.started": "2024-01-29T02:06:07.552755Z"
    }
   },
   "outputs": [],
   "source": [
    "# Not correct\n",
    "# device_home_areas_person_per_device_df['outbound'] = device_home_areas_person_per_device_df['stop'] * device_home_areas_person_per_device_df['person_per_device']\n",
    "# device_home_areas_person_per_device_df['outbound'].sum()  / 10**9"
   ]
  },
  {
   "cell_type": "code",
   "execution_count": null,
   "id": "1c465227-05a9-4ec0-ae51-da5ad82566c7",
   "metadata": {
    "execution": {
     "iopub.status.busy": "2024-01-29T02:06:07.553755Z",
     "iopub.status.idle": "2024-01-29T02:06:07.554756Z",
     "shell.execute_reply": "2024-01-29T02:06:07.554756Z",
     "shell.execute_reply.started": "2024-01-29T02:06:07.554756Z"
    }
   },
   "outputs": [],
   "source": [
    "no_dict_colum_month_df = pd.read_csv(no_dict_colum_fname, dtype={\"AREA\":str})\n",
    "no_dict_colum_month_df['destination'] = no_dict_colum_month_df['AREA'].astype(str).str.zfill(12)\n",
    "no_dict_colum_month_df"
   ]
  },
  {
   "cell_type": "code",
   "execution_count": null,
   "id": "7ce861b1-af9d-4206-8079-7d2ac6094fed",
   "metadata": {
    "execution": {
     "iopub.status.busy": "2024-01-29T02:06:07.555756Z",
     "iopub.status.idle": "2024-01-29T02:06:07.555756Z",
     "shell.execute_reply": "2024-01-29T02:06:07.555756Z",
     "shell.execute_reply.started": "2024-01-29T02:06:07.555756Z"
    }
   },
   "outputs": [],
   "source": [
    "no_dict_colum_month_df['adjusted_raw_stop'].sum() / 10**9"
   ]
  },
  {
   "cell_type": "code",
   "execution_count": null,
   "id": "69df33ae-d40e-40c5-88db-f981dfd008d4",
   "metadata": {
    "execution": {
     "iopub.status.busy": "2024-01-29T02:06:07.557261Z",
     "iopub.status.idle": "2024-01-29T02:06:07.558267Z",
     "shell.execute_reply": "2024-01-29T02:06:07.558267Z",
     "shell.execute_reply.started": "2024-01-29T02:06:07.558267Z"
    }
   },
   "outputs": [],
   "source": [
    "# device_home_areas_person_per_device_df.groupby('destination', as_index=False)#[['inbound']] .sum()\n",
    "device_home_areas_person_per_device_df"
   ]
  },
  {
   "cell_type": "code",
   "execution_count": null,
   "id": "85ef4bbb-1eae-4e68-8d47-2f1588997d37",
   "metadata": {
    "execution": {
     "iopub.status.busy": "2024-01-29T02:06:07.559271Z",
     "iopub.status.idle": "2024-01-29T02:06:07.560268Z",
     "shell.execute_reply": "2024-01-29T02:06:07.560268Z",
     "shell.execute_reply.started": "2024-01-29T02:06:07.560268Z"
    }
   },
   "outputs": [],
   "source": [
    "destination_CBG_inbound_df = device_home_areas_person_per_device_df.groupby('destination', as_index=False)[['stop']].sum()#.sum()\n",
    "destination_CBG_inbound_df['destination'] = destination_CBG_inbound_df['destination'].astype(str).str.zfill(12)\n",
    "\n",
    "destination_CBG_inbound_device_device_count_df = destination_CBG_inbound_df.merge(no_dict_colum_month_df[['destination', 'RAW_STOP_COUNTS', 'RAW_DEVICE_COUNTS', 'MEDIAN_DWELL']],\n",
    "                                                                                 left_on=\"destination\",\n",
    "                                                                                 right_on=\"destination\")\n",
    "\n",
    "destination_CBG_inbound_device_device_count_df['inbound_per_stop'] = destination_CBG_inbound_device_device_count_df['stop'] / destination_CBG_inbound_device_device_count_df['RAW_STOP_COUNTS']\n",
    "destination_CBG_inbound_device_device_count_df"
   ]
  },
  {
   "cell_type": "code",
   "execution_count": null,
   "id": "2cb127b9-f61d-42dc-8127-da4a428e3d65",
   "metadata": {
    "execution": {
     "iopub.status.busy": "2024-01-29T02:06:07.562267Z",
     "iopub.status.idle": "2024-01-29T02:06:07.562267Z",
     "shell.execute_reply": "2024-01-29T02:06:07.562267Z",
     "shell.execute_reply.started": "2024-01-29T02:06:07.562267Z"
    }
   },
   "outputs": [],
   "source": [
    "destination_CBG_inbound_device_device_count_df['inbound'].sum() / 1000000000, destination_CBG_inbound_device_device_count_df['RAW_STOP_COUNTS'].sum() / 1000000000"
   ]
  },
  {
   "cell_type": "code",
   "execution_count": null,
   "id": "b9f99b23-aa86-4679-87ed-4b16519027e2",
   "metadata": {
    "execution": {
     "iopub.status.busy": "2024-01-29T02:06:07.563271Z",
     "iopub.status.idle": "2024-01-29T02:06:07.563271Z",
     "shell.execute_reply": "2024-01-29T02:06:07.563271Z",
     "shell.execute_reply.started": "2024-01-29T02:06:07.563271Z"
    }
   },
   "outputs": [],
   "source": [
    "destination_CBG_inbound_device_device_count_df.to_csv(CBG_destination_inbound_fname, index=False)\n",
    "print(\"Saved destination_CBG_inbound_device_device_count_df as:\", CBG_destination_inbound_fname)\n",
    "destination_CBG_inbound_device_device_count_df"
   ]
  },
  {
   "cell_type": "code",
   "execution_count": null,
   "id": "ed837a3d-0187-49b4-a749-0b7829afab69",
   "metadata": {
    "execution": {
     "iopub.status.busy": "2024-01-29T02:06:07.565272Z",
     "iopub.status.idle": "2024-01-29T02:06:07.565272Z",
     "shell.execute_reply": "2024-01-29T02:06:07.565272Z",
     "shell.execute_reply.started": "2024-01-29T02:06:07.565272Z"
    }
   },
   "outputs": [],
   "source": [
    "destination_CBG_inbound_device_device_count_df['inbound'].sum() / 1000000000"
   ]
  },
  {
   "cell_type": "markdown",
   "id": "9a8be87c-83c4-4b89-a264-84661a1bf0c3",
   "metadata": {},
   "source": [
    "## Compute the hourly inbound (not used, not correct)"
   ]
  },
  {
   "cell_type": "code",
   "execution_count": null,
   "id": "77818816-6ddf-4570-9064-b6aab5a84329",
   "metadata": {
    "execution": {
     "iopub.status.busy": "2024-01-29T02:06:07.567272Z",
     "iopub.status.idle": "2024-01-29T02:06:07.567272Z",
     "shell.execute_reply": "2024-01-29T02:06:07.567272Z",
     "shell.execute_reply.started": "2024-01-29T02:06:07.567272Z"
    }
   },
   "outputs": [],
   "source": [
    "destination_CBG_inbound_df = pd.read_csv(CBG_destination_inbound_fname, dtype={'destination':str})\n",
    "destination_CBG_inbound_df"
   ]
  },
  {
   "cell_type": "code",
   "execution_count": null,
   "id": "2b0fb506-04b6-49d2-b2d7-6c5d02be435f",
   "metadata": {
    "execution": {
     "iopub.status.busy": "2024-01-29T02:06:07.568271Z",
     "iopub.status.idle": "2024-01-29T02:06:07.569272Z",
     "shell.execute_reply": "2024-01-29T02:06:07.568271Z",
     "shell.execute_reply.started": "2024-01-29T02:06:07.568271Z"
    }
   },
   "outputs": [],
   "source": [
    "destination_CBG_inbound_df.sample(30)['inbound_per_stop']#.mean()"
   ]
  },
  {
   "cell_type": "code",
   "execution_count": null,
   "id": "e631ebd7-ff3c-4602-a9c5-ead6af896510",
   "metadata": {
    "execution": {
     "iopub.status.busy": "2024-01-29T02:06:07.570273Z",
     "iopub.status.idle": "2024-01-29T02:06:07.570273Z",
     "shell.execute_reply": "2024-01-29T02:06:07.570273Z",
     "shell.execute_reply.started": "2024-01-29T02:06:07.570273Z"
    }
   },
   "outputs": [],
   "source": [
    "print(\"Loading in adjusted_dwelling_time_stop_CBG_df from:\", adjusted_dwelling_time_stop_CBG_fname)\n",
    "adjusted_dwelling_time_stop_CBG_df = pd.read_csv(adjusted_dwelling_time_stop_CBG_fname, dtype={'CBG':str})\n",
    "print(\"Total adjusted observed stop (billion):\", adjusted_dwelling_time_stop_CBG_df.iloc[:, 1:].sum().sum() / 1000000000)\n",
    "adjusted_dwelling_time_stop_CBG_df"
   ]
  },
  {
   "cell_type": "code",
   "execution_count": null,
   "id": "7fea484c-0fca-4f7f-bccd-f83af7a6a2f1",
   "metadata": {
    "execution": {
     "iopub.status.busy": "2024-01-29T02:06:07.571272Z",
     "iopub.status.idle": "2024-01-29T02:06:07.572272Z",
     "shell.execute_reply": "2024-01-29T02:06:07.572272Z",
     "shell.execute_reply.started": "2024-01-29T02:06:07.572272Z"
    }
   },
   "outputs": [],
   "source": [
    "hour_cnt = adjusted_dwelling_time_stop_CBG_df.shape[1] - 1\n",
    "print(\"hour_cnt:\", hour_cnt)"
   ]
  },
  {
   "cell_type": "code",
   "execution_count": null,
   "id": "e8042a3a-3a29-4d1b-848f-2a38af74a2e9",
   "metadata": {
    "execution": {
     "iopub.status.busy": "2024-01-29T02:06:07.573274Z",
     "iopub.status.idle": "2024-01-29T02:06:07.574272Z",
     "shell.execute_reply": "2024-01-29T02:06:07.574272Z",
     "shell.execute_reply.started": "2024-01-29T02:06:07.574272Z"
    }
   },
   "outputs": [],
   "source": [
    "adjusted_stop_inbound_per_stop_CBG_df = adjusted_dwelling_time_stop_CBG_df.merge(destination_CBG_inbound_df[['destination','inbound_per_stop']],\n",
    "                                                                                left_on=\"CBG\",\n",
    "                                                                                right_on=\"destination\",\n",
    "                                                                                )\n",
    "adjusted_stop_inbound_per_stop_CBG_df"
   ]
  },
  {
   "cell_type": "code",
   "execution_count": null,
   "id": "0caa8e52-4024-4fc2-af57-6f69712ea1ee",
   "metadata": {
    "execution": {
     "iopub.status.busy": "2024-01-29T02:06:07.575275Z",
     "iopub.status.idle": "2024-01-29T02:06:07.576276Z",
     "shell.execute_reply": "2024-01-29T02:06:07.576276Z",
     "shell.execute_reply.started": "2024-01-29T02:06:07.576276Z"
    }
   },
   "outputs": [],
   "source": [
    "hourly_inbound_df = adjusted_stop_inbound_per_stop_CBG_df.copy()\n",
    "for h in range(hour_cnt):\n",
    "    hourly_inbound_df.iloc[:, h + 1] = hourly_inbound_df.iloc[:, h + 1] * hourly_inbound_df['inbound_per_stop']  \n",
    "\n",
    "hourly_inbound_df = hourly_inbound_df.iloc[:, :-2]\n",
    "print(\"Total inbound (billion):\", hourly_inbound_df.iloc[:, 1:].sum().sum() / 1000000000)\n",
    "hourly_inbound_df"
   ]
  },
  {
   "cell_type": "code",
   "execution_count": null,
   "id": "06c1f3a0-0b18-4dc5-baef-79787bea6c9a",
   "metadata": {
    "execution": {
     "iopub.status.busy": "2024-01-29T02:06:07.577274Z",
     "iopub.status.idle": "2024-01-29T02:06:07.578368Z",
     "shell.execute_reply": "2024-01-29T02:06:07.577274Z",
     "shell.execute_reply.started": "2024-01-29T02:06:07.577274Z"
    }
   },
   "outputs": [],
   "source": [
    "hourly_inbound_df.iloc[:, 1:].sum().sum()"
   ]
  },
  {
   "cell_type": "markdown",
   "id": "e7f80e59-bb41-4c2b-ab7c-940fc4e8439d",
   "metadata": {},
   "source": [
    "# IPF  v2"
   ]
  },
  {
   "cell_type": "markdown",
   "id": "99c2f7d8-2937-4025-aab1-be8c196b377d",
   "metadata": {},
   "source": []
  },
  {
   "cell_type": "markdown",
   "id": "d5c73da3-368d-4a87-93b8-7bdbd9f1ac18",
   "metadata": {},
   "source": [
    "### Restored the outbound according to device sampling rate"
   ]
  },
  {
   "cell_type": "code",
   "execution_count": null,
   "id": "d90aa732-cb6d-4960-83d2-ba72817263de",
   "metadata": {
    "execution": {
     "iopub.status.busy": "2024-01-29T02:06:07.579369Z",
     "iopub.status.idle": "2024-01-29T02:06:07.580369Z",
     "shell.execute_reply": "2024-01-29T02:06:07.580369Z",
     "shell.execute_reply.started": "2024-01-29T02:06:07.580369Z"
    }
   },
   "outputs": [],
   "source": [
    "CBG_device_stop_origin_distribution_df = pd.read_csv(CBG_device_stop_origin_distribution_fname)\n",
    "print(\"Total observed stops (billion): \", CBG_device_stop_origin_distribution_df['stop'].sum() / 1000000000)\n",
    "CBG_device_stop_origin_distribution_df"
   ]
  },
  {
   "cell_type": "code",
   "execution_count": null,
   "id": "242c4ac6-af82-4816-89dd-b20bd0893ef0",
   "metadata": {
    "execution": {
     "iopub.status.busy": "2024-01-29T02:06:07.581369Z",
     "iopub.status.idle": "2024-01-29T02:06:07.581369Z",
     "shell.execute_reply": "2024-01-29T02:06:07.581369Z",
     "shell.execute_reply.started": "2024-01-29T02:06:07.581369Z"
    }
   },
   "outputs": [],
   "source": [
    "people_per_device_df = pd.read_csv(person_per_device_fname, dtype={'CBG_FIPS': str})\n",
    "people_per_device_df"
   ]
  },
  {
   "cell_type": "code",
   "execution_count": null,
   "id": "e1735761-7ab5-4dc2-9ce1-1fd5d88c9b6b",
   "metadata": {
    "execution": {
     "iopub.status.busy": "2024-01-29T02:06:07.582368Z",
     "iopub.status.idle": "2024-01-29T02:06:07.583370Z",
     "shell.execute_reply": "2024-01-29T02:06:07.582368Z",
     "shell.execute_reply.started": "2024-01-29T02:06:07.582368Z"
    }
   },
   "outputs": [],
   "source": [
    "CBG_origin_stop_distribution_sampling_rate_df = CBG_device_stop_origin_distribution_df.merge(people_per_device_df, left_on='origin', right_on='CBG_FIPS')\n",
    "CBG_origin_stop_distribution_sampling_rate_df"
   ]
  },
  {
   "cell_type": "markdown",
   "id": "808c73f3-45c0-4111-a20d-1780ff1065bc",
   "metadata": {},
   "source": [
    "Because \"stop\" is the combination of visitors from various HOME CBGs! So, we need to compute the inbound. \n",
    "\n",
    "The outbound compuated below can be view as the distribution only."
   ]
  },
  {
   "cell_type": "code",
   "execution_count": null,
   "id": "3c1f5c03-3cd8-4153-8bea-ff6adad6b0fd",
   "metadata": {
    "execution": {
     "iopub.status.busy": "2024-01-29T02:06:07.584370Z",
     "iopub.status.idle": "2024-01-29T02:06:07.584370Z",
     "shell.execute_reply": "2024-01-29T02:06:07.584370Z",
     "shell.execute_reply.started": "2024-01-29T02:06:07.584370Z"
    }
   },
   "outputs": [],
   "source": [
    "person_per_device_national = CBG_origin_stop_distribution_sampling_rate_df['totalpopulation'].sum() / CBG_origin_stop_distribution_sampling_rate_df['NUMBER_DEVICES_RESIDING'].sum()\n",
    "CBG_origin_stop_distribution_sampling_rate_df['restored_outbound_count'] = CBG_origin_stop_distribution_sampling_rate_df['stop'] * person_per_device_national\n",
    "restored_total_restored_outbound_count = CBG_origin_stop_distribution_sampling_rate_df['restored_outbound_count'].sum() /  10**9\n",
    "print(\"Restored total outbound distribution (billion) using national sampling rate:\", restored_total_restored_outbound_count)  # 37.44716723845148 billion\n",
    "\n",
    "CBG_origin_stop_distribution_sampling_rate_df['restored_outbound_count'] = CBG_origin_stop_distribution_sampling_rate_df['stop'] * CBG_origin_stop_distribution_sampling_rate_df['person_per_device_county']\n",
    "restored_total_restored_outbound_count = CBG_origin_stop_distribution_sampling_rate_df['restored_outbound_count'].sum() /  10**9\n",
    "print(\"Restored total outbound distribution (billion) using county sampling rate:\", restored_total_restored_outbound_count)  # 50.96843487672891 billion\n",
    "\n",
    "CBG_origin_stop_distribution_sampling_rate_df['restored_outbound_count'] = CBG_origin_stop_distribution_sampling_rate_df['stop'] * CBG_origin_stop_distribution_sampling_rate_df['person_per_device']\n",
    "restored_total_restored_outbound_count = CBG_origin_stop_distribution_sampling_rate_df['restored_outbound_count'].sum() / 10**9\n",
    "CBG_origin_stop_distribution_sampling_rate_df.to_csv(CBG_origin_outbound_distribution_sampling_rate_fname, index=False)\n",
    "print(\"Restored total outbound distribution (billion) using CBG sampling rate:\", restored_total_restored_outbound_count)  # 61.19985609714293 billion\n",
    "\n",
    "print(\"Saved CBG_origin_outbound_distribution_sampling_rate at:\", CBG_origin_outbound_distribution_sampling_rate_fname)"
   ]
  },
  {
   "cell_type": "code",
   "execution_count": null,
   "id": "df1c8d29-d04c-440d-8cd2-219b45d14bfb",
   "metadata": {
    "execution": {
     "iopub.status.busy": "2024-01-29T02:06:07.585369Z",
     "iopub.status.idle": "2024-01-29T02:06:07.586369Z",
     "shell.execute_reply": "2024-01-29T02:06:07.586369Z",
     "shell.execute_reply.started": "2024-01-29T02:06:07.586369Z"
    }
   },
   "outputs": [],
   "source": [
    "# use the total_inboud to calibrate the outbound\n",
    "\n",
    "# restored_outbound_count"
   ]
  },
  {
   "cell_type": "markdown",
   "id": "0698613c-4927-43aa-8261-79378bdbcecb",
   "metadata": {},
   "source": [
    "## Load data"
   ]
  },
  {
   "cell_type": "code",
   "execution_count": null,
   "id": "3c10c690-b85f-4623-ad84-40dd8e8d37fb",
   "metadata": {
    "execution": {
     "iopub.status.busy": "2024-01-29T02:06:07.587368Z",
     "iopub.status.idle": "2024-01-29T02:06:07.587368Z",
     "shell.execute_reply": "2024-01-29T02:06:07.587368Z",
     "shell.execute_reply.started": "2024-01-29T02:06:07.587368Z"
    }
   },
   "outputs": [],
   "source": [
    "hourly_agregated_inbound_df = pd.read_csv(hourly_agregated_inbound_fname)\n",
    "total_inbound = hourly_agregated_inbound_df['inboud'].sum()\n",
    "print(\"total_inbound (billion):\", total_inbound / 10**9)"
   ]
  },
  {
   "cell_type": "code",
   "execution_count": null,
   "id": "2bef68c4-d83a-4fe8-a616-4cd600cf4acf",
   "metadata": {
    "execution": {
     "iopub.status.busy": "2024-01-29T02:06:07.588368Z",
     "iopub.status.idle": "2024-01-29T02:06:07.589441Z",
     "shell.execute_reply": "2024-01-29T02:06:07.589441Z",
     "shell.execute_reply.started": "2024-01-29T02:06:07.589441Z"
    }
   },
   "outputs": [],
   "source": [
    "# hourly_agregated_inbound_df"
   ]
  },
  {
   "cell_type": "code",
   "execution_count": null,
   "id": "230cd01e-e5bd-493f-9158-503dbc02c258",
   "metadata": {
    "execution": {
     "iopub.status.busy": "2024-01-29T02:06:07.590441Z",
     "iopub.status.idle": "2024-01-29T02:06:07.590441Z",
     "shell.execute_reply": "2024-01-29T02:06:07.590441Z",
     "shell.execute_reply.started": "2024-01-29T02:06:07.590441Z"
    }
   },
   "outputs": [],
   "source": [
    "CBG_restored_origin_outbound_df = pd.read_csv(CBG_origin_outbound_distribution_sampling_rate_fname)\n",
    "total_outbound = CBG_restored_origin_outbound_df['restored_outbound_count'].sum()\n",
    "print(\"Total outbound distribution (billions): \",  total_outbound / 1000000000)\n",
    "\n",
    "\n",
    "factor = total_inbound / total_outbound\n",
    "print(\"factor:\", factor)\n",
    "\n",
    "\n",
    "CBG_restored_origin_outbound_df['restored_outbound_count'] = CBG_restored_origin_outbound_df['restored_outbound_count'] * factor\n",
    "\n",
    "print(\"Total outbound distribution (billions): \",   CBG_restored_origin_outbound_df['restored_outbound_count'].sum() / 10**9)"
   ]
  },
  {
   "cell_type": "code",
   "execution_count": null,
   "id": "7044d274-7e39-4418-94c0-6c7996195fe2",
   "metadata": {
    "execution": {
     "iopub.status.busy": "2024-01-29T02:06:07.591441Z",
     "iopub.status.idle": "2024-01-29T02:06:07.592442Z",
     "shell.execute_reply": "2024-01-29T02:06:07.592442Z",
     "shell.execute_reply.started": "2024-01-29T02:06:07.592442Z"
    }
   },
   "outputs": [],
   "source": [
    "CBG_restored_origin_outbound_df.shape"
   ]
  },
  {
   "cell_type": "code",
   "execution_count": null,
   "id": "34f16d8f-e2d7-4705-9adb-e2fe2817efa5",
   "metadata": {},
   "outputs": [],
   "source": []
  },
  {
   "cell_type": "code",
   "execution_count": null,
   "id": "10d4f561-e979-49ac-b8ed-08fe4b902e5c",
   "metadata": {},
   "outputs": [],
   "source": []
  },
  {
   "cell_type": "code",
   "execution_count": null,
   "id": "4b04cfb0-2bc6-4d88-a79a-04a8fc63abd1",
   "metadata": {},
   "outputs": [],
   "source": []
  },
  {
   "cell_type": "code",
   "execution_count": null,
   "id": "eee6fb4c-125e-4cf7-9f96-13862f3b7843",
   "metadata": {
    "execution": {
     "iopub.status.busy": "2024-01-29T02:06:07.593442Z",
     "iopub.status.idle": "2024-01-29T02:06:07.593442Z",
     "shell.execute_reply": "2024-01-29T02:06:07.593442Z",
     "shell.execute_reply.started": "2024-01-29T02:06:07.593442Z"
    }
   },
   "outputs": [],
   "source": [
    "# Load "
   ]
  },
  {
   "cell_type": "code",
   "execution_count": null,
   "id": "d10eb588-51c6-4c7e-bb1b-bb779a10c776",
   "metadata": {},
   "outputs": [],
   "source": []
  },
  {
   "cell_type": "code",
   "execution_count": null,
   "id": "1c7a1751-5346-4434-aa17-4174f2fadcd4",
   "metadata": {},
   "outputs": [],
   "source": []
  },
  {
   "cell_type": "code",
   "execution_count": null,
   "id": "e2516051-6bf6-4880-9528-1773e1c182e9",
   "metadata": {
    "execution": {
     "iopub.status.busy": "2024-01-29T02:06:07.594439Z",
     "iopub.status.idle": "2024-01-29T02:06:07.595441Z",
     "shell.execute_reply": "2024-01-29T02:06:07.595441Z",
     "shell.execute_reply.started": "2024-01-29T02:06:07.595441Z"
    }
   },
   "outputs": [],
   "source": [
    "# adjusted_dwelling_time_stop_natinol_df = pd.read_csv(adjusted_dwelling_time_stop_natinol_fname)\n",
    "# total_adjusted_stops = adjusted_dwelling_time_stop_natinol_df['stop'].sum()\n",
    "# print(\"total_adjusted_stops (billion):\", total_adjusted_stops / 1000000000)\n",
    "\n",
    "# # covnert distribution to acution outbound\n",
    "# outbound_per_stop = total_outbound / total_adjusted_stops \n",
    "\n",
    "# adjusted_dwelling_time_stop_natinol_df['stop'] *= outbound_per_stop\n",
    "# print(\"total outbouds (billion):\", adjusted_dwelling_time_stop_natinol_df['stop'].sum() / 1000000000)"
   ]
  },
  {
   "cell_type": "markdown",
   "id": "b7ad21d4-b169-4322-bafc-b637badb2883",
   "metadata": {},
   "source": [
    "### start IPF"
   ]
  },
  {
   "cell_type": "code",
   "execution_count": null,
   "id": "a7e73391-63dc-41a3-8358-6b194b20b140",
   "metadata": {},
   "outputs": [],
   "source": []
  },
  {
   "cell_type": "code",
   "execution_count": null,
   "id": "c95ab875-8302-40b5-b069-6b8b1bab2b2c",
   "metadata": {
    "execution": {
     "iopub.status.busy": "2024-01-29T02:06:07.596441Z",
     "iopub.status.idle": "2024-01-29T02:06:07.597443Z",
     "shell.execute_reply": "2024-01-29T02:06:07.596441Z",
     "shell.execute_reply.started": "2024-01-29T02:06:07.596441Z"
    }
   },
   "outputs": [],
   "source": [
    "import numpy as np\n",
    "from ipfn import ipfn\n",
    "\n",
    "restored_CBG_outbound_arr = CBG_restored_origin_outbound_df['restored_outbound_count'].to_numpy()\n",
    "restored_hourly_outbound_arr = hourly_agregated_inbound_df['inboud'].to_numpy()  # \n",
    "\n",
    "aggregates = [restored_CBG_outbound_arr, restored_hourly_outbound_arr]\n",
    "dimensions = [[0], [1]]\n",
    "\n",
    "seed_arr = np.ones((len(restored_CBG_outbound_arr), len(restored_hourly_outbound_arr)))\n",
    "\n",
    "IPF = ipfn.ipfn(seed_arr, aggregates, dimensions, convergence_rate=1e-3)\n",
    "m = IPF.iteration()\n",
    "print(m.shape)"
   ]
  },
  {
   "cell_type": "code",
   "execution_count": null,
   "id": "3bb0f4f4-5c35-451f-8934-27714f50f142",
   "metadata": {
    "execution": {
     "iopub.status.busy": "2024-01-29T02:06:07.598442Z",
     "iopub.status.idle": "2024-01-29T02:06:07.598442Z",
     "shell.execute_reply": "2024-01-29T02:06:07.598442Z",
     "shell.execute_reply.started": "2024-01-29T02:06:07.598442Z"
    }
   },
   "outputs": [],
   "source": [
    "print(\"Error of IPF:\")\n",
    "print((m.sum(axis=1) - restored_CBG_outbound_arr).sum(), (m.sum(axis=0) - restored_hourly_outbound_arr).sum())"
   ]
  },
  {
   "cell_type": "code",
   "execution_count": null,
   "id": "83c992ea-54cb-476b-9ec5-d633c9d38cb8",
   "metadata": {
    "execution": {
     "iopub.status.busy": "2024-01-29T02:06:07.599442Z",
     "iopub.status.idle": "2024-01-29T02:06:07.600440Z",
     "shell.execute_reply": "2024-01-29T02:06:07.600440Z",
     "shell.execute_reply.started": "2024-01-29T02:06:07.600440Z"
    }
   },
   "outputs": [],
   "source": [
    "(m.sum(axis=1) - restored_CBG_outbound_arr).max(), (m.sum(axis=0) - restored_hourly_outbound_arr).max()"
   ]
  },
  {
   "cell_type": "code",
   "execution_count": null,
   "id": "96408b8a-4104-4ad3-a0e1-1707c262697f",
   "metadata": {
    "execution": {
     "iopub.status.busy": "2024-01-29T02:06:07.601440Z",
     "iopub.status.idle": "2024-01-29T02:06:07.601440Z",
     "shell.execute_reply": "2024-01-29T02:06:07.601440Z",
     "shell.execute_reply.started": "2024-01-29T02:06:07.601440Z"
    }
   },
   "outputs": [],
   "source": [
    "(m.sum(axis=1) - restored_CBG_outbound_arr).min(), (m.sum(axis=0) - restored_hourly_outbound_arr).min()"
   ]
  },
  {
   "cell_type": "code",
   "execution_count": null,
   "id": "7cfc417a-4f5a-4280-bdff-137379181158",
   "metadata": {
    "execution": {
     "iopub.status.busy": "2024-01-29T02:06:07.602440Z",
     "iopub.status.idle": "2024-01-29T02:06:07.603442Z",
     "shell.execute_reply": "2024-01-29T02:06:07.603442Z",
     "shell.execute_reply.started": "2024-01-29T02:06:07.603442Z"
    }
   },
   "outputs": [],
   "source": [
    "# Save IPF results\n",
    "hourly_columns = [f'hour_{h+1}' for h in range(restored_hourly_outbound_arr.shape[0])]\n",
    "IPF_df = pd.DataFrame(m, columns=hourly_columns)\n",
    "print(\"Total outbound visitor (billion):\", IPF_df.sum().sum() / 1000000000)\n",
    "\n",
    " \n",
    "IPF_df['CBG'] = CBG_restored_origin_outbound_df['origin'].astype(str).str.zfill(12)\n",
    "IPF_df = IPF_df[['CBG'] + hourly_columns]\n",
    "\n",
    "print(\"Saving IPF at:\", IPF_results_fname)\n",
    "IPF_df.to_csv(IPF_results_fname, index=False)\n",
    "print(\"Saved IPF_results at:\", IPF_results_fname)\n",
    "IPF_df"
   ]
  },
  {
   "cell_type": "code",
   "execution_count": null,
   "id": "16a7b0d3-8572-4517-ad76-67bae4f2fbc5",
   "metadata": {
    "execution": {
     "iopub.status.busy": "2024-01-29T02:06:07.604440Z",
     "iopub.status.idle": "2024-01-29T02:06:07.604440Z",
     "shell.execute_reply": "2024-01-29T02:06:07.604440Z",
     "shell.execute_reply.started": "2024-01-29T02:06:07.604440Z"
    }
   },
   "outputs": [],
   "source": [
    "Not use below"
   ]
  },
  {
   "cell_type": "markdown",
   "id": "cee536d7-35b8-4a4a-8d8d-86aa11b630c3",
   "metadata": {},
   "source": [
    "##\tAdjust stop count by dwelling time"
   ]
  },
  {
   "cell_type": "markdown",
   "id": "f5042fd1-47e3-481a-ae8d-44741ed5f153",
   "metadata": {},
   "source": [
    "Load the raw stop data and Neighorhood Patterns table."
   ]
  },
  {
   "cell_type": "code",
   "execution_count": null,
   "id": "3308808b-3dfb-4eeb-88eb-bdbbb404f489",
   "metadata": {
    "execution": {
     "iopub.status.busy": "2024-01-29T02:06:07.605446Z",
     "iopub.status.idle": "2024-01-29T02:06:07.606452Z",
     "shell.execute_reply": "2024-01-29T02:06:07.606452Z",
     "shell.execute_reply.started": "2024-01-29T02:06:07.606452Z"
    }
   },
   "outputs": [],
   "source": [
    "# Load the raw stop data and Neighorhood Patterns table.\n",
    "\n",
    "# device_home_areas_df = pd.read_csv(device_home_areas_fname)\n",
    "# print(\"Loading no_dict_colum CSV file:\", no_dict_colum_fname)\n",
    "no_dict_colum_df = pd.read_csv(no_dict_colum_fname)\n",
    "\n",
    "no_dict_colum_df"
   ]
  },
  {
   "cell_type": "code",
   "execution_count": null,
   "id": "540941ff-1d1c-4fdf-be90-b4c3ab2e6dfb",
   "metadata": {
    "execution": {
     "iopub.status.busy": "2024-01-29T02:06:07.607453Z",
     "iopub.status.idle": "2024-01-29T02:06:07.608453Z",
     "shell.execute_reply": "2024-01-29T02:06:07.607453Z",
     "shell.execute_reply.started": "2024-01-29T02:06:07.607453Z"
    }
   },
   "outputs": [],
   "source": [
    "# non_adjusted_dwell_time_stop_CBG_arr = ad_op.adjust_stop_by_dwelling_time(np_df=no_dict_colum_df.iloc[:], adjust_dwell_time=False, clean_negative=True)\n",
    "# print(\"sum of non_adjusted_dwell_time_stop_CBG_arr (million):\", non_adjusted_dwell_time_stop_CBG_arr.sum().sum()/1000000)\n",
    "# print(\"shape of non_adjusted_dwell_time_stop_CBG_arr:\", non_adjusted_dwell_time_stop_CBG_arr.shape)"
   ]
  },
  {
   "cell_type": "code",
   "execution_count": null,
   "id": "ef9780ca-54b5-4649-bb58-52529913f610",
   "metadata": {
    "execution": {
     "iopub.status.busy": "2024-01-29T02:06:07.609453Z",
     "iopub.status.idle": "2024-01-29T02:06:07.610453Z",
     "shell.execute_reply": "2024-01-29T02:06:07.610453Z",
     "shell.execute_reply.started": "2024-01-29T02:06:07.610453Z"
    }
   },
   "outputs": [],
   "source": [
    "# adjusted_dwell_time_stop_CBG_arr = ad_op.adjust_stop_by_dwelling_time(np_df=no_dict_colum_df.iloc[:], adjust_dwell_time=True, clean_negative=True)\n",
    "\n",
    "# adjusted_dwell_time_stop_national_arr = adjusted_dwell_time_stop_CBG_arr.sum(axis=0)\n",
    "\n",
    "# print(\"sum of adjusted_dwell_time_stop_CBG_arr (million):\", adjusted_dwell_time_stop_CBG_arr.sum().sum()/1000000)\n",
    "# print(\"sum of adjusted_dwell_time_stop_national_arr (million):\", adjusted_dwell_time_stop_national_arr.sum().sum()/1000000)\n",
    "# print(\"shape of adjusted_dwell_time_stop_CBG_arr:\", adjusted_dwell_time_stop_CBG_arr.shape)"
   ]
  },
  {
   "cell_type": "code",
   "execution_count": null,
   "id": "990fbe86-fa9c-4876-9e83-6953da3e18f2",
   "metadata": {
    "execution": {
     "iopub.status.busy": "2024-01-29T02:06:07.612453Z",
     "iopub.status.idle": "2024-01-29T02:06:07.612453Z",
     "shell.execute_reply": "2024-01-29T02:06:07.612453Z",
     "shell.execute_reply.started": "2024-01-29T02:06:07.612453Z"
    }
   },
   "outputs": [],
   "source": [
    "# hourly_columns\n",
    "# adjusted_dwell_time_stop_national_arr.shape"
   ]
  },
  {
   "cell_type": "markdown",
   "id": "c246eabf-473c-452b-8db9-2ecb2d36c408",
   "metadata": {},
   "source": [
    "Convert numpy array to DataFrame"
   ]
  },
  {
   "cell_type": "code",
   "execution_count": null,
   "id": "95829fa8-ebe1-4db8-898b-55ea9bc0362a",
   "metadata": {
    "execution": {
     "iopub.status.busy": "2024-01-29T02:06:07.613453Z",
     "iopub.status.idle": "2024-01-29T02:06:07.614456Z",
     "shell.execute_reply": "2024-01-29T02:06:07.614456Z",
     "shell.execute_reply.started": "2024-01-29T02:06:07.614456Z"
    }
   },
   "outputs": [],
   "source": [
    "# convert numpy array to DataFrame\n",
    "# CBG level\n",
    "hourly_columns = [f'hour_{h+1}' for h in range(adjusted_dwell_time_stop_CBG_arr.shape[1])]\n",
    "adjusted_dwelling_time_stop_CBG_df = pd.DataFrame(adjusted_dwell_time_stop_CBG_arr, columns=hourly_columns)\n",
    "adjusted_dwelling_time_stop_CBG_df['CBG'] = no_dict_colum_df['AREA'].astype(str).str.zfill(12).to_list()\n",
    "adjusted_dwelling_time_stop_CBG_df = adjusted_dwelling_time_stop_CBG_df[['CBG'] + hourly_columns]  # reorder columns\n",
    "adjusted_dwelling_time_stop_CBG_df = adjusted_dwelling_time_stop_CBG_df.sort_values('CBG')\n",
    "\n",
    "\n",
    "# national level\n",
    "adjusted_dwelling_time_stop_natinol_df = pd.DataFrame(adjusted_dwell_time_stop_national_arr, columns=['stop'])\n",
    "\n",
    "adjusted_dwelling_time_stop_CBG_df"
   ]
  },
  {
   "cell_type": "code",
   "execution_count": null,
   "id": "33dc919e-b337-4064-a080-68fd090b6ada",
   "metadata": {
    "execution": {
     "iopub.status.busy": "2024-01-29T02:06:07.615453Z",
     "iopub.status.idle": "2024-01-29T02:06:07.615453Z",
     "shell.execute_reply": "2024-01-29T02:06:07.615453Z",
     "shell.execute_reply.started": "2024-01-29T02:06:07.615453Z"
    }
   },
   "outputs": [],
   "source": [
    "print(\"Adjustted total stop (billion) by dwelling time from CBG and national level (should be the same):\")\n",
    "print(adjusted_dwelling_time_stop_CBG_df[hourly_columns].sum().sum() / 1000000000,  adjusted_dwelling_time_stop_natinol_df.sum().sum()/ 1000000000)"
   ]
  },
  {
   "cell_type": "code",
   "execution_count": null,
   "id": "6c264dbb-16c1-4e39-a8ec-c51642acce59",
   "metadata": {
    "execution": {
     "iopub.status.busy": "2024-01-29T02:06:07.616453Z",
     "iopub.status.idle": "2024-01-29T02:06:07.617453Z",
     "shell.execute_reply": "2024-01-29T02:06:07.617453Z",
     "shell.execute_reply.started": "2024-01-29T02:06:07.617453Z"
    }
   },
   "outputs": [],
   "source": [
    "# Save CSV files\n",
    "adjusted_dwelling_time_stop_natinol_df.to_csv(adjusted_dwelling_time_stop_natinol_fname, index=False)\n",
    "print(\"Saved national hourly stop at:\", adjusted_dwelling_time_stop_natinol_fname)\n",
    "\n",
    "adjusted_dwelling_time_stop_CBG_df.to_csv(adjusted_dwelling_time_stop_CBG_fname, index=False)\n",
    "print(\"Saved CBG hourly stop at:\", adjusted_dwelling_time_stop_CBG_fname)"
   ]
  },
  {
   "cell_type": "markdown",
   "id": "23d75575-b129-499c-8412-e1955c94531b",
   "metadata": {},
   "source": [
    "###  Convert observed stop counts to actual visitor counts."
   ]
  },
  {
   "cell_type": "markdown",
   "id": "f3b577ee-af28-4dbb-96ce-3d7c04adc98e",
   "metadata": {},
   "source": [
    "#### compute the person_per_device at CBG and county level"
   ]
  },
  {
   "cell_type": "markdown",
   "id": "cd80bbf4-8b5c-46fe-a43b-c29b66ebbd2e",
   "metadata": {},
   "source": [
    "Load ACS and home panel data, merge them into device sampling rate table at CBG and county level"
   ]
  },
  {
   "cell_type": "code",
   "execution_count": null,
   "id": "2e3e0c50-1495-44f9-be4e-0e8a61fcbbb4",
   "metadata": {
    "execution": {
     "iopub.status.busy": "2024-01-29T02:06:07.618452Z",
     "iopub.status.idle": "2024-01-29T02:06:07.618452Z",
     "shell.execute_reply": "2024-01-29T02:06:07.618452Z",
     "shell.execute_reply.started": "2024-01-29T02:06:07.618452Z"
    }
   },
   "outputs": [],
   "source": [
    "ACS_df = pd.read_csv(ACS_file)\n",
    "ACS_df[\"CBG_FIPS\"] = ACS_df[\"fips\"].astype(str).str.zfill(12)\n",
    "print(\"Total US population (million):\",  ACS_df['totalpopulation'].sum() / 1000000)"
   ]
  },
  {
   "cell_type": "code",
   "execution_count": null,
   "id": "7cfce4e2-4147-4ab8-9df0-2cbf2c5ab975",
   "metadata": {
    "execution": {
     "iopub.status.busy": "2024-01-29T02:06:07.620475Z",
     "iopub.status.idle": "2024-01-29T02:06:07.620475Z",
     "shell.execute_reply": "2024-01-29T02:06:07.620475Z",
     "shell.execute_reply.started": "2024-01-29T02:06:07.620475Z"
    }
   },
   "outputs": [],
   "source": [
    "print(\"Loading home panel file:\", home_panel_fname)\n",
    "panel_df = pd.read_csv(home_panel_fname)\n",
    "target_panel_df = panel_df.query(f\"YEAR == {year} and MON == {int(month)} and ISO_COUNTRY_CODE == 'US' \")\n",
    "target_panel_df"
   ]
  },
  {
   "cell_type": "code",
   "execution_count": null,
   "id": "73f302b6-bba9-4d82-a5b5-ba1fbafe5905",
   "metadata": {
    "execution": {
     "iopub.status.busy": "2024-01-29T02:06:07.621475Z",
     "iopub.status.idle": "2024-01-29T02:06:07.622474Z",
     "shell.execute_reply": "2024-01-29T02:06:07.622474Z",
     "shell.execute_reply.started": "2024-01-29T02:06:07.622474Z"
    }
   },
   "outputs": [],
   "source": [
    "panel_ACS_df = target_panel_df.merge(ACS_df[['CBG_FIPS', 'totalpopulation']], left_on='CENSUS_BLOCK_GROUP', right_on='CBG_FIPS')\n",
    "panel_ACS_df = panel_ACS_df.dropna(subset='NUMBER_DEVICES_RESIDING')\n",
    "panel_ACS_df['NUMBER_DEVICES_RESIDING'] = panel_ACS_df['NUMBER_DEVICES_RESIDING'].astype(int)\n",
    "panel_ACS_df = panel_ACS_df.sort_values('CBG_FIPS')\n",
    "panel_ACS_df['person_per_device'] = panel_ACS_df['totalpopulation'] / panel_ACS_df['NUMBER_DEVICES_RESIDING']\n",
    "print(\"Data cover US population:\", panel_ACS_df['totalpopulation'].sum())\n",
    "panel_ACS_df"
   ]
  },
  {
   "cell_type": "code",
   "execution_count": null,
   "id": "9c4fb895-1cc2-406b-93c1-f57f59bb12c7",
   "metadata": {
    "execution": {
     "iopub.status.busy": "2024-01-29T02:06:07.623474Z",
     "iopub.status.idle": "2024-01-29T02:06:07.623474Z",
     "shell.execute_reply": "2024-01-29T02:06:07.623474Z",
     "shell.execute_reply.started": "2024-01-29T02:06:07.623474Z"
    }
   },
   "outputs": [],
   "source": [
    "# get people_per_device of a county\n",
    "\n",
    "panel_ACS_df['county_FIPS'] = panel_ACS_df['CBG_FIPS'].str[:5]\n",
    "sampling_rate_county_df = panel_ACS_df.groupby(['county_FIPS'], as_index=False).agg(    # , 'YEAR', \"MON\", \"REGION\", \"ISO_COUNTRY_CODE\"\n",
    "    county_device=('NUMBER_DEVICES_RESIDING', 'sum'),\n",
    "    county_device_daytime=('NUMBER_DEVICES_RESIDING', 'sum'),\n",
    "    county_device_population=('totalpopulation', 'sum'),\n",
    "    ) \n",
    "\n",
    "sampling_rate_county_df['person_per_device_county'] = sampling_rate_county_df['county_device_population'] /  sampling_rate_county_df['county_device']\n",
    "\n",
    "print(\"National device and population count:\\n\")\n",
    "print(sampling_rate_county_df[['county_device', 'county_device_population']].sum())\n",
    "\n",
    "people_per_device_df = panel_ACS_df.merge(sampling_rate_county_df, left_on='county_FIPS', right_on='county_FIPS')\n",
    "people_per_device_df.to_csv(person_per_device_fname, index=False)\n",
    "people_per_device_df"
   ]
  },
  {
   "cell_type": "markdown",
   "id": "c9107ef0-ccab-4f66-a9b5-171bff548ee4",
   "metadata": {},
   "source": [
    "#### restore the observated stop count to actual visitor count"
   ]
  },
  {
   "cell_type": "code",
   "execution_count": null,
   "id": "fd3b19a9-6db7-444e-8577-be20c0d9530d",
   "metadata": {
    "execution": {
     "iopub.status.busy": "2024-01-29T02:06:07.625491Z",
     "iopub.status.idle": "2024-01-29T02:06:07.626474Z",
     "shell.execute_reply": "2024-01-29T02:06:07.625491Z",
     "shell.execute_reply.started": "2024-01-29T02:06:07.625491Z"
    }
   },
   "outputs": [],
   "source": [
    "people_per_device_df = pd.read_csv(person_per_device_fname, dtype={'CBG_FIPS': str})\n",
    "adjusted_dwelling_time_stop_CBG_df = pd.read_csv(adjusted_dwelling_time_stop_CBG_fname, dtype={'CBG':str})"
   ]
  },
  {
   "cell_type": "code",
   "execution_count": null,
   "id": "5970f017-353a-49a0-8856-691dbb6b560a",
   "metadata": {
    "execution": {
     "iopub.status.busy": "2024-01-29T02:06:07.628475Z",
     "iopub.status.idle": "2024-01-29T02:06:07.628475Z",
     "shell.execute_reply": "2024-01-29T02:06:07.628475Z",
     "shell.execute_reply.started": "2024-01-29T02:06:07.628475Z"
    }
   },
   "outputs": [],
   "source": [
    "adjusted_dwelling_time_stop_CBG_df\n",
    "# people_per_device_df"
   ]
  },
  {
   "cell_type": "code",
   "execution_count": null,
   "id": "04b7b390-46b3-42ec-b173-bfbdf7019dec",
   "metadata": {
    "execution": {
     "iopub.status.busy": "2024-01-29T02:06:07.629474Z",
     "iopub.status.idle": "2024-01-29T02:06:07.630474Z",
     "shell.execute_reply": "2024-01-29T02:06:07.630474Z",
     "shell.execute_reply.started": "2024-01-29T02:06:07.630474Z"
    }
   },
   "outputs": [],
   "source": [
    "adjusted_dwelling_time_stop_CBG_df.shape"
   ]
  },
  {
   "cell_type": "markdown",
   "id": "8dc3188d-f4ee-4f7d-a1cb-fe5887c9f246",
   "metadata": {},
   "source": [
    "## Get the total outgoer"
   ]
  },
  {
   "cell_type": "code",
   "execution_count": null,
   "id": "4d8de923-e284-4c41-954f-788192f1dcb6",
   "metadata": {
    "execution": {
     "iopub.status.busy": "2024-01-29T02:06:07.631475Z",
     "iopub.status.idle": "2024-01-29T02:06:07.632475Z",
     "shell.execute_reply": "2024-01-29T02:06:07.632475Z",
     "shell.execute_reply.started": "2024-01-29T02:06:07.632475Z"
    }
   },
   "outputs": [],
   "source": [
    "device_home_areas_df = pd.read_csv(device_home_areas_fname)\n",
    "device_home_areas_df"
   ]
  },
  {
   "cell_type": "code",
   "execution_count": null,
   "id": "1822ee47-0d44-49cb-8e59-d75cd44893fd",
   "metadata": {
    "execution": {
     "iopub.status.busy": "2024-01-29T02:06:07.633475Z",
     "iopub.status.idle": "2024-01-29T02:06:07.633475Z",
     "shell.execute_reply": "2024-01-29T02:06:07.633475Z",
     "shell.execute_reply.started": "2024-01-29T02:06:07.633475Z"
    }
   },
   "outputs": [],
   "source": [
    "# Assume a stop is a device\n",
    "hour_cnt = adjusted_dwelling_time_stop_CBG_df.shape[1] - 1\n",
    "\n",
    "\n",
    "hourly_stop_sampling_rate_df = adjusted_dwelling_time_stop_CBG_df.merge(people_per_device_df, left_on='CBG', right_on='CBG_FIPS')\n",
    "national_people_per_device = hourly_stop_sampling_rate_df['totalpopulation'].sum() / hourly_stop_sampling_rate_df['NUMBER_DEVICES_RESIDING'].sum()\n",
    "\n",
    "print(\"hour_cnt:\", hour_cnt)\n",
    "print(\"national_people_per_device:\", national_people_per_device)\n",
    "\n",
    "for h in range(hour_cnt):\n",
    "    hourly_stop_sampling_rate_df.iloc[:, h + 1] = hourly_stop_sampling_rate_df.iloc[:, h + 1] * hourly_stop_sampling_rate_df['person_per_device']   # CBG leval   # BUG: person_per_device is for home(origin), not for destination!!!!!!!!!!!!\n",
    "    # hourly_stop_sampling_rate_df.iloc[:, h + 1] = hourly_stop_sampling_rate_df.iloc[:, h + 1] * national_people_per_device    # national leval\n",
    "    # hourly_stop_sampling_rate_df.iloc[:, h + 1] = hourly_stop_sampling_rate_df.iloc[:, h + 1] * hourly_stop_sampling_rate_df['person_per_device_county']   # county level\n",
    "    \n",
    "\n",
    "## used      CBG level sampling rate: 51028323628.24674\n",
    "## used   county level sampling rate: 51223351774.32022   # increase 0.3%\n",
    "## used national level sampling rate: 37518194037.32022   # decrease 26.5%\n",
    "\n",
    "restored_actual_CBG_hourly_visitor_df = hourly_stop_sampling_rate_df.iloc[:, :hour_cnt + 1]\n",
    "\n",
    "print(\"Restored total visitor count (billion):\")\n",
    "print(restored_actual_CBG_hourly_visitor_df.iloc[:, 1:hour_cnt + 1].sum().sum() / 1000000000)  # used CBG level sampling rate: 51028323628.24674\n",
    "\n",
    "print(\"Restored total visitor dataframe shape:\",  restored_actual_CBG_hourly_visitor_df.shape)"
   ]
  },
  {
   "cell_type": "code",
   "execution_count": null,
   "id": "7291533d-fa01-43bc-b631-9c6cca524c8b",
   "metadata": {
    "execution": {
     "iopub.status.busy": "2024-01-29T02:06:07.635475Z",
     "iopub.status.idle": "2024-01-29T02:06:07.635475Z",
     "shell.execute_reply": "2024-01-29T02:06:07.635475Z",
     "shell.execute_reply.started": "2024-01-29T02:06:07.635475Z"
    }
   },
   "outputs": [],
   "source": [
    "restored_actual_CBG_hourly_visitor_df"
   ]
  },
  {
   "cell_type": "code",
   "execution_count": null,
   "id": "80b74ac5-2fb5-4e19-ab53-0369f8036b67",
   "metadata": {
    "execution": {
     "iopub.status.busy": "2024-01-29T02:06:07.636481Z",
     "iopub.status.idle": "2024-01-29T02:06:07.637480Z",
     "shell.execute_reply": "2024-01-29T02:06:07.636481Z",
     "shell.execute_reply.started": "2024-01-29T02:06:07.636481Z"
    }
   },
   "outputs": [],
   "source": [
    "print(\"Restored actuall CBG hourly visitor (billion):\")\n",
    "print(restored_actual_CBG_hourly_visitor_df.iloc[:, 1:hour_cnt + 1].sum().sum()/ 1000000000)"
   ]
  },
  {
   "cell_type": "code",
   "execution_count": null,
   "id": "cd6b5b03-fc90-41e9-91a5-f10bc2b6c8cb",
   "metadata": {
    "execution": {
     "iopub.status.busy": "2024-01-29T02:06:07.638481Z",
     "iopub.status.idle": "2024-01-29T02:06:07.638481Z",
     "shell.execute_reply": "2024-01-29T02:06:07.638481Z",
     "shell.execute_reply.started": "2024-01-29T02:06:07.638481Z"
    }
   },
   "outputs": [],
   "source": [
    "restored_actual_target_hourly_visitor_df = pd.DataFrame()\n",
    "restored_actual_target_hourly_visitor_df['stop'] = restored_actual_CBG_hourly_visitor_df.iloc[:, 1:hour_cnt + 1].sum(axis=0) \n",
    "print(\"Restored actuall target hourly visitor (billion):\")\n",
    "print(restored_actual_target_hourly_visitor_df['stop'].sum() / 1000000000)\n",
    "restored_actual_target_hourly_visitor_df"
   ]
  },
  {
   "cell_type": "code",
   "execution_count": null,
   "id": "2a877d57-47e5-4881-88e0-b72baf4f4268",
   "metadata": {
    "execution": {
     "iopub.status.busy": "2024-01-29T02:06:07.639482Z",
     "iopub.status.idle": "2024-01-29T02:06:07.640480Z",
     "shell.execute_reply": "2024-01-29T02:06:07.640480Z",
     "shell.execute_reply.started": "2024-01-29T02:06:07.640480Z"
    }
   },
   "outputs": [],
   "source": [
    "# save the restored actual visitor count\n",
    "restored_actual_CBG_hourly_visitor_df.to_csv(restored_CBG_hourly_vistor_count_fname, index=False)\n",
    "restored_actual_target_hourly_visitor_df.to_csv(restored_target_hourly_vistor_count_fname, index=False)"
   ]
  },
  {
   "cell_type": "markdown",
   "id": "8a3b9057-4d1a-4f79-aa2e-660bc2e9d26d",
   "metadata": {},
   "source": [
    "## IPF"
   ]
  },
  {
   "cell_type": "markdown",
   "id": "d31a8086-d0d6-47a6-a602-f7e58e74ed89",
   "metadata": {},
   "source": [
    "### Load data"
   ]
  },
  {
   "cell_type": "code",
   "execution_count": null,
   "id": "1387789f-bf80-4729-b8e0-1c74822e2757",
   "metadata": {
    "execution": {
     "iopub.status.busy": "2024-01-29T02:06:07.641481Z",
     "iopub.status.idle": "2024-01-29T02:06:07.642482Z",
     "shell.execute_reply": "2024-01-29T02:06:07.641481Z",
     "shell.execute_reply.started": "2024-01-29T02:06:07.641481Z"
    }
   },
   "outputs": [],
   "source": [
    "restored_actual_target_hourly_visitor_df = pd.read_csv(restored_target_hourly_vistor_count_fname, dtype={'CBG': str})\n",
    "print(\"Restored target total visitor count (billion):\")\n",
    "print(restored_actual_target_hourly_visitor_df['stop'].sum() / 1000000000) \n",
    "\n",
    "restored_actual_target_hourly_visitor_df"
   ]
  },
  {
   "cell_type": "code",
   "execution_count": null,
   "id": "74d6fd2c-2ffe-4975-8a8e-dfbc037d6a78",
   "metadata": {},
   "outputs": [],
   "source": []
  },
  {
   "cell_type": "markdown",
   "id": "178d1b07-2545-4bc2-b153-3d8839b1b6d9",
   "metadata": {},
   "source": [
    "Load the CBG stop distribution and compute the CBG aggregated restored visitors.\n",
    "\n",
    "How to convert the CBG device distribution to stop distribution?\n",
    "\n",
    "- option 1: convert the CBG device distribution to people distribution using device sampling rate, then using the people distribution as the stop distribution.\n",
    "- option 2: compute the stop_per_device for each CBG, and then the stop for each home CBG, then aggregate the home CBG stops.\n",
    "\n",
    "We use option 2 here."
   ]
  },
  {
   "cell_type": "code",
   "execution_count": null,
   "id": "e33b2365-3247-4518-bb10-f33637b1dbc6",
   "metadata": {
    "execution": {
     "iopub.status.busy": "2024-01-29T02:06:07.642482Z",
     "iopub.status.idle": "2024-01-29T02:06:07.643479Z",
     "shell.execute_reply": "2024-01-29T02:06:07.643479Z",
     "shell.execute_reply.started": "2024-01-29T02:06:07.643479Z"
    }
   },
   "outputs": [],
   "source": [
    "CBG_device_stop_origin_distribution_df = pd.read_csv(CBG_device_stop_origin_distribution_fname, dtype={'origin':str})\n",
    "CBG_device_stop_origin_distribution_df\n",
    "\n",
    "print(\"origin observed stop count (billion):\")\n",
    "print(CBG_device_stop_origin_distribution_df['stop'].sum() / 1000000000)"
   ]
  },
  {
   "cell_type": "code",
   "execution_count": null,
   "id": "b82bf874-c6bd-4a74-a87d-601917eb7693",
   "metadata": {
    "execution": {
     "iopub.status.busy": "2024-01-29T02:06:07.644482Z",
     "iopub.status.idle": "2024-01-29T02:06:07.644482Z",
     "shell.execute_reply": "2024-01-29T02:06:07.644482Z",
     "shell.execute_reply.started": "2024-01-29T02:06:07.644482Z"
    }
   },
   "outputs": [],
   "source": [
    "df = CBG_device_stop_origin_distribution_df.merge(people_per_device_df, left_on='origin', right_on='CBG_FIPS')\n",
    "df['restored_outgoer'] = df['stop'] * df['person_per_device']\n",
    "df['restored_outgoer'].sum() / 1000000000"
   ]
  },
  {
   "cell_type": "code",
   "execution_count": null,
   "id": "8bd91a14-3e01-48bb-96db-fd4e8c4064b0",
   "metadata": {
    "execution": {
     "iopub.status.busy": "2024-01-29T02:06:07.645480Z",
     "iopub.status.idle": "2024-01-29T02:06:07.645480Z",
     "shell.execute_reply": "2024-01-29T02:06:07.645480Z",
     "shell.execute_reply.started": "2024-01-29T02:06:07.645480Z"
    }
   },
   "outputs": [],
   "source": [
    "\n",
    "\n",
    "\n",
    "visitor_per_stop = restored_actual_target_hourly_visitor_df['stop'].sum() / CBG_device_stop_origin_distribution_df['stop'].sum() \n",
    "print(\"visitor_per_stop:\", visitor_per_stop)\n",
    "\n",
    "restored_CBG_origin_outgoer_df = CBG_device_stop_origin_distribution_df[['origin', 'stop']].copy()\n",
    "restored_CBG_origin_outgoer_df['stop'] = CBG_device_stop_origin_distribution_df['stop'] * visitor_per_stop\n",
    "\n",
    "print(\"restored CBG origin outgoer count (billion):\")\n",
    "restored_CBG_origin_outgoer_df['stop'].sum() / 1000000000\n",
    "\n",
    "restored_CBG_origin_outgoer_df"
   ]
  },
  {
   "cell_type": "code",
   "execution_count": null,
   "id": "a9f0236f-9050-493b-a50d-7c9d9b98abdb",
   "metadata": {
    "execution": {
     "iopub.status.busy": "2024-01-29T02:06:07.646481Z",
     "iopub.status.idle": "2024-01-29T02:06:07.647480Z",
     "shell.execute_reply": "2024-01-29T02:06:07.647480Z",
     "shell.execute_reply.started": "2024-01-29T02:06:07.647480Z"
    }
   },
   "outputs": [],
   "source": [
    "import numpy as np\n",
    "from ipfn import ipfn\n",
    "\n",
    "restored_outgoer_arr = restored_CBG_origin_outgoer_df['stop'].to_numpy()\n",
    "restored_actual_target_hourly_visitor_arr = restored_actual_target_hourly_visitor_df['stop'].to_numpy()\n",
    "\n",
    "aggregates = [restored_outgoer_arr, restored_actual_target_hourly_visitor_arr]\n",
    "dimensions = [[0], [1]]\n",
    "\n",
    "seed_arr = np.ones((len(restored_outgoer_arr), len(restored_actual_target_hourly_visitor_arr)))\n",
    "\n",
    "IPF = ipfn.ipfn(seed_arr, aggregates, dimensions, convergence_rate=1e-3)\n",
    "m = IPF.iteration()\n",
    "print(m.shape)"
   ]
  },
  {
   "cell_type": "code",
   "execution_count": null,
   "id": "3791e5ad-05fc-46f3-977e-5ccacc5fc6ef",
   "metadata": {
    "execution": {
     "iopub.status.busy": "2024-01-29T02:06:07.648481Z",
     "iopub.status.idle": "2024-01-29T02:06:07.648481Z",
     "shell.execute_reply": "2024-01-29T02:06:07.648481Z",
     "shell.execute_reply.started": "2024-01-29T02:06:07.648481Z"
    }
   },
   "outputs": [],
   "source": [
    "print(m.shape, restored_outgoer_arr.sum(), restored_actual_target_hourly_visitor_arr.sum())\n",
    "\n",
    "(m.sum(axis=1) - restored_outgoer_arr).sum(), (m.sum(axis=0) - restored_actual_target_hourly_visitor_arr).sum()"
   ]
  },
  {
   "cell_type": "code",
   "execution_count": null,
   "id": "65520744-f059-4ce8-8c57-cf17e0d29346",
   "metadata": {
    "execution": {
     "iopub.status.busy": "2024-01-29T02:06:07.649480Z",
     "iopub.status.idle": "2024-01-29T02:06:07.649480Z",
     "shell.execute_reply": "2024-01-29T02:06:07.649480Z",
     "shell.execute_reply.started": "2024-01-29T02:06:07.649480Z"
    }
   },
   "outputs": [],
   "source": [
    "# Save IPF results\n",
    "hourly_columns = [f'hour_{h+1}' for h in range(restored_actual_target_hourly_visitor_arr.shape[0])]\n",
    "IPF_df = pd.DataFrame(m, columns=hourly_columns)\n",
    "print(\"Total visitor (billion):\", IPF_df.sum().sum() / 1000000000)\n",
    "\n",
    " \n",
    "IPF_df['CBG'] = restored_CBG_origin_outgoer_df['origin']\n",
    "IPF_df = IPF_df[['CBG'] + hourly_columns]\n",
    "\n",
    "IPF_df.to_csv(IPF_results_fname, index=False)\n",
    "IPF_df"
   ]
  },
  {
   "cell_type": "markdown",
   "id": "f1d07bb2-f053-477d-89ac-241e13dd35b9",
   "metadata": {},
   "source": [
    "## Compute hourly population map"
   ]
  },
  {
   "cell_type": "markdown",
   "id": "ecb65e5b-6f1f-4fdb-b5f7-516313734a85",
   "metadata": {},
   "source": [
    "## Load the CBG population"
   ]
  },
  {
   "cell_type": "code",
   "execution_count": null,
   "id": "9ce675cc-993a-4fce-b88f-96ae66f112d9",
   "metadata": {
    "execution": {
     "iopub.status.busy": "2024-01-29T02:06:07.650986Z",
     "iopub.status.idle": "2024-01-29T02:06:07.650986Z",
     "shell.execute_reply": "2024-01-29T02:06:07.650986Z",
     "shell.execute_reply.started": "2024-01-29T02:06:07.650986Z"
    }
   },
   "outputs": [],
   "source": [
    "ACS_df = pd.read_csv(person_per_device_fname, dtype={\"CBG_FIPS\":str, \"county_FIPS\":str})\n",
    "ACS_df"
   ]
  },
  {
   "cell_type": "code",
   "execution_count": null,
   "id": "e352e991-3aae-4fa7-bc50-0ab8f311d90d",
   "metadata": {
    "execution": {
     "iopub.status.busy": "2024-01-29T02:06:07.652991Z",
     "iopub.status.idle": "2024-01-29T02:06:07.652991Z",
     "shell.execute_reply": "2024-01-29T02:06:07.652991Z",
     "shell.execute_reply.started": "2024-01-29T02:06:07.652991Z"
    }
   },
   "outputs": [],
   "source": [
    "IPF_df = pd.read_csv(IPF_results_fname, dtype={'CBG':str}).set_index('CBG')\n",
    "\n",
    "hour_cnt = IPF_df.shape[1]  \n",
    "print(f\"hour cnt: {hour_cnt}\")\n",
    "\n",
    "print(\"IPF total outbound (billion):\", IPF_df.sum().sum()/ 10**9)\n",
    "\n",
    "IPF_df"
   ]
  },
  {
   "cell_type": "code",
   "execution_count": null,
   "id": "dd111bf1-ba83-43b8-94b8-74abf7b410fa",
   "metadata": {
    "execution": {
     "iopub.status.busy": "2024-01-29T02:06:07.654991Z",
     "iopub.status.idle": "2024-01-29T02:06:07.654991Z",
     "shell.execute_reply": "2024-01-29T02:06:07.654991Z",
     "shell.execute_reply.started": "2024-01-29T02:06:07.654991Z"
    }
   },
   "outputs": [],
   "source": [
    "inbound_hourly_df_fname"
   ]
  },
  {
   "cell_type": "code",
   "execution_count": null,
   "id": "1cb5a5be-5518-449e-90f7-81f6708e90b0",
   "metadata": {
    "execution": {
     "iopub.status.busy": "2024-01-29T02:06:07.655992Z",
     "iopub.status.idle": "2024-01-29T02:06:07.655992Z",
     "shell.execute_reply": "2024-01-29T02:06:07.655992Z",
     "shell.execute_reply.started": "2024-01-29T02:06:07.655992Z"
    }
   },
   "outputs": [],
   "source": [
    "try:\n",
    "    restored_actual_CBG_hourly_visitor_df = pd.read_csv(inbound_hourly_df_fname, encoding='utf-8', dtype={'CBG':str}).set_index('CBG')\n",
    "except:\n",
    "    restored_actual_CBG_hourly_visitor_df = pd.read_csv(inbound_hourly_df_fname, encoding='utf-16', dtype={'CBG':str}).set_index('CBG')\n",
    "\n",
    "print(\"Total restored visitor count (billion):\", restored_actual_CBG_hourly_visitor_df.sum().sum() / 10**9)\n",
    "restored_actual_CBG_hourly_visitor_df"
   ]
  },
  {
   "cell_type": "markdown",
   "id": "ed79d7af-61ca-4f5b-9f53-2e1d31be4ba1",
   "metadata": {},
   "source": [
    "Find the common CBGs between IPF and ACS CBGs"
   ]
  },
  {
   "cell_type": "code",
   "execution_count": null,
   "id": "00b32fa1-8bbf-45bd-bd1c-49cce4f2ab58",
   "metadata": {},
   "outputs": [],
   "source": []
  },
  {
   "cell_type": "code",
   "execution_count": null,
   "id": "c037e33c-5f09-4061-8dc5-3c1354443b0c",
   "metadata": {
    "execution": {
     "iopub.status.busy": "2024-01-29T02:06:07.658994Z",
     "iopub.status.idle": "2024-01-29T02:06:07.659992Z",
     "shell.execute_reply": "2024-01-29T02:06:07.658994Z",
     "shell.execute_reply.started": "2024-01-29T02:06:07.658994Z"
    }
   },
   "outputs": [],
   "source": [
    "CBG_device_stop_origin_distribution_df = pd.read_csv(CBG_device_stop_origin_distribution_fname, dtype={'origin':str})\n",
    "CBG_device_stop_origin_distribution_df"
   ]
  },
  {
   "cell_type": "code",
   "execution_count": null,
   "id": "1896198a-2927-45eb-af02-a5727f3e7cd1",
   "metadata": {
    "execution": {
     "iopub.status.busy": "2024-01-29T02:06:07.660991Z",
     "iopub.status.idle": "2024-01-29T02:06:07.661992Z",
     "shell.execute_reply": "2024-01-29T02:06:07.660991Z",
     "shell.execute_reply.started": "2024-01-29T02:06:07.660991Z"
    }
   },
   "outputs": [],
   "source": [
    "CBGs = set(IPF_df.index).intersection(set(ACS_df['CBG_FIPS']))\n",
    "CBGs = CBGs.intersection(set(CBG_device_stop_origin_distribution_df['origin'])).intersection(set(restored_actual_CBG_hourly_visitor_df.index))\n",
    "CBGs = list(CBGs)\n",
    "print(\"Found CBG count:\", len(CBGs))"
   ]
  },
  {
   "cell_type": "code",
   "execution_count": null,
   "id": "d3c1d489-9e15-41e5-bf81-d8aa804f4556",
   "metadata": {
    "execution": {
     "iopub.status.busy": "2024-01-29T02:06:07.662999Z",
     "iopub.status.idle": "2024-01-29T02:06:07.662999Z",
     "shell.execute_reply": "2024-01-29T02:06:07.662999Z",
     "shell.execute_reply.started": "2024-01-29T02:06:07.662999Z"
    }
   },
   "outputs": [],
   "source": [
    "filtered_ACS_df = ACS_df.set_index(\"CBG_FIPS\").loc[CBGs].sort_index()\n",
    "\n",
    "filtered_outgoer_df = IPF_df.loc[CBGs].sort_index()\n",
    "filtered_visitor_df = restored_actual_CBG_hourly_visitor_df.loc[CBGs].iloc[:, :hour_cnt]\n",
    "\n",
    "print(\"Filtered restored outgoer count (billion):\", filtered_outgoer_df.sum().sum() / 1000000000)\n",
    "\n",
    "print(\"Filtered restored visitor count (billion):\", filtered_visitor_df.sum().sum() / 1000000000)\n",
    "\n",
    "filtered_outgoer_df\n",
    "filtered_visitor_df"
   ]
  },
  {
   "cell_type": "code",
   "execution_count": null,
   "id": "b41dfe4a-bd15-4ac8-b220-2102d18ea5a2",
   "metadata": {
    "execution": {
     "iopub.status.busy": "2024-01-29T02:06:07.664000Z",
     "iopub.status.idle": "2024-01-29T02:06:07.665000Z",
     "shell.execute_reply": "2024-01-29T02:06:07.665000Z",
     "shell.execute_reply.started": "2024-01-29T02:06:07.665000Z"
    }
   },
   "outputs": [],
   "source": [
    "hourly_population_base_df = filtered_outgoer_df.copy()\n",
    "\n",
    "for c in tqdm(hourly_population_base_df.columns):\n",
    "    hourly_population_base_df[c] = filtered_ACS_df['totalpopulation'].to_list()\n",
    "\n",
    "hourly_population_base_df"
   ]
  },
  {
   "cell_type": "code",
   "execution_count": null,
   "id": "1b504765-c586-4a0b-b2b8-730b3f619161",
   "metadata": {
    "execution": {
     "iopub.status.busy": "2024-01-29T02:06:07.665999Z",
     "iopub.status.idle": "2024-01-29T02:06:07.667000Z",
     "shell.execute_reply": "2024-01-29T02:06:07.665999Z",
     "shell.execute_reply.started": "2024-01-29T02:06:07.665999Z"
    }
   },
   "outputs": [],
   "source": [
    "hourly_population_map_df = hourly_population_base_df - filtered_outgoer_df + filtered_visitor_df \n",
    "\n",
    "print(\"Saving hourly map at: \", CBG_hourly_population_fname)\n",
    "hourly_population_map_df.to_csv(CBG_hourly_population_fname)\n",
    "\n",
    "\n",
    "hourly_population_map_df"
   ]
  },
  {
   "cell_type": "code",
   "execution_count": null,
   "id": "47b53ccb-7e6e-45bc-888c-6baa9d965542",
   "metadata": {
    "execution": {
     "iopub.status.busy": "2024-01-29T02:06:07.668000Z",
     "iopub.status.idle": "2024-01-29T02:06:07.668000Z",
     "shell.execute_reply": "2024-01-29T02:06:07.668000Z",
     "shell.execute_reply.started": "2024-01-29T02:06:07.668000Z"
    }
   },
   "outputs": [],
   "source": [
    "filtered_visitor_df#.sum(axis=0)"
   ]
  },
  {
   "cell_type": "code",
   "execution_count": null,
   "id": "88bc6be3-f91b-4804-948e-5a8ae7d73b68",
   "metadata": {
    "execution": {
     "iopub.status.busy": "2024-01-29T02:06:07.668998Z",
     "iopub.status.idle": "2024-01-29T02:06:07.669998Z",
     "shell.execute_reply": "2024-01-29T02:06:07.669998Z",
     "shell.execute_reply.started": "2024-01-29T02:06:07.669998Z"
    }
   },
   "outputs": [],
   "source": [
    "filtered_outgoer_df#.sum(axis=0)\n",
    "\n",
    "# hourly_population_df = filtered_IPF_df.copy()\n",
    "# for c in hourly_population_df.columns:\n",
    "#     hourly_population_df[c] = filtered_population_df['totalpopulation'].to_list()"
   ]
  },
  {
   "cell_type": "code",
   "execution_count": null,
   "id": "a26e508a-f052-4624-9516-b7ee544e6024",
   "metadata": {
    "execution": {
     "iopub.status.busy": "2024-01-29T02:06:07.670999Z",
     "iopub.status.idle": "2024-01-29T02:06:07.670999Z",
     "shell.execute_reply": "2024-01-29T02:06:07.670999Z",
     "shell.execute_reply.started": "2024-01-29T02:06:07.670999Z"
    }
   },
   "outputs": [],
   "source": [
    "hourly_population_map_df.sum(axis=0)"
   ]
  },
  {
   "cell_type": "code",
   "execution_count": null,
   "id": "2e52a4d7-4068-43a3-98c5-d922cf6ba602",
   "metadata": {
    "execution": {
     "iopub.status.busy": "2024-01-29T02:06:07.672000Z",
     "iopub.status.idle": "2024-01-29T02:06:07.672999Z",
     "shell.execute_reply": "2024-01-29T02:06:07.672999Z",
     "shell.execute_reply.started": "2024-01-29T02:06:07.672999Z"
    }
   },
   "outputs": [],
   "source": [
    "n = 10\n",
    "hourly_population_map_df = hourly_population_base_df.iloc[:n] - filtered_outgoer_df.iloc[:n] + filtered_visitor_df.iloc[:n] "
   ]
  },
  {
   "cell_type": "code",
   "execution_count": null,
   "id": "fb970da0-7a1e-47d0-b679-851f43bf1eee",
   "metadata": {},
   "outputs": [],
   "source": []
  },
  {
   "cell_type": "code",
   "execution_count": null,
   "id": "a4edd037-6f94-4ffb-b701-31904be49b43",
   "metadata": {},
   "outputs": [],
   "source": []
  },
  {
   "cell_type": "markdown",
   "id": "7d3008a4-51f9-40c2-94b3-0e72660d3983",
   "metadata": {},
   "source": [
    "## Show hourly population map"
   ]
  },
  {
   "cell_type": "code",
   "execution_count": null,
   "id": "5924bf97-7476-4f08-8758-89b58f8890d5",
   "metadata": {
    "execution": {
     "iopub.status.busy": "2024-01-29T02:06:07.673998Z",
     "iopub.status.idle": "2024-01-29T02:06:07.674999Z",
     "shell.execute_reply": "2024-01-29T02:06:07.674999Z",
     "shell.execute_reply.started": "2024-01-29T02:06:07.674999Z"
    }
   },
   "outputs": [],
   "source": [
    "# Load data\n",
    "hourly_population_map_df = pd.read_csv(CBG_hourly_population_fname, dtype={'CBG':str})\n",
    "hourly_population_map_df"
   ]
  },
  {
   "cell_type": "code",
   "execution_count": null,
   "id": "c153bbcb-a3f2-4fef-bc1d-cc8b7515b545",
   "metadata": {
    "execution": {
     "iopub.status.busy": "2024-01-29T02:06:07.676001Z",
     "iopub.status.idle": "2024-01-29T02:06:07.676001Z",
     "shell.execute_reply": "2024-01-29T02:06:07.676001Z",
     "shell.execute_reply.started": "2024-01-29T02:06:07.676001Z"
    }
   },
   "outputs": [],
   "source": [
    "# hourly_population_map_df"
   ]
  },
  {
   "cell_type": "code",
   "execution_count": null,
   "id": "376016f1-6849-44de-931d-28ff4cab513f",
   "metadata": {
    "execution": {
     "iopub.status.busy": "2024-01-29T02:06:07.678514Z",
     "iopub.status.idle": "2024-01-29T02:06:07.678514Z",
     "shell.execute_reply": "2024-01-29T02:06:07.678514Z",
     "shell.execute_reply.started": "2024-01-29T02:06:07.678514Z"
    }
   },
   "outputs": [],
   "source": [
    "ACS_df = pd.read_csv(person_per_device_fname, dtype={\"CBG_FIPS\":str, \"county_FIPS\":str})\n",
    "ACS_df['county_FIPS'] = ACS_df['county_FIPS'].astype(str).str.zfill(5)\n",
    "ACS_df"
   ]
  },
  {
   "cell_type": "code",
   "execution_count": null,
   "id": "084aec3d-1509-4341-b65d-29e06590c3f3",
   "metadata": {
    "execution": {
     "iopub.status.busy": "2024-01-29T02:06:07.679514Z",
     "iopub.status.idle": "2024-01-29T02:06:07.679514Z",
     "shell.execute_reply": "2024-01-29T02:06:07.679514Z",
     "shell.execute_reply.started": "2024-01-29T02:06:07.679514Z"
    }
   },
   "outputs": [],
   "source": [
    "def get_county_FIPS_dict():\n",
    "    county_gdf = gpd.read_file(r'https://github.com/gladcolor/spatial_data/raw/master/cb_2019_us_county_20m.zip')\n",
    "    state_gdf = gpd.read_file(r'https://github.com/gladcolor/spatial_data/raw/master/cb_2019_us_state_20m.zip')\n",
    "    county_gdf = county_gdf.merge(state_gdf[['STATEFP', 'STUSPS', 'NAME']], left_on='STATEFP', right_on='STATEFP', suffixes=['_county', '_state'])\n",
    "    county_gdf['county_state'] = county_gdf['NAME_county'] + ', ' + county_gdf['STUSPS']\n",
    "    county_gdf['GEOID'] = county_gdf['GEOID'].astype(str).str.zfill(5)\n",
    "    county_FIPS_dict = county_gdf.set_index(['county_state'])['GEOID'].to_dict()\n",
    "    return county_FIPS_dict\n",
    "\n",
    "county_FIPS_dict = get_county_FIPS_dict()\n",
    "# county_FIPS_dict"
   ]
  },
  {
   "cell_type": "code",
   "execution_count": null,
   "id": "6e3d9c2c-cb50-46b0-9bf3-de3f808841f4",
   "metadata": {
    "execution": {
     "iopub.status.busy": "2024-01-29T02:06:07.680513Z",
     "iopub.status.idle": "2024-01-29T02:06:07.680513Z",
     "shell.execute_reply": "2024-01-29T02:06:07.680513Z",
     "shell.execute_reply.started": "2024-01-29T02:06:07.680513Z"
    }
   },
   "outputs": [],
   "source": [
    "CBG_2019_fname = r\"D:\\OneDrive_PSU\\OneDrive - The Pennsylvania State University\\Research_doc\\Wild_fire\\blockgoups2019.zip\"\n",
    "CBG2019_gdf = gpd.read_file(CBG_2019_fname)\n",
    "CBG2019_gdf['county_FIPS'] = CBG2019_gdf['GEOID'].astype(str).str.zfill(12).str[:5]\n",
    "CBG2019_gdf['CBG'] = CBG2019_gdf['GEOID'].astype(str).str.zfill(12) \n"
   ]
  },
  {
   "cell_type": "code",
   "execution_count": null,
   "id": "abd6c4ca-05dd-4464-b9d8-d446bcd373cb",
   "metadata": {
    "execution": {
     "iopub.status.busy": "2024-01-29T02:06:07.683025Z",
     "iopub.status.idle": "2024-01-29T02:06:07.683025Z",
     "shell.execute_reply": "2024-01-29T02:06:07.683025Z",
     "shell.execute_reply.started": "2024-01-29T02:06:07.683025Z"
    }
   },
   "outputs": [],
   "source": [
    "CBG2019_gdf"
   ]
  },
  {
   "cell_type": "code",
   "execution_count": null,
   "id": "e86b12e4-004a-40b3-b62a-6d85d37117f6",
   "metadata": {
    "execution": {
     "iopub.status.busy": "2024-01-29T02:06:07.685026Z",
     "iopub.status.idle": "2024-01-29T02:06:07.685026Z",
     "shell.execute_reply": "2024-01-29T02:06:07.685026Z",
     "shell.execute_reply.started": "2024-01-29T02:06:07.685026Z"
    }
   },
   "outputs": [],
   "source": [
    " # hourly_population_map_df"
   ]
  },
  {
   "cell_type": "code",
   "execution_count": null,
   "id": "4403f07e-7694-49d7-8893-95324bd6acc8",
   "metadata": {
    "execution": {
     "iopub.status.busy": "2024-01-29T02:06:07.686025Z",
     "iopub.status.idle": "2024-01-29T02:06:07.686025Z",
     "shell.execute_reply": "2024-01-29T02:06:07.686025Z",
     "shell.execute_reply.started": "2024-01-29T02:06:07.686025Z"
    }
   },
   "outputs": [],
   "source": [
    "hour_cnt = hourly_population_map_df.shape[1] - 2\n",
    "print(\"hour_cnt:\", hour_cnt)"
   ]
  },
  {
   "cell_type": "code",
   "execution_count": null,
   "id": "2dbfa278-eec9-41e8-a6e4-0f9550aeea9a",
   "metadata": {
    "execution": {
     "iopub.status.busy": "2024-01-29T02:06:07.688024Z",
     "iopub.status.idle": "2024-01-29T02:06:07.689026Z",
     "shell.execute_reply": "2024-01-29T02:06:07.689026Z",
     "shell.execute_reply.started": "2024-01-29T02:06:07.689026Z"
    }
   },
   "outputs": [],
   "source": [
    "hourly_population_map_df.iloc[:, 1:hour_cnt]"
   ]
  },
  {
   "cell_type": "code",
   "execution_count": null,
   "id": "7f88613c-50ba-41e0-a389-53d6f950d30c",
   "metadata": {
    "execution": {
     "iopub.status.busy": "2024-01-29T02:06:07.691026Z",
     "iopub.status.idle": "2024-01-29T02:06:07.691026Z",
     "shell.execute_reply": "2024-01-29T02:06:07.691026Z",
     "shell.execute_reply.started": "2024-01-29T02:06:07.691026Z"
    }
   },
   "outputs": [],
   "source": [
    "import warnings\n",
    "\n",
    "# Suppress all future warnings\n",
    "warnings.simplefilter(action='ignore', category=FutureWarning)\n",
    "\n",
    "cmap = 'viridis'\n",
    "day = 12\n",
    "\n",
    "target_county = 'New York, NY'\n",
    "target_county = 'Centre, PA'\n",
    "target_county = 'Richland, SC'\n",
    "target_county = 'Lexington, SC'\n",
    "target_county = 'Union, NJ'\n",
    "target_county = 'Fairfax, VA'\n",
    "target_county = 'Los Angeles, CA'\n",
    "target_county = 'Cook, IL'\n",
    "target_county = 'Harris, TX'\n",
    "target_county = 'Maricopa, AZ'\n",
    "target_county = 'San Diego, CA'\n",
    "target_county = 'Orange, CA'\n",
    "target_county = 'Miami-Dade, FL'\n",
    "target_county = 'Dallas, TX'\n",
    "target_county = 'King, WA'\n",
    "target_county = 'Riverside, CA'\n",
    "target_county = 'Hudson, NJ'\n",
    "target_county = 'Essex, NJ'\n",
    "target_county = 'Berkshire, MA'\n",
    "\n",
    "\n",
    "def draw_county_map(target_county):\n",
    "    target_county = 'New York, NY'\n",
    "    county_FIPS = county_FIPS_dict[target_county]\n",
    "    \n",
    "    target_counties = [county_FIPS] # ['36061']   # 06039\n",
    "    hourly_population_map_df['county_FIPS'] = hourly_population_map_df.reset_index()['CBG'].astype(str).str[:5].to_list()\n",
    "    target_hourly_pop_df = hourly_population_map_df[hourly_population_map_df['county_FIPS'].isin(target_counties)]\n",
    "    \n",
    "    target_pop_df = ACS_df[ACS_df['county_FIPS'].isin(target_counties)]\n",
    "    \n",
    "    \n",
    "    target_blockgroup_gdf = CBG2019_gdf[CBG2019_gdf['county_FIPS'].isin(target_counties)]\n",
    "    target_blockgroup_gdf\n",
    "    \n",
    "    row_cnt = 2\n",
    "    col_cnt = 13\n",
    "    # vmax = max(target_hourly_pop_df.iloc[:, :hour_cnt].max(axis=1).max(), target_pop_df['totalpopulation'].max())\n",
    "    # vmax = target_hourly_pop_df.iloc[:, :hour_cnt ].mean(axis=1).mean() + target_hourly_pop_df.iloc[:, :hour_cnt].mean(axis=1).std() * 3\n",
    "    print(\"target_hourly_pop_df:\\n\", target_hourly_pop_df.iloc[:, 1: hour_cnt + 1].mean(axis=1).mean())\n",
    "    vmax = target_hourly_pop_df.iloc[:, 1: hour_cnt + 1].mean(axis=1).mean() + target_hourly_pop_df.iloc[:, 1:hour_cnt + 1].mean(axis=1).std() * 3\n",
    "    \n",
    "    print(\"vmax: \", vmax)\n",
    "    fig, axs = plt.subplots(figsize=(40, 10), nrows=row_cnt, ncols=col_cnt)\n",
    "    \n",
    "    # draw hourly map\n",
    "    used_ax_cnt = 0\n",
    "    hour_24_pop = []\n",
    "    for row in range(row_cnt):\n",
    "        for col in range(1, col_cnt, 1):\n",
    "            # if used_ax_cnt == 24:\n",
    "            #     continue\n",
    "            merged_gdf = target_blockgroup_gdf.merge(target_hourly_pop_df, left_on='CBG', right_on='CBG')\n",
    "            hour = used_ax_cnt\n",
    "            ax=axs[row, col]\n",
    "            ax.axis('off')\n",
    "            ax.set_title(f\"{hour:02}:00:00\")\n",
    "            hour_column = f'hour_{hour + 1 + 24*(day - 1)}'\n",
    "            merged_gdf.plot(column=hour_column, ax=ax, vmax=vmax, cmap=cmap)  # , vmax=vmax ,  legend=True\n",
    "            # merged_gdf.plot(column=hour_column, ax=ax, cmap=cmap)\n",
    "            hour_24_pop.append(target_hourly_pop_df[hour_column].sum())\n",
    "            used_ax_cnt += 1\n",
    "    \n",
    "    ax=axs[0, 0]\n",
    "    ax.axis('off')\n",
    "    ax.set_title(f\"ACS 2019 Population\")\n",
    "    merged_gdf = target_blockgroup_gdf.merge(target_pop_df, left_on='CBG', right_on='CBG_FIPS')\n",
    "    # merged_gdf.plot(column='totalpopulation', ax=ax,  cmap=cmap) # , vmax=vmax ,  legend=True\n",
    "    merged_gdf.plot(column='totalpopulation', ax=ax, vmax=vmax, cmap=cmap)\n",
    "    \n",
    "    # draw county-level population\n",
    "    ax=axs[1, 0]\n",
    "    # ax.axis('off')\n",
    "    ax.set_title('County hourly population')\n",
    "    ax.set_ylabel('Population')\n",
    "    ax.set_xlabel('Hour')\n",
    "    ax.plot(hour_24_pop, label='hourly population')\n",
    "    ax.axhline(merged_gdf['totalpopulation'].sum(), color='red', label='ACS population')\n",
    "    ax.legend()\n",
    "    \n",
    "     \n",
    "    fig.suptitle(f\"Hourly population of county {target_county}: {year}-{month:02}-{day:02}\", fontsize=24, y=1)\n",
    "    \n",
    "    \n",
    "    # Add colorbar axes at the bottom and align it with the left and right of the subplots\n",
    "    pos1 = axs[0, 0].get_position() # get the original position for first axis\n",
    "    pos2 = axs[-1, -1].get_position()\n",
    "    cax = fig.add_axes([pos1.x0 * 1.01, 0, (pos2.x1 - pos1.x0) * 0.99, 0.008])    # [left, bottom, width, height]  # bottom\n",
    "    value_max =vmax\n",
    "    value_min = 0\n",
    "    \n",
    "    sm = plt.cm.ScalarMappable(cmap=cmap, norm=plt.Normalize(vmin=value_min, vmax=value_max))\n",
    "    sm._A = []\n",
    "    # plt.colorbar(sm, cax=cax, label=\"Bias\")\n",
    "    cbar = plt.colorbar(sm, cax=cax, orientation='horizontal')\n",
    "    \n",
    "    for t in cbar.ax.get_xticklabels():\n",
    "        t.set_fontsize(16)\n",
    "    \n",
    "    cbar.set_label('Population', labelpad=-80,   rotation=0, fontsize=24, loc='center')\n",
    "    \n",
    "    png_name = os.path.join(save_dir, f\"{target_county.replace(', ', '_')}_hourly_population_{year}{month:02}{day:02}_v3.png\")\n",
    "    \n",
    "    plt.savefig(png_name, dpi=300, bbox_inches='tight', pad_inches=0.2)\n",
    "    plt.close()\n",
    "\n",
    "for target_county, FIPS in tqdm(county_FIPS_dict.items()):\n",
    "    print(target_county)\n",
    "    draw_county_map(target_county)\n",
    "    break\n",
    "\n",
    "print(\"Done\")"
   ]
  },
  {
   "cell_type": "code",
   "execution_count": null,
   "id": "b8690b05-403e-46ae-8195-2b9ecd773a8b",
   "metadata": {
    "execution": {
     "iopub.status.busy": "2024-01-29T02:06:07.692026Z",
     "iopub.status.idle": "2024-01-29T02:06:07.693027Z",
     "shell.execute_reply": "2024-01-29T02:06:07.693027Z",
     "shell.execute_reply.started": "2024-01-29T02:06:07.693027Z"
    }
   },
   "outputs": [],
   "source": [
    "target_hourly_pop_df\n",
    "merged_gdf\n",
    "hourly_population_map_df\n",
    "target_blockgroup_gdf\n",
    "target_county"
   ]
  },
  {
   "cell_type": "markdown",
   "id": "4e5deb28-8c84-4cdb-93e3-388d356df2e6",
   "metadata": {},
   "source": [
    "# Extract data for South Carolina"
   ]
  },
  {
   "cell_type": "code",
   "execution_count": null,
   "id": "6c2124d8-afdd-4c7f-8915-76cc4a589d4a",
   "metadata": {
    "execution": {
     "iopub.status.busy": "2024-01-29T02:06:07.694024Z",
     "iopub.status.idle": "2024-01-29T02:06:07.694024Z",
     "shell.execute_reply": "2024-01-29T02:06:07.694024Z",
     "shell.execute_reply.started": "2024-01-29T02:06:07.694024Z"
    }
   },
   "outputs": [],
   "source": [
    "state_FIPS = '45'\n",
    "year = '2023'\n",
    "month = 6\n",
    "\n",
    "houry_population_fname = os.path.join(save_dir, 'for_South_Carolina', f'state_FIPS_{state_FIPS:02}_hourly_population_{year}{month:02}.csv')\n",
    "print('houry_population_fname:', houry_population_fname)\n",
    "\n",
    "inbound_fname = os.path.join(save_dir, 'for_South_Carolina', f'state_FIPS_{state_FIPS:02}_hourly_inbound_{year}{month:02}.csv')\n",
    "print('inbound_fname:', inbound_fname)\n",
    "\n",
    "outbound_fname = os.path.join(save_dir, 'for_South_Carolina', f'state_FIPS_{state_FIPS:02}_hourly_outbound_{year}{month:02}.csv')\n",
    "print('inbound_fname:', outbound_fname)\n",
    "\n",
    "device_distribution_fname = os.path.join(save_dir, 'for_South_Carolina', f'state_FIPS_{state_FIPS:02}_monthly_device_distribution_{year}{month:02}.csv')\n",
    "print('device_distribution_fname:', device_distribution_fname)\n",
    "\n",
    "device_sampling_rate_fname = os.path.join(save_dir, 'for_South_Carolina', f'state_FIPS_{state_FIPS:02}_monthly_device_sampling_rate_{year}{month:02}.csv')\n",
    "print('device_sampling_rate_fname:', device_sampling_rate_fname)"
   ]
  },
  {
   "cell_type": "code",
   "execution_count": null,
   "id": "2c275280-14e2-4895-a810-3a435305d0af",
   "metadata": {
    "execution": {
     "iopub.status.busy": "2024-01-29T02:06:07.695024Z",
     "iopub.status.idle": "2024-01-29T02:06:07.696026Z",
     "shell.execute_reply": "2024-01-29T02:06:07.696026Z",
     "shell.execute_reply.started": "2024-01-29T02:06:07.696026Z"
    }
   },
   "outputs": [],
   "source": [
    "# Outbound\n",
    "IPF_df = pd.read_csv(IPF_results_fname, dtype={'CBG':str}).set_index('CBG')\n",
    "\n",
    "hour_cnt = IPF_df.shape[1]  \n",
    "print(f\"hour cnt: {hour_cnt}\")\n",
    "\n",
    "print(\"IPF total outbound (billion):\", IPF_df.iloc[:, :].sum().sum()/ 10**9)\n",
    "\n",
    "IPF_df"
   ]
  },
  {
   "cell_type": "code",
   "execution_count": null,
   "id": "daab1b25-5a95-416b-b628-c0404c536a85",
   "metadata": {
    "execution": {
     "iopub.status.busy": "2024-01-29T02:06:07.696026Z",
     "iopub.status.idle": "2024-01-29T02:06:07.697026Z",
     "shell.execute_reply": "2024-01-29T02:06:07.697026Z",
     "shell.execute_reply.started": "2024-01-29T02:06:07.697026Z"
    }
   },
   "outputs": [],
   "source": [
    "# outbound_fname\n",
    "extracted_IPF_df = IPF_df[IPF_df.index.str.startswith(state_FIPS)]\n",
    "extracted_IPF_df.to_csv(outbound_fname, index=True)\n",
    "extracted_IPF_df"
   ]
  },
  {
   "cell_type": "code",
   "execution_count": null,
   "id": "9e54d52a-87fd-4bbb-9258-a3fe0fa82469",
   "metadata": {},
   "outputs": [],
   "source": [
    "\n",
    "\n"
   ]
  },
  {
   "cell_type": "code",
   "execution_count": null,
   "id": "2232f98f-9fb0-49d1-b11d-e9a22e6d4776",
   "metadata": {},
   "outputs": [],
   "source": []
  },
  {
   "cell_type": "code",
   "execution_count": null,
   "id": "ce01c1e9-f812-401d-9e89-8d3544f44e3d",
   "metadata": {
    "execution": {
     "iopub.status.busy": "2024-01-29T02:06:07.698026Z",
     "iopub.status.idle": "2024-01-29T02:06:07.698026Z",
     "shell.execute_reply": "2024-01-29T02:06:07.698026Z",
     "shell.execute_reply.started": "2024-01-29T02:06:07.698026Z"
    }
   },
   "outputs": [],
   "source": [
    "# Inbound\n",
    "try:\n",
    "    restored_actual_CBG_hourly_visitor_df = pd.read_csv(inbound_hourly_df_fname, encoding='utf-8', dtype={'CBG':str}).set_index('CBG')\n",
    "except:\n",
    "    restored_actual_CBG_hourly_visitor_df = pd.read_csv(inbound_hourly_df_fname, encoding='utf-16', dtype={'CBG':str}).set_index('CBG')\n",
    "\n",
    "restored_actual_CBG_hourly_visitor_df = restored_actual_CBG_hourly_visitor_df.iloc[:, :hour_cnt]\n",
    "print(\"Total restored visitor count (billion):\", restored_actual_CBG_hourly_visitor_df.sum().sum() / 10**9)\n",
    "restored_actual_CBG_hourly_visitor_df"
   ]
  },
  {
   "cell_type": "code",
   "execution_count": null,
   "id": "05ab331a-3fd4-4b00-b1b5-609c4efe8fbf",
   "metadata": {
    "execution": {
     "iopub.status.busy": "2024-01-29T02:06:07.699031Z",
     "iopub.status.idle": "2024-01-29T02:06:07.700031Z",
     "shell.execute_reply": "2024-01-29T02:06:07.700031Z",
     "shell.execute_reply.started": "2024-01-29T02:06:07.700031Z"
    }
   },
   "outputs": [],
   "source": [
    "# inbound_fname\n",
    "extracted_inboud_df = restored_actual_CBG_hourly_visitor_df[restored_actual_CBG_hourly_visitor_df.index.str.startswith(state_FIPS)]\n",
    "extracted_inboud_df.to_csv(inbound_fname, index=True)\n",
    "extracted_inboud_df"
   ]
  },
  {
   "cell_type": "code",
   "execution_count": null,
   "id": "18f13752-6c65-49a3-887b-7d23ba7bc754",
   "metadata": {
    "execution": {
     "iopub.status.busy": "2024-01-29T02:06:07.701030Z",
     "iopub.status.idle": "2024-01-29T02:06:07.701030Z",
     "shell.execute_reply": "2024-01-29T02:06:07.701030Z",
     "shell.execute_reply.started": "2024-01-29T02:06:07.701030Z"
    }
   },
   "outputs": [],
   "source": [
    "# Load the hourly map\n",
    "hourly_population_map_df = pd.read_csv(CBG_hourly_population_fname, dtype={'CBG':str}).set_index('CBG')\n",
    "hourly_population_map_df"
   ]
  },
  {
   "cell_type": "code",
   "execution_count": null,
   "id": "fc036b00-a400-497e-81f8-8bf42aa3c580",
   "metadata": {
    "execution": {
     "iopub.status.busy": "2024-01-29T02:06:07.703031Z",
     "iopub.status.idle": "2024-01-29T02:06:07.703031Z",
     "shell.execute_reply": "2024-01-29T02:06:07.703031Z",
     "shell.execute_reply.started": "2024-01-29T02:06:07.703031Z"
    }
   },
   "outputs": [],
   "source": [
    "# houry_population_fname\n",
    "houry_population_df = hourly_population_map_df[hourly_population_map_df.index.str.startswith(state_FIPS)]\n",
    "houry_population_df.to_csv(houry_population_fname, index=True)\n",
    "houry_population_df"
   ]
  },
  {
   "cell_type": "code",
   "execution_count": null,
   "id": "9887f415-f41f-4d53-bcbd-f144df24e976",
   "metadata": {},
   "outputs": [],
   "source": []
  },
  {
   "cell_type": "code",
   "execution_count": null,
   "id": "f989c2c4-75cc-4d05-834b-526a71d54ec9",
   "metadata": {},
   "outputs": [],
   "source": []
  },
  {
   "cell_type": "code",
   "execution_count": null,
   "id": "b3de58a0-50c0-4f64-8ae9-75abafd92d65",
   "metadata": {
    "execution": {
     "iopub.status.busy": "2024-01-29T02:06:07.704031Z",
     "iopub.status.idle": "2024-01-29T02:06:07.705032Z",
     "shell.execute_reply": "2024-01-29T02:06:07.704031Z",
     "shell.execute_reply.started": "2024-01-29T02:06:07.704031Z"
    }
   },
   "outputs": [],
   "source": [
    "# device distribution\n",
    "device_home_areas_df = pd.read_csv(device_home_areas_fname, dtype={\"origin\":str, \"destination\":str})\n",
    "device_home_areas_df\n"
   ]
  },
  {
   "cell_type": "code",
   "execution_count": null,
   "id": "954d3015-3955-456b-8cd5-bb363fbddb55",
   "metadata": {
    "execution": {
     "iopub.status.busy": "2024-01-29T02:06:07.706030Z",
     "iopub.status.idle": "2024-01-29T02:06:07.706030Z",
     "shell.execute_reply": "2024-01-29T02:06:07.706030Z",
     "shell.execute_reply.started": "2024-01-29T02:06:07.706030Z"
    }
   },
   "outputs": [],
   "source": [
    "# device_distribution_fname\n",
    "extracted_device_distribution_df = device_home_areas_df[device_home_areas_df['destination'].str.startswith(state_FIPS)]\n",
    "extracted_device_distribution_df = extracted_device_distribution_df[extracted_device_distribution_df['origin'].str.startswith(state_FIPS)]\n",
    "\n",
    "extracted_device_distribution_df.to_csv(device_distribution_fname, index=False)\n",
    "extracted_device_distribution_df"
   ]
  },
  {
   "cell_type": "code",
   "execution_count": null,
   "id": "5cd08c2d-78b9-40a4-8e82-26471df4b932",
   "metadata": {
    "execution": {
     "iopub.status.busy": "2024-01-29T02:06:07.707033Z",
     "iopub.status.idle": "2024-01-29T02:06:07.708030Z",
     "shell.execute_reply": "2024-01-29T02:06:07.708030Z",
     "shell.execute_reply.started": "2024-01-29T02:06:07.708030Z"
    }
   },
   "outputs": [],
   "source": [
    "# Load device sampling rate\n",
    "print(\"Loading people_per_device_df from:\", person_per_device_fname)\n",
    "person_per_device_df = pd.read_csv(person_per_device_fname, dtype={\"CBG_FIPS\": str})\n",
    "\n",
    "print(\"Total totalpopulation (billion):\", person_per_device_df['totalpopulation'].sum() / 10**9)\n",
    "person_per_device_df"
   ]
  },
  {
   "cell_type": "code",
   "execution_count": null,
   "id": "9b3fb70a-8ba7-4bd1-b343-012c56558237",
   "metadata": {
    "execution": {
     "iopub.status.busy": "2024-01-29T02:06:07.709031Z",
     "iopub.status.idle": "2024-01-29T02:06:07.709031Z",
     "shell.execute_reply": "2024-01-29T02:06:07.709031Z",
     "shell.execute_reply.started": "2024-01-29T02:06:07.709031Z"
    }
   },
   "outputs": [],
   "source": [
    "# device_sampling_rate_fname\n",
    "extracted_person_per_device_df = person_per_device_df[person_per_device_df['CBG_FIPS'].str.startswith(state_FIPS)]\n",
    "extracted_person_per_device_df.to_csv(device_sampling_rate_fname, index=False)\n",
    "extracted_person_per_device_df"
   ]
  },
  {
   "cell_type": "code",
   "execution_count": null,
   "id": "91d8dff8-e104-413d-be6c-acabf5543298",
   "metadata": {},
   "outputs": [],
   "source": []
  }
 ],
 "metadata": {
  "kernelspec": {
   "display_name": "geo",
   "language": "python",
   "name": "geo"
  },
  "language_info": {
   "codemirror_mode": {
    "name": "ipython",
    "version": 3
   },
   "file_extension": ".py",
   "mimetype": "text/x-python",
   "name": "python",
   "nbconvert_exporter": "python",
   "pygments_lexer": "ipython3",
   "version": "3.9.18"
  }
 },
 "nbformat": 4,
 "nbformat_minor": 5
}
